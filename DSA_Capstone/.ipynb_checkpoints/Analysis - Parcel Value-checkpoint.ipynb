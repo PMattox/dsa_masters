{
 "cells": [
  {
   "cell_type": "markdown",
   "metadata": {},
   "source": [
    "# Analysis - Parcel Value"
   ]
  },
  {
   "cell_type": "markdown",
   "metadata": {},
   "source": [
    "Looking into the results of [geodata fusion](Geodata%20Fusion.ipynb) work to quantify the impacts of sex offender residence restrictions."
   ]
  },
  {
   "cell_type": "code",
   "execution_count": 1,
   "metadata": {},
   "outputs": [],
   "source": [
    "# IMPORTS\n",
    "import geopandas as gpd\n",
    "import pandas as pd\n",
    "\n",
    "import os\n",
    "import urllib.request\n",
    "import requests\n",
    "import shutil\n",
    "from pathlib import Path\n",
    "from zipfile import ZipFile\n",
    "\n",
    "import matplotlib.pyplot as plt\n",
    "from matplotlib import pyplot\n",
    "\n",
    "import folium\n",
    "\n",
    "from shapely.geometry import Point, Polygon\n",
    "\n",
    "from geopandas.tools import overlay"
   ]
  },
  {
   "cell_type": "code",
   "execution_count": 2,
   "metadata": {},
   "outputs": [],
   "source": [
    "# pip install GeoAlchemy2"
   ]
  },
  {
   "cell_type": "code",
   "execution_count": 3,
   "metadata": {},
   "outputs": [],
   "source": [
    "# a few more imports specfic to the database process\n",
    "# import geoalchemy2 # this is only needed if we're going to load data back into PostGIS\n",
    "import getpass\n",
    "\n",
    "import psycopg2\n",
    "import numpy\n",
    "from psycopg2.extensions import adapt, register_adapter, AsIs\n",
    "\n",
    "from sqlalchemy import create_engine\n"
   ]
  },
  {
   "cell_type": "markdown",
   "metadata": {},
   "source": [
    "### Establish database connection"
   ]
  },
  {
   "cell_type": "code",
   "execution_count": 4,
   "metadata": {},
   "outputs": [
    {
     "name": "stdout",
     "output_type": "stream",
     "text": [
      "········\n"
     ]
    }
   ],
   "source": [
    "# get user password for connecting to the db\n",
    "mypasswd = getpass.getpass()"
   ]
  },
  {
   "cell_type": "code",
   "execution_count": 5,
   "metadata": {},
   "outputs": [],
   "source": [
    "# set up db connection\n",
    "conn = psycopg2.connect(database = 'cappsds_psmd39', \n",
    "                              user = 'psmd39', \n",
    "                              host = 'pgsql.dsa.lan',\n",
    "                              password = mypasswd)\n"
   ]
  },
  {
   "cell_type": "code",
   "execution_count": 6,
   "metadata": {
    "scrolled": true
   },
   "outputs": [
    {
     "data": {
      "text/plain": [
       "['country_borders',\n",
       " 'gadm_admin_borders',\n",
       " 'geonames_feature',\n",
       " 'msorfailedgeocoding',\n",
       " 'msorfailedgeocodingv2',\n",
       " 'spatial_ref_sys',\n",
       " 'stlchildcare',\n",
       " 'stlnonrestrictedresidential',\n",
       " 'stlnonrestrictedresparcels',\n",
       " 'stlpubschools',\n",
       " 'stlpvtschools',\n",
       " 'stlresparcels',\n",
       " 'stlrestrictedflat',\n",
       " 'stlrestrictedresparcels',\n",
       " 'stlsexoffenders',\n",
       " 'stlzoning']"
      ]
     },
     "execution_count": 6,
     "metadata": {},
     "output_type": "execute_result"
    }
   ],
   "source": [
    "# establish cursor and read the existing tables\n",
    "cursor = conn.cursor()\n",
    "\n",
    "cursor.execute(\"\"\"SELECT relname FROM pg_class WHERE relkind='r'\n",
    "                  AND relname !~ '^(pg_|sql_)';\"\"\") # \"rel\" is short for relation.\n",
    "\n",
    "tables = [i[0] for i in cursor.fetchall()] # A list() of tables.\n",
    "tables.sort()\n",
    "tables\n"
   ]
  },
  {
   "cell_type": "markdown",
   "metadata": {},
   "source": [
    "#### Pull residental parcel data from PostGIS database"
   ]
  },
  {
   "cell_type": "code",
   "execution_count": 7,
   "metadata": {},
   "outputs": [
    {
     "data": {
      "text/html": [
       "<div>\n",
       "<style scoped>\n",
       "    .dataframe tbody tr th:only-of-type {\n",
       "        vertical-align: middle;\n",
       "    }\n",
       "\n",
       "    .dataframe tbody tr th {\n",
       "        vertical-align: top;\n",
       "    }\n",
       "\n",
       "    .dataframe thead th {\n",
       "        text-align: right;\n",
       "    }\n",
       "</style>\n",
       "<table border=\"1\" class=\"dataframe\">\n",
       "  <thead>\n",
       "    <tr style=\"text-align: right;\">\n",
       "      <th></th>\n",
       "      <th>handle</th>\n",
       "      <th>asdtotal</th>\n",
       "      <th>ressaleprice</th>\n",
       "      <th>nbrofbldgsres</th>\n",
       "      <th>zoning</th>\n",
       "      <th>geom</th>\n",
       "    </tr>\n",
       "  </thead>\n",
       "  <tbody>\n",
       "    <tr>\n",
       "      <th>0</th>\n",
       "      <td>10099008011</td>\n",
       "      <td>48000</td>\n",
       "      <td>0.0</td>\n",
       "      <td>1</td>\n",
       "      <td>L</td>\n",
       "      <td>POLYGON ((589069.054 1017608.454, 589052.273 1...</td>\n",
       "    </tr>\n",
       "    <tr>\n",
       "      <th>1</th>\n",
       "      <td>10099008011</td>\n",
       "      <td>249700</td>\n",
       "      <td>0.0</td>\n",
       "      <td>1</td>\n",
       "      <td>L</td>\n",
       "      <td>POLYGON ((589069.054 1017608.454, 589052.273 1...</td>\n",
       "    </tr>\n",
       "    <tr>\n",
       "      <th>2</th>\n",
       "      <td>10099008011</td>\n",
       "      <td>278400</td>\n",
       "      <td>0.0</td>\n",
       "      <td>1</td>\n",
       "      <td>L</td>\n",
       "      <td>POLYGON ((589069.054 1017608.454, 589052.273 1...</td>\n",
       "    </tr>\n",
       "    <tr>\n",
       "      <th>3</th>\n",
       "      <td>10099008011</td>\n",
       "      <td>161900</td>\n",
       "      <td>0.0</td>\n",
       "      <td>1</td>\n",
       "      <td>L</td>\n",
       "      <td>POLYGON ((589069.054 1017608.454, 589052.273 1...</td>\n",
       "    </tr>\n",
       "    <tr>\n",
       "      <th>4</th>\n",
       "      <td>10099008011</td>\n",
       "      <td>169800</td>\n",
       "      <td>0.0</td>\n",
       "      <td>1</td>\n",
       "      <td>L</td>\n",
       "      <td>POLYGON ((589069.054 1017608.454, 589052.273 1...</td>\n",
       "    </tr>\n",
       "  </tbody>\n",
       "</table>\n",
       "</div>"
      ],
      "text/plain": [
       "        handle  asdtotal  ressaleprice  nbrofbldgsres zoning  \\\n",
       "0  10099008011     48000           0.0              1      L   \n",
       "1  10099008011    249700           0.0              1      L   \n",
       "2  10099008011    278400           0.0              1      L   \n",
       "3  10099008011    161900           0.0              1      L   \n",
       "4  10099008011    169800           0.0              1      L   \n",
       "\n",
       "                                                geom  \n",
       "0  POLYGON ((589069.054 1017608.454, 589052.273 1...  \n",
       "1  POLYGON ((589069.054 1017608.454, 589052.273 1...  \n",
       "2  POLYGON ((589069.054 1017608.454, 589052.273 1...  \n",
       "3  POLYGON ((589069.054 1017608.454, 589052.273 1...  \n",
       "4  POLYGON ((589069.054 1017608.454, 589052.273 1...  "
      ]
     },
     "execution_count": 7,
     "metadata": {},
     "output_type": "execute_result"
    }
   ],
   "source": [
    "# create sql statement and pull from db into a geopandas dataframe\n",
    "# we only need residential data here, so specify that during the SELECT\n",
    "sql = \"SELECT handle, asdtotal, ressaleprice, nbrofbldgsres, zoning, geometry as geom FROM stlresparcels;\"\n",
    "gdf_parcels = gpd.read_postgis(sql, conn)\n",
    "# gpd_childcare = gpd_childcare.drop(columns='geometry') # drop the duplicate geometry column\n",
    "gdf_parcels.head()"
   ]
  },
  {
   "cell_type": "code",
   "execution_count": 8,
   "metadata": {},
   "outputs": [
    {
     "data": {
      "text/plain": [
       "(98668, 6)"
      ]
     },
     "execution_count": 8,
     "metadata": {},
     "output_type": "execute_result"
    }
   ],
   "source": [
    "gdf_parcels.shape"
   ]
  },
  {
   "cell_type": "markdown",
   "metadata": {},
   "source": [
    "#### Pull nonrestricted area geometry from PostGIS database"
   ]
  },
  {
   "cell_type": "code",
   "execution_count": 9,
   "metadata": {
    "scrolled": false
   },
   "outputs": [
    {
     "data": {
      "text/html": [
       "<div>\n",
       "<style scoped>\n",
       "    .dataframe tbody tr th:only-of-type {\n",
       "        vertical-align: middle;\n",
       "    }\n",
       "\n",
       "    .dataframe tbody tr th {\n",
       "        vertical-align: top;\n",
       "    }\n",
       "\n",
       "    .dataframe thead th {\n",
       "        text-align: right;\n",
       "    }\n",
       "</style>\n",
       "<table border=\"1\" class=\"dataframe\">\n",
       "  <thead>\n",
       "    <tr style=\"text-align: right;\">\n",
       "      <th></th>\n",
       "      <th>handle</th>\n",
       "      <th>asdtotal</th>\n",
       "      <th>nbrofbldgsres</th>\n",
       "      <th>geom</th>\n",
       "      <th>savedindex</th>\n",
       "    </tr>\n",
       "  </thead>\n",
       "  <tbody>\n",
       "    <tr>\n",
       "      <th>0</th>\n",
       "      <td>10099008011</td>\n",
       "      <td>48000</td>\n",
       "      <td>1</td>\n",
       "      <td>POLYGON ((-90.18822 38.62792, -90.18828 38.627...</td>\n",
       "      <td>0</td>\n",
       "    </tr>\n",
       "    <tr>\n",
       "      <th>1</th>\n",
       "      <td>10099008011</td>\n",
       "      <td>249700</td>\n",
       "      <td>1</td>\n",
       "      <td>POLYGON ((-90.18822 38.62792, -90.18828 38.627...</td>\n",
       "      <td>1</td>\n",
       "    </tr>\n",
       "    <tr>\n",
       "      <th>2</th>\n",
       "      <td>10099008011</td>\n",
       "      <td>278400</td>\n",
       "      <td>1</td>\n",
       "      <td>POLYGON ((-90.18822 38.62792, -90.18828 38.627...</td>\n",
       "      <td>2</td>\n",
       "    </tr>\n",
       "    <tr>\n",
       "      <th>3</th>\n",
       "      <td>10099008011</td>\n",
       "      <td>161900</td>\n",
       "      <td>1</td>\n",
       "      <td>POLYGON ((-90.18822 38.62792, -90.18828 38.627...</td>\n",
       "      <td>3</td>\n",
       "    </tr>\n",
       "    <tr>\n",
       "      <th>4</th>\n",
       "      <td>10099008011</td>\n",
       "      <td>169800</td>\n",
       "      <td>1</td>\n",
       "      <td>POLYGON ((-90.18822 38.62792, -90.18828 38.627...</td>\n",
       "      <td>4</td>\n",
       "    </tr>\n",
       "  </tbody>\n",
       "</table>\n",
       "</div>"
      ],
      "text/plain": [
       "        handle  asdtotal  nbrofbldgsres  \\\n",
       "0  10099008011     48000              1   \n",
       "1  10099008011    249700              1   \n",
       "2  10099008011    278400              1   \n",
       "3  10099008011    161900              1   \n",
       "4  10099008011    169800              1   \n",
       "\n",
       "                                                geom  savedindex  \n",
       "0  POLYGON ((-90.18822 38.62792, -90.18828 38.627...           0  \n",
       "1  POLYGON ((-90.18822 38.62792, -90.18828 38.627...           1  \n",
       "2  POLYGON ((-90.18822 38.62792, -90.18828 38.627...           2  \n",
       "3  POLYGON ((-90.18822 38.62792, -90.18828 38.627...           3  \n",
       "4  POLYGON ((-90.18822 38.62792, -90.18828 38.627...           4  "
      ]
     },
     "execution_count": 9,
     "metadata": {},
     "output_type": "execute_result"
    }
   ],
   "source": [
    "# create sql statement and pull from db into a geopandas dataframe\n",
    "# query the table and read data into a geodf \n",
    "sql = \"select * from stlnonrestrictedresparcels;\"\n",
    "gdf_res_remain = gpd.read_postgis(sql, conn)\n",
    "gdf_res_remain.head()\n"
   ]
  },
  {
   "cell_type": "code",
   "execution_count": 10,
   "metadata": {},
   "outputs": [
    {
     "data": {
      "text/plain": [
       "(48542, 5)"
      ]
     },
     "execution_count": 10,
     "metadata": {},
     "output_type": "execute_result"
    }
   ],
   "source": [
    "gdf_res_remain.shape"
   ]
  },
  {
   "cell_type": "markdown",
   "metadata": {},
   "source": [
    "#### Pull \\*restricted\\* area geometry from PostGIS database"
   ]
  },
  {
   "cell_type": "code",
   "execution_count": 11,
   "metadata": {
    "scrolled": true
   },
   "outputs": [
    {
     "data": {
      "text/html": [
       "<div>\n",
       "<style scoped>\n",
       "    .dataframe tbody tr th:only-of-type {\n",
       "        vertical-align: middle;\n",
       "    }\n",
       "\n",
       "    .dataframe tbody tr th {\n",
       "        vertical-align: top;\n",
       "    }\n",
       "\n",
       "    .dataframe thead th {\n",
       "        text-align: right;\n",
       "    }\n",
       "</style>\n",
       "<table border=\"1\" class=\"dataframe\">\n",
       "  <thead>\n",
       "    <tr style=\"text-align: right;\">\n",
       "      <th></th>\n",
       "      <th>handle</th>\n",
       "      <th>asdtotal</th>\n",
       "      <th>nbrofbldgsres</th>\n",
       "      <th>geom</th>\n",
       "      <th>savedindex</th>\n",
       "    </tr>\n",
       "  </thead>\n",
       "  <tbody>\n",
       "    <tr>\n",
       "      <th>0</th>\n",
       "      <td>10173008031</td>\n",
       "      <td>51620</td>\n",
       "      <td>1</td>\n",
       "      <td>POLYGON ((-90.19245 38.63159, -90.19264 38.630...</td>\n",
       "      <td>121</td>\n",
       "    </tr>\n",
       "    <tr>\n",
       "      <th>1</th>\n",
       "      <td>10173008031</td>\n",
       "      <td>33590</td>\n",
       "      <td>1</td>\n",
       "      <td>POLYGON ((-90.19245 38.63159, -90.19264 38.630...</td>\n",
       "      <td>122</td>\n",
       "    </tr>\n",
       "    <tr>\n",
       "      <th>2</th>\n",
       "      <td>10173008031</td>\n",
       "      <td>30530</td>\n",
       "      <td>1</td>\n",
       "      <td>POLYGON ((-90.19245 38.63159, -90.19264 38.630...</td>\n",
       "      <td>123</td>\n",
       "    </tr>\n",
       "    <tr>\n",
       "      <th>3</th>\n",
       "      <td>10173008031</td>\n",
       "      <td>44690</td>\n",
       "      <td>1</td>\n",
       "      <td>POLYGON ((-90.19245 38.63159, -90.19264 38.630...</td>\n",
       "      <td>124</td>\n",
       "    </tr>\n",
       "    <tr>\n",
       "      <th>4</th>\n",
       "      <td>10173008031</td>\n",
       "      <td>36800</td>\n",
       "      <td>1</td>\n",
       "      <td>POLYGON ((-90.19245 38.63159, -90.19264 38.630...</td>\n",
       "      <td>125</td>\n",
       "    </tr>\n",
       "  </tbody>\n",
       "</table>\n",
       "</div>"
      ],
      "text/plain": [
       "        handle  asdtotal  nbrofbldgsres  \\\n",
       "0  10173008031     51620              1   \n",
       "1  10173008031     33590              1   \n",
       "2  10173008031     30530              1   \n",
       "3  10173008031     44690              1   \n",
       "4  10173008031     36800              1   \n",
       "\n",
       "                                                geom  savedindex  \n",
       "0  POLYGON ((-90.19245 38.63159, -90.19264 38.630...         121  \n",
       "1  POLYGON ((-90.19245 38.63159, -90.19264 38.630...         122  \n",
       "2  POLYGON ((-90.19245 38.63159, -90.19264 38.630...         123  \n",
       "3  POLYGON ((-90.19245 38.63159, -90.19264 38.630...         124  \n",
       "4  POLYGON ((-90.19245 38.63159, -90.19264 38.630...         125  "
      ]
     },
     "execution_count": 11,
     "metadata": {},
     "output_type": "execute_result"
    }
   ],
   "source": [
    "# create sql statement and pull from db into a geopandas dataframe\n",
    "# query the table and read data into a geodf \n",
    "sql = \"select * from stlrestrictedresparcels;\"\n",
    "gdf_res_restricted = gpd.read_postgis(sql, conn)\n",
    "gdf_res_restricted.head()\n"
   ]
  },
  {
   "cell_type": "code",
   "execution_count": 12,
   "metadata": {},
   "outputs": [
    {
     "data": {
      "text/plain": [
       "(50126, 5)"
      ]
     },
     "execution_count": 12,
     "metadata": {},
     "output_type": "execute_result"
    }
   ],
   "source": [
    "gdf_res_restricted.shape"
   ]
  },
  {
   "cell_type": "markdown",
   "metadata": {},
   "source": [
    "### Work up some value-based summary info"
   ]
  },
  {
   "cell_type": "code",
   "execution_count": 13,
   "metadata": {},
   "outputs": [],
   "source": [
    "# generate summary info from each dataset\n",
    "asdtotal_all = gdf_parcels['asdtotal'].describe()\n",
    "asdtotal_remain = gdf_res_remain['asdtotal'].describe()\n",
    "asdtotal_restr = gdf_res_restricted['asdtotal'].describe()\n"
   ]
  },
  {
   "cell_type": "code",
   "execution_count": 14,
   "metadata": {},
   "outputs": [
    {
     "data": {
      "text/html": [
       "<style type=\"text/css\">\n",
       "</style>\n",
       "<table id=\"T_7c3f0_\">\n",
       "  <thead>\n",
       "    <tr>\n",
       "      <th class=\"blank level0\" >&nbsp;</th>\n",
       "      <th class=\"col_heading level0 col0\" >all_parcels</th>\n",
       "      <th class=\"col_heading level0 col1\" >unrestricted_parcels</th>\n",
       "      <th class=\"col_heading level0 col2\" >restricted_parcels</th>\n",
       "    </tr>\n",
       "  </thead>\n",
       "  <tbody>\n",
       "    <tr>\n",
       "      <th id=\"T_7c3f0_level0_row0\" class=\"row_heading level0 row0\" >mean</th>\n",
       "      <td id=\"T_7c3f0_row0_col0\" class=\"data row0 col0\" >$21,896</td>\n",
       "      <td id=\"T_7c3f0_row0_col1\" class=\"data row0 col1\" >$23,874</td>\n",
       "      <td id=\"T_7c3f0_row0_col2\" class=\"data row0 col2\" >$19,981</td>\n",
       "    </tr>\n",
       "    <tr>\n",
       "      <th id=\"T_7c3f0_level0_row1\" class=\"row_heading level0 row1\" >std</th>\n",
       "      <td id=\"T_7c3f0_row1_col0\" class=\"data row1 col0\" >$28,886</td>\n",
       "      <td id=\"T_7c3f0_row1_col1\" class=\"data row1 col1\" >$31,528</td>\n",
       "      <td id=\"T_7c3f0_row1_col2\" class=\"data row1 col2\" >$25,930</td>\n",
       "    </tr>\n",
       "    <tr>\n",
       "      <th id=\"T_7c3f0_level0_row2\" class=\"row_heading level0 row2\" >min</th>\n",
       "      <td id=\"T_7c3f0_row2_col0\" class=\"data row2 col0\" >$0</td>\n",
       "      <td id=\"T_7c3f0_row2_col1\" class=\"data row2 col1\" >$0</td>\n",
       "      <td id=\"T_7c3f0_row2_col2\" class=\"data row2 col2\" >$0</td>\n",
       "    </tr>\n",
       "    <tr>\n",
       "      <th id=\"T_7c3f0_level0_row3\" class=\"row_heading level0 row3\" >25%</th>\n",
       "      <td id=\"T_7c3f0_row3_col0\" class=\"data row3 col0\" >$4,510</td>\n",
       "      <td id=\"T_7c3f0_row3_col1\" class=\"data row3 col1\" >$5,880</td>\n",
       "      <td id=\"T_7c3f0_row3_col2\" class=\"data row3 col2\" >$3,690</td>\n",
       "    </tr>\n",
       "    <tr>\n",
       "      <th id=\"T_7c3f0_level0_row4\" class=\"row_heading level0 row4\" >50%</th>\n",
       "      <td id=\"T_7c3f0_row4_col0\" class=\"data row4 col0\" >$16,970</td>\n",
       "      <td id=\"T_7c3f0_row4_col1\" class=\"data row4 col1\" >$19,575</td>\n",
       "      <td id=\"T_7c3f0_row4_col2\" class=\"data row4 col2\" >$13,490</td>\n",
       "    </tr>\n",
       "    <tr>\n",
       "      <th id=\"T_7c3f0_level0_row5\" class=\"row_heading level0 row5\" >75%</th>\n",
       "      <td id=\"T_7c3f0_row5_col0\" class=\"data row5 col0\" >$30,860</td>\n",
       "      <td id=\"T_7c3f0_row5_col1\" class=\"data row5 col1\" >$31,890</td>\n",
       "      <td id=\"T_7c3f0_row5_col2\" class=\"data row5 col2\" >$29,620</td>\n",
       "    </tr>\n",
       "    <tr>\n",
       "      <th id=\"T_7c3f0_level0_row6\" class=\"row_heading level0 row6\" >max</th>\n",
       "      <td id=\"T_7c3f0_row6_col0\" class=\"data row6 col0\" >$3,761,500</td>\n",
       "      <td id=\"T_7c3f0_row6_col1\" class=\"data row6 col1\" >$3,761,500</td>\n",
       "      <td id=\"T_7c3f0_row6_col2\" class=\"data row6 col2\" >$1,416,100</td>\n",
       "    </tr>\n",
       "  </tbody>\n",
       "</table>\n"
      ],
      "text/plain": [
       "<pandas.io.formats.style.Styler at 0x7fc5c632c710>"
      ]
     },
     "execution_count": 14,
     "metadata": {},
     "output_type": "execute_result"
    }
   ],
   "source": [
    "asd_summary = pd.merge(asdtotal_all, asdtotal_remain, right_index = True, left_index = True)\n",
    "asd_summary = pd.merge(asd_summary, asdtotal_restr, right_index = True, left_index = True)\n",
    "\n",
    "asd_summary.columns = ['all_parcels','unrestricted_parcels','restricted_parcels']\n",
    "\n",
    "asd_summary_count = asd_summary[:1]\n",
    "\n",
    "asd_summary = asd_summary.drop(asd_summary.index[[0]])\n",
    "\n",
    "asd_summary.style.format({\n",
    "    'all_parcels': \"${:,.0f}\".format, \n",
    "    'unrestricted_parcels': \"${:,.0f}\".format, \n",
    "    'restricted_parcels': \"${:,.0f}\".format\n",
    "})"
   ]
  },
  {
   "cell_type": "code",
   "execution_count": 15,
   "metadata": {},
   "outputs": [
    {
     "data": {
      "text/html": [
       "<div>\n",
       "<style scoped>\n",
       "    .dataframe tbody tr th:only-of-type {\n",
       "        vertical-align: middle;\n",
       "    }\n",
       "\n",
       "    .dataframe tbody tr th {\n",
       "        vertical-align: top;\n",
       "    }\n",
       "\n",
       "    .dataframe thead th {\n",
       "        text-align: right;\n",
       "    }\n",
       "</style>\n",
       "<table border=\"1\" class=\"dataframe\">\n",
       "  <thead>\n",
       "    <tr style=\"text-align: right;\">\n",
       "      <th></th>\n",
       "      <th>all_parcels</th>\n",
       "      <th>unrestricted_parcels</th>\n",
       "      <th>restricted_parcels</th>\n",
       "    </tr>\n",
       "  </thead>\n",
       "  <tbody>\n",
       "    <tr>\n",
       "      <th>count</th>\n",
       "      <td>98668.0</td>\n",
       "      <td>48542.0</td>\n",
       "      <td>50126.0</td>\n",
       "    </tr>\n",
       "  </tbody>\n",
       "</table>\n",
       "</div>"
      ],
      "text/plain": [
       "       all_parcels  unrestricted_parcels  restricted_parcels\n",
       "count      98668.0               48542.0             50126.0"
      ]
     },
     "execution_count": 15,
     "metadata": {},
     "output_type": "execute_result"
    }
   ],
   "source": [
    "asd_summary_count"
   ]
  },
  {
   "cell_type": "markdown",
   "metadata": {},
   "source": [
    "### Generate box plot"
   ]
  },
  {
   "cell_type": "code",
   "execution_count": 16,
   "metadata": {},
   "outputs": [
    {
     "data": {
      "image/png": "[encoded data removed]",
      "text/plain": [
       "<Figure size 360x504 with 1 Axes>"
      ]
     },
     "metadata": {},
     "output_type": "display_data"
    }
   ],
   "source": [
    "from matplotlib.ticker import FuncFormatter\n",
    "\n",
    "box_plot_data=[gdf_parcels['asdtotal'],gdf_res_remain['asdtotal'],gdf_res_restricted['asdtotal']]\n",
    "\n",
    "fig, ax = plt.subplots(figsize=(5,7), facecolor='white')\n",
    "\n",
    "\n",
    "def thousands(x, pos):\n",
    "    'The two args are the value and tick position'\n",
    "    return '$%1.fk' % (x*1e-3)\n",
    "\n",
    "formatter = FuncFormatter(thousands)\n",
    "\n",
    "ax.yaxis.set_major_formatter(formatter)\n",
    "\n",
    "\n",
    "plt.boxplot(box_plot_data, patch_artist=True, \n",
    "                labels=['All Parcels','Parcels Available\\nto Offenders','Parcels Restricted\\nfrom Offenders'], \n",
    "                showfliers=False, widths = 0.75, boxprops=dict(facecolor='lightgrey'), medianprops=dict(linewidth=2))\n",
    "plt.gca().set(title='Residential Parcel Comparison', ylabel='Assessed Value')\n",
    "\n",
    "for spine in ax.spines:\n",
    "    ax.spines[spine].set_visible(False)\n",
    "\n",
    "plt.show()\n"
   ]
  },
  {
   "cell_type": "code",
   "execution_count": 17,
   "metadata": {},
   "outputs": [
    {
     "data": {
      "text/plain": [
       "98668"
      ]
     },
     "execution_count": 17,
     "metadata": {},
     "output_type": "execute_result"
    }
   ],
   "source": [
    "gdf_parcels.shape[0]"
   ]
  },
  {
   "cell_type": "code",
   "execution_count": 18,
   "metadata": {
    "scrolled": false
   },
   "outputs": [
    {
     "data": {
      "text/plain": [
       "[3761500,\n",
       " 1416100,\n",
       " 1079410,\n",
       " 1049300,\n",
       " 955680,\n",
       " 921140,\n",
       " 907190,\n",
       " 889260,\n",
       " 798010,\n",
       " 710450,\n",
       " 704940,\n",
       " 703000,\n",
       " 665000,\n",
       " 651030,\n",
       " 644380,\n",
       " 608000,\n",
       " 573750,\n",
       " 549600,\n",
       " 535150,\n",
       " 532870,\n",
       " 501600,\n",
       " 500730,\n",
       " 495600,\n",
       " 486210,\n",
       " 482010]"
      ]
     },
     "execution_count": 18,
     "metadata": {},
     "output_type": "execute_result"
    }
   ],
   "source": [
    "sorted(gdf_parcels.asdtotal, reverse=True)[:25]"
   ]
  },
  {
   "cell_type": "markdown",
   "metadata": {},
   "source": [
    "#### Hypothesis testing\n",
    "\n",
    "H0 : Average value of parcels available to offenders > average value of all parcels\n",
    "\n",
    "H1 : Average value of parcels available to offenders <= average value of all parcels\n"
   ]
  },
  {
   "cell_type": "code",
   "execution_count": 19,
   "metadata": {},
   "outputs": [],
   "source": [
    "import numpy as np\n",
    "import scipy.stats as stats\n"
   ]
  },
  {
   "cell_type": "code",
   "execution_count": 101,
   "metadata": {},
   "outputs": [
    {
     "data": {
      "image/png": "[encoded data removed]",
      "text/plain": [
       "<Figure size 504x360 with 1 Axes>"
      ]
     },
     "metadata": {},
     "output_type": "display_data"
    }
   ],
   "source": [
    "# Hypothesis testing analysis and results\n",
    "# ---------------------------------------\n",
    "\n",
    "# First, plot the distributions of each partition vs. the whole data set \n",
    "# so we can get an idea of what we're working with.\n",
    "# Then, generate z-scores and p-values.\n",
    "# Use an alpha (𝛼) threshold of 0.05, i.e. a 95% confidence interval\n",
    "\n",
    "fig, ax = plt.subplots(figsize=(7,5), facecolor='white')\n",
    "\n",
    "ax.xaxis.set_major_formatter(formatter)\n",
    "\n",
    "# cut the plotting range at so we can actually see the plots (else a few outliers pull it way to the right)\n",
    "# x = np.arange(0,200000,1)\n",
    "# set the x-axis limit based on the 99th percentile value of the overall parcel dataset\n",
    "x = np.arange(0,gdf_parcels['asdtotal'].quantile(0.99),1)\n",
    "\n",
    "# stats for full data set\n",
    "mu = gdf_parcels.asdtotal.mean()\n",
    "sigma = gdf_parcels.asdtotal.std()\n",
    "\n",
    "# Plot a normal distribution: \"Probability Density Function\"\n",
    "y = stats.norm.pdf(x, mu, sigma)\n",
    "plt.plot(x,y,'k-',label='All Parcels')\n",
    "\n",
    "# inputs and plot for small bathroom distribution\n",
    "small_mu = gdf_res_remain.asdtotal.mean()\n",
    "small_sigma = gdf_res_remain.asdtotal.std()\n",
    "small_count = len(gdf_res_remain.asdtotal)\n",
    "y = stats.norm.pdf(x, small_mu, small_sigma)\n",
    "plt.plot(x,y*small_count/len(gdf_parcels.asdtotal),'b--', label='Parcels Available to Offenders')\n",
    "\n",
    "# inputs and plot for large bathroom distribution\n",
    "large_mu = gdf_res_restricted.asdtotal.mean()\n",
    "large_sigma = gdf_res_restricted.asdtotal.std()\n",
    "large_count = len(gdf_res_restricted.asdtotal)\n",
    "y = stats.norm.pdf(x, large_mu, large_sigma)\n",
    "plt.plot(x,y*large_count/len(gdf_parcels.asdtotal),'r--', label='Parcels Restricted from Offenders')\n",
    "\n",
    "# plt.title('Home Price Normal Distributions')\n",
    "plt.legend(loc='upper right', facecolor='lightgrey', framealpha=0.4)\n",
    "plt.xlabel('Assessed Value')\n",
    "plt.ylabel(\"Probability Density\")\n",
    "\n",
    "for spine in ax.spines:\n",
    "    ax.spines[spine].set_visible(False)\n",
    "\n",
    "plt.show()\n"
   ]
  },
  {
   "cell_type": "code",
   "execution_count": null,
   "metadata": {},
   "outputs": [],
   "source": [
    "# # plot histogram on same chart?\n",
    "\n",
    "# n, bins, patches = plt.hist(gdf_parcels['asdtotal'], \n",
    "#                             bins=3000, density=True, facecolor='blue', alpha=.25, edgecolor=\"k\")\n",
    "\n",
    "# plt.xlim(xmin=0, xmax = gdf_parcels['asdtotal'].quantile(0.99))\n",
    "\n",
    "\n"
   ]
  },
  {
   "cell_type": "code",
   "execution_count": 21,
   "metadata": {},
   "outputs": [
    {
     "name": "stdout",
     "output_type": "stream",
     "text": [
      "Z-score:  [0.06846824]\n",
      "P-value =  [0.47270645]\n"
     ]
    }
   ],
   "source": [
    "# Compute the Z-score of the nonrestricted mean against the whole population\n",
    "\n",
    "small_zscore_vs_all = stats.zmap(small_mu,gdf_parcels.asdtotal)\n",
    "\n",
    "print('Z-score: ', small_zscore_vs_all)\n",
    "\n",
    "# Compute the result of the more extreme, right-hand tail in this case (i.e. Z-score > 0)\n",
    "# meaning we must subtract from 1\n",
    "\n",
    "pvalue = 1 - stats.norm.cdf(small_zscore_vs_all)\n",
    "\n",
    "print('P-value = ', pvalue)\n",
    "\n",
    "\n",
    "##############\n",
    "# more_zscore_vs_all = stats.zmap(large_mu,gdf_parcels.asdtotal) \n",
    "# print('Z-score: ',more_zscore_vs_all) \n",
    "# pvalue = (1 - stats.norm.cdf(more_zscore_vs_all)) / 2\n",
    "# print('P-value = ', pvalue)"
   ]
  },
  {
   "cell_type": "code",
   "execution_count": 22,
   "metadata": {},
   "outputs": [
    {
     "name": "stdout",
     "output_type": "stream",
     "text": [
      "Mean price for parcels available to offenders is $23873.69 with a 95% CI of [23593.22, 24154.16]\n",
      "Mean price for all homes is $21895.93 with a 95% CI of [21715.7, 22076.17]\n",
      "SEM of full dataset = 91.96\n"
     ]
    }
   ],
   "source": [
    "# calculate CI values for nonrestricted parcels\n",
    "sample_var = np.var(gdf_res_remain.asdtotal, ddof=0)\n",
    "SEM = np.sqrt(sample_var) / np.sqrt(len(gdf_res_remain.asdtotal))\n",
    "ci = stats.norm.interval(.95, loc = small_mu, scale= SEM)\n",
    "\n",
    "print('Mean price for parcels available to offenders is ${} with a 95% CI of [{}, {}]'\n",
    "      .format(round(small_mu,2), round(ci[0],2), round(ci[1],2)))\n",
    "\n",
    "\n",
    "# # calculate CI values for restricted parcels\n",
    "# sample_var = np.var(gdf_res_restricted.asdtotal, ddof=0)\n",
    "# SEM = np.sqrt(sample_var) / np.sqrt(len(gdf_res_restricted.asdtotal))\n",
    "# ci = stats.norm.interval(.95, loc = large_mu, scale= SEM)\n",
    "\n",
    "# print('Mean price for parcels restricted from offenders is ${} with a 95% CI of [{}, {}]'\n",
    "#       .format(round(large_mu,2), round(ci[0],2), round(ci[1],2)))\n",
    "\n",
    "\n",
    "# calculate CI values for entire dataset\n",
    "sample_var = np.var(gdf_parcels.asdtotal, ddof=0)\n",
    "SEM = np.sqrt(sample_var) / np.sqrt(len(gdf_parcels.asdtotal))\n",
    "ci2 = stats.norm.interval(.95, loc = mu, scale= SEM)\n",
    "\n",
    "print('Mean price for all homes is ${} with a 95% CI of [{}, {}]'\n",
    "      .format(round(mu,2),round(ci2[0],2), round(ci2[1],2)))\n",
    "print('SEM of full dataset =',round(SEM,2))"
   ]
  },
  {
   "cell_type": "code",
   "execution_count": 75,
   "metadata": {},
   "outputs": [
    {
     "name": "stdout",
     "output_type": "stream",
     "text": [
      "Available to offenders vs. Restricted from offenders t-statistic = 21.15, with a p-value of 5.043666581633137e-99\n",
      "\n"
     ]
    }
   ],
   "source": [
    "available_to_restr = stats.ttest_ind(gdf_res_remain.asdtotal,gdf_res_restricted.asdtotal, equal_var=False)\n",
    "print('Available to offenders vs. Restricted from offenders t-statistic = {}, with a p-value of {}'.format(\n",
    "        round(available_to_restr[0],2),available_to_restr[1]))\n",
    "print()"
   ]
  },
  {
   "cell_type": "markdown",
   "metadata": {},
   "source": [
    "# ^ is the t-statistic the best approach????"
   ]
  },
  {
   "cell_type": "code",
   "execution_count": null,
   "metadata": {},
   "outputs": [],
   "source": []
  },
  {
   "cell_type": "code",
   "execution_count": null,
   "metadata": {},
   "outputs": [],
   "source": []
  },
  {
   "cell_type": "code",
   "execution_count": null,
   "metadata": {},
   "outputs": [],
   "source": []
  },
  {
   "cell_type": "code",
   "execution_count": null,
   "metadata": {},
   "outputs": [],
   "source": []
  },
  {
   "cell_type": "code",
   "execution_count": null,
   "metadata": {},
   "outputs": [],
   "source": []
  },
  {
   "cell_type": "code",
   "execution_count": 90,
   "metadata": {},
   "outputs": [
    {
     "data": {
      "image/png": "[encoded data removed]",
      "text/plain": [
       "<Figure size 360x360 with 1 Axes>"
      ]
     },
     "metadata": {},
     "output_type": "display_data"
    }
   ],
   "source": [
    "# import matplotlib.pyplot as plt\n",
    "import statistics\n",
    "from math import sqrt\n",
    "\n",
    "\n",
    "def plot_confidence_interval(x, values, z=1.96, color='#2187bb', horizontal_line_width=0.25):\n",
    "    mean = statistics.mean(values)\n",
    "    stdev = statistics.stdev(values)\n",
    "    confidence_interval = z * stdev / sqrt(len(values))\n",
    "\n",
    "    left = x - horizontal_line_width / 2\n",
    "    top = mean - confidence_interval\n",
    "    right = x + horizontal_line_width / 2\n",
    "    bottom = mean + confidence_interval\n",
    "    plt.plot([x, x], [top, bottom], color=color)\n",
    "    plt.plot([left, right], [top, top], color=color)\n",
    "    plt.plot([left, right], [bottom, bottom], color=color)\n",
    "    plt.plot(x, mean, 'o', color='#f44336')\n",
    "\n",
    "    return mean, confidence_interval\n",
    "\n",
    "fig, ax = plt.subplots(figsize=(5,5), facecolor='white')\n",
    "\n",
    "plt.xticks([1, 2, 3], ['All', 'Available to SOs', 'Restricted From SOs'])\n",
    "plt.title('Confidence Interval')\n",
    "plot_confidence_interval(1, gdf_parcels.asdtotal)\n",
    "plot_confidence_interval(2, gdf_res_remain.asdtotal)\n",
    "plot_confidence_interval(3, gdf_res_restricted.asdtotal)\n",
    "plt.show()"
   ]
  },
  {
   "cell_type": "code",
   "execution_count": null,
   "metadata": {},
   "outputs": [],
   "source": []
  },
  {
   "cell_type": "code",
   "execution_count": null,
   "metadata": {},
   "outputs": [],
   "source": []
  },
  {
   "cell_type": "code",
   "execution_count": null,
   "metadata": {},
   "outputs": [],
   "source": []
  },
  {
   "cell_type": "markdown",
   "metadata": {},
   "source": [
    "## Examine some of the outliers"
   ]
  },
  {
   "cell_type": "code",
   "execution_count": 32,
   "metadata": {},
   "outputs": [
    {
     "data": {
      "text/html": [
       "<div>\n",
       "<style scoped>\n",
       "    .dataframe tbody tr th:only-of-type {\n",
       "        vertical-align: middle;\n",
       "    }\n",
       "\n",
       "    .dataframe tbody tr th {\n",
       "        vertical-align: top;\n",
       "    }\n",
       "\n",
       "    .dataframe thead th {\n",
       "        text-align: right;\n",
       "    }\n",
       "</style>\n",
       "<table border=\"1\" class=\"dataframe\">\n",
       "  <thead>\n",
       "    <tr style=\"text-align: right;\">\n",
       "      <th></th>\n",
       "      <th>handle</th>\n",
       "      <th>asdtotal</th>\n",
       "      <th>ressaleprice</th>\n",
       "      <th>nbrofbldgsres</th>\n",
       "      <th>zoning</th>\n",
       "      <th>geom</th>\n",
       "    </tr>\n",
       "  </thead>\n",
       "  <tbody>\n",
       "    <tr>\n",
       "      <th>13510</th>\n",
       "      <td>11756000305</td>\n",
       "      <td>1049300</td>\n",
       "      <td>0.0</td>\n",
       "      <td>1</td>\n",
       "      <td>B</td>\n",
       "      <td>POLYGON ((577802.373 1007023.061, 577798.062 1...</td>\n",
       "    </tr>\n",
       "    <tr>\n",
       "      <th>14173</th>\n",
       "      <td>11829000020</td>\n",
       "      <td>1079410</td>\n",
       "      <td>250000.0</td>\n",
       "      <td>1</td>\n",
       "      <td>J</td>\n",
       "      <td>POLYGON ((576004.055 1016603.581, 575974.595 1...</td>\n",
       "    </tr>\n",
       "    <tr>\n",
       "      <th>36988</th>\n",
       "      <td>13908000330</td>\n",
       "      <td>1416100</td>\n",
       "      <td>0.0</td>\n",
       "      <td>1</td>\n",
       "      <td>E</td>\n",
       "      <td>POLYGON ((570666.645 1022704.899, 570612.956 1...</td>\n",
       "    </tr>\n",
       "    <tr>\n",
       "      <th>37935</th>\n",
       "      <td>13928000165</td>\n",
       "      <td>3761500</td>\n",
       "      <td>0.0</td>\n",
       "      <td>1</td>\n",
       "      <td>H</td>\n",
       "      <td>POLYGON ((575140.503 1020422.740, 575139.997 1...</td>\n",
       "    </tr>\n",
       "  </tbody>\n",
       "</table>\n",
       "</div>"
      ],
      "text/plain": [
       "            handle  asdtotal  ressaleprice  nbrofbldgsres zoning  \\\n",
       "13510  11756000305   1049300           0.0              1      B   \n",
       "14173  11829000020   1079410      250000.0              1      J   \n",
       "36988  13908000330   1416100           0.0              1      E   \n",
       "37935  13928000165   3761500           0.0              1      H   \n",
       "\n",
       "                                                    geom  \n",
       "13510  POLYGON ((577802.373 1007023.061, 577798.062 1...  \n",
       "14173  POLYGON ((576004.055 1016603.581, 575974.595 1...  \n",
       "36988  POLYGON ((570666.645 1022704.899, 570612.956 1...  \n",
       "37935  POLYGON ((575140.503 1020422.740, 575139.997 1...  "
      ]
     },
     "execution_count": 32,
     "metadata": {},
     "output_type": "execute_result"
    }
   ],
   "source": [
    "# find a few of the parcels with REALLY high values\n",
    "highval_parcels = gdf_parcels.loc[gdf_parcels['asdtotal'] > 1000000]\n",
    "highval_parcels"
   ]
  },
  {
   "cell_type": "code",
   "execution_count": 76,
   "metadata": {},
   "outputs": [
    {
     "data": {
      "text/html": [
       "<div style=\"width:100%;\"><div style=\"position:relative;width:100%;height:0;padding-bottom:60%;\"><span style=\"color:#565656\">Make this Notebook Trusted to load map: File -> Trust Notebook</span><iframe src=\"about:blank\" style=\"position:absolute;width:100%;height:100%;left:0;top:0;border:none !important;\" data-html=%3C%21DOCTYPE%20html%3E%0A%3Chead%3E%20%20%20%20%0A%20%20%20%20%3Cmeta%20http-equiv%3D%22content-type%22%20content%3D%22text/html%3B%20charset%3DUTF-8%22%20/%3E%0A%20%20%20%20%0A%20%20%20%20%20%20%20%20%3Cscript%3E%0A%20%20%20%20%20%20%20%20%20%20%20%20L_NO_TOUCH%20%3D%20false%3B%0A%20%20%20%20%20%20%20%20%20%20%20%20L_DISABLE_3D%20%3D%20false%3B%0A%20%20%20%20%20%20%20%20%3C/script%3E%0A%20%20%20%20%0A%20%20%20%20%3Cstyle%3Ehtml%2C%20body%20%7Bwidth%3A%20100%25%3Bheight%3A%20100%25%3Bmargin%3A%200%3Bpadding%3A%200%3B%7D%3C/style%3E%0A%20%20%20%20%3Cstyle%3E%23map%20%7Bposition%3Aabsolute%3Btop%3A0%3Bbottom%3A0%3Bright%3A0%3Bleft%3A0%3B%7D%3C/style%3E%0A%20%20%20%20%3Cscript%20src%3D%22https%3A//cdn.jsdelivr.net/npm/leaflet%401.6.0/dist/leaflet.js%22%3E%3C/script%3E%0A%20%20%20%20%3Cscript%20src%3D%22https%3A//code.jquery.com/jquery-1.12.4.min.js%22%3E%3C/script%3E%0A%20%20%20%20%3Cscript%20src%3D%22https%3A//maxcdn.bootstrapcdn.com/bootstrap/3.2.0/js/bootstrap.min.js%22%3E%3C/script%3E%0A%20%20%20%20%3Cscript%20src%3D%22https%3A//cdnjs.cloudflare.com/ajax/libs/Leaflet.awesome-markers/2.0.2/leaflet.awesome-markers.js%22%3E%3C/script%3E%0A%20%20%20%20%3Clink%20rel%3D%22stylesheet%22%20href%3D%22https%3A//cdn.jsdelivr.net/npm/leaflet%401.6.0/dist/leaflet.css%22/%3E%0A%20%20%20%20%3Clink%20rel%3D%22stylesheet%22%20href%3D%22https%3A//maxcdn.bootstrapcdn.com/bootstrap/3.2.0/css/bootstrap.min.css%22/%3E%0A%20%20%20%20%3Clink%20rel%3D%22stylesheet%22%20href%3D%22https%3A//maxcdn.bootstrapcdn.com/bootstrap/3.2.0/css/bootstrap-theme.min.css%22/%3E%0A%20%20%20%20%3Clink%20rel%3D%22stylesheet%22%20href%3D%22https%3A//maxcdn.bootstrapcdn.com/font-awesome/4.6.3/css/font-awesome.min.css%22/%3E%0A%20%20%20%20%3Clink%20rel%3D%22stylesheet%22%20href%3D%22https%3A//cdnjs.cloudflare.com/ajax/libs/Leaflet.awesome-markers/2.0.2/leaflet.awesome-markers.css%22/%3E%0A%20%20%20%20%3Clink%20rel%3D%22stylesheet%22%20href%3D%22https%3A//cdn.jsdelivr.net/gh/python-visualization/folium/folium/templates/leaflet.awesome.rotate.min.css%22/%3E%0A%20%20%20%20%0A%20%20%20%20%20%20%20%20%20%20%20%20%3Cmeta%20name%3D%22viewport%22%20content%3D%22width%3Ddevice-width%2C%0A%20%20%20%20%20%20%20%20%20%20%20%20%20%20%20%20initial-scale%3D1.0%2C%20maximum-scale%3D1.0%2C%20user-scalable%3Dno%22%20/%3E%0A%20%20%20%20%20%20%20%20%20%20%20%20%3Cstyle%3E%0A%20%20%20%20%20%20%20%20%20%20%20%20%20%20%20%20%23map_b86af200b5fa40999e61aa03222bb580%20%7B%0A%20%20%20%20%20%20%20%20%20%20%20%20%20%20%20%20%20%20%20%20position%3A%20relative%3B%0A%20%20%20%20%20%20%20%20%20%20%20%20%20%20%20%20%20%20%20%20width%3A%20100.0%25%3B%0A%20%20%20%20%20%20%20%20%20%20%20%20%20%20%20%20%20%20%20%20height%3A%20100.0%25%3B%0A%20%20%20%20%20%20%20%20%20%20%20%20%20%20%20%20%20%20%20%20left%3A%200.0%25%3B%0A%20%20%20%20%20%20%20%20%20%20%20%20%20%20%20%20%20%20%20%20top%3A%200.0%25%3B%0A%20%20%20%20%20%20%20%20%20%20%20%20%20%20%20%20%7D%0A%20%20%20%20%20%20%20%20%20%20%20%20%3C/style%3E%0A%20%20%20%20%20%20%20%20%0A%20%20%20%20%0A%20%20%20%20%20%20%20%20%20%20%20%20%20%20%20%20%20%20%20%20%3Cstyle%3E%0A%20%20%20%20%20%20%20%20%20%20%20%20%20%20%20%20%20%20%20%20%20%20%20%20.foliumtooltip%20%7B%0A%20%20%20%20%20%20%20%20%20%20%20%20%20%20%20%20%20%20%20%20%20%20%20%20%20%20%20%20%0A%20%20%20%20%20%20%20%20%20%20%20%20%20%20%20%20%20%20%20%20%20%20%20%20%7D%0A%20%20%20%20%20%20%20%20%20%20%20%20%20%20%20%20%20%20%20%20%20%20%20.foliumtooltip%20table%7B%0A%20%20%20%20%20%20%20%20%20%20%20%20%20%20%20%20%20%20%20%20%20%20%20%20%20%20%20%20margin%3A%20auto%3B%0A%20%20%20%20%20%20%20%20%20%20%20%20%20%20%20%20%20%20%20%20%20%20%20%20%7D%0A%20%20%20%20%20%20%20%20%20%20%20%20%20%20%20%20%20%20%20%20%20%20%20%20.foliumtooltip%20tr%7B%0A%20%20%20%20%20%20%20%20%20%20%20%20%20%20%20%20%20%20%20%20%20%20%20%20%20%20%20%20text-align%3A%20left%3B%0A%20%20%20%20%20%20%20%20%20%20%20%20%20%20%20%20%20%20%20%20%20%20%20%20%7D%0A%20%20%20%20%20%20%20%20%20%20%20%20%20%20%20%20%20%20%20%20%20%20%20%20.foliumtooltip%20th%7B%0A%20%20%20%20%20%20%20%20%20%20%20%20%20%20%20%20%20%20%20%20%20%20%20%20%20%20%20%20padding%3A%202px%3B%20padding-right%3A%208px%3B%0A%20%20%20%20%20%20%20%20%20%20%20%20%20%20%20%20%20%20%20%20%20%20%20%20%7D%0A%20%20%20%20%20%20%20%20%20%20%20%20%20%20%20%20%20%20%20%20%3C/style%3E%0A%20%20%20%20%20%20%20%20%20%20%20%20%0A%3C/head%3E%0A%3Cbody%3E%20%20%20%20%0A%20%20%20%20%0A%20%20%20%20%20%20%20%20%20%20%20%20%3Cdiv%20class%3D%22folium-map%22%20id%3D%22map_b86af200b5fa40999e61aa03222bb580%22%20%3E%3C/div%3E%0A%20%20%20%20%20%20%20%20%0A%3C/body%3E%0A%3Cscript%3E%20%20%20%20%0A%20%20%20%20%0A%20%20%20%20%20%20%20%20%20%20%20%20var%20map_b86af200b5fa40999e61aa03222bb580%20%3D%20L.map%28%0A%20%20%20%20%20%20%20%20%20%20%20%20%20%20%20%20%22map_b86af200b5fa40999e61aa03222bb580%22%2C%0A%20%20%20%20%20%20%20%20%20%20%20%20%20%20%20%20%7B%0A%20%20%20%20%20%20%20%20%20%20%20%20%20%20%20%20%20%20%20%20center%3A%20%5B38.636%2C%20-90.238%5D%2C%0A%20%20%20%20%20%20%20%20%20%20%20%20%20%20%20%20%20%20%20%20crs%3A%20L.CRS.EPSG3857%2C%0A%20%20%20%20%20%20%20%20%20%20%20%20%20%20%20%20%20%20%20%20zoom%3A%2017%2C%0A%20%20%20%20%20%20%20%20%20%20%20%20%20%20%20%20%20%20%20%20zoomControl%3A%20true%2C%0A%20%20%20%20%20%20%20%20%20%20%20%20%20%20%20%20%20%20%20%20preferCanvas%3A%20false%2C%0A%20%20%20%20%20%20%20%20%20%20%20%20%20%20%20%20%7D%0A%20%20%20%20%20%20%20%20%20%20%20%20%29%3B%0A%0A%20%20%20%20%20%20%20%20%20%20%20%20%0A%0A%20%20%20%20%20%20%20%20%0A%20%20%20%20%0A%20%20%20%20%20%20%20%20%20%20%20%20var%20tile_layer_b764bd9bef33467f853382d00f49072a%20%3D%20L.tileLayer%28%0A%20%20%20%20%20%20%20%20%20%20%20%20%20%20%20%20%22https%3A//%7Bs%7D.tile.openstreetmap.org/%7Bz%7D/%7Bx%7D/%7By%7D.png%22%2C%0A%20%20%20%20%20%20%20%20%20%20%20%20%20%20%20%20%7B%22attribution%22%3A%20%22Data%20by%20%5Cu0026copy%3B%20%5Cu003ca%20href%3D%5C%22http%3A//openstreetmap.org%5C%22%5Cu003eOpenStreetMap%5Cu003c/a%5Cu003e%2C%20under%20%5Cu003ca%20href%3D%5C%22http%3A//www.openstreetmap.org/copyright%5C%22%5Cu003eODbL%5Cu003c/a%5Cu003e.%22%2C%20%22detectRetina%22%3A%20false%2C%20%22maxNativeZoom%22%3A%2018%2C%20%22maxZoom%22%3A%2018%2C%20%22minZoom%22%3A%200%2C%20%22noWrap%22%3A%20false%2C%20%22opacity%22%3A%201%2C%20%22subdomains%22%3A%20%22abc%22%2C%20%22tms%22%3A%20false%7D%0A%20%20%20%20%20%20%20%20%20%20%20%20%29.addTo%28map_b86af200b5fa40999e61aa03222bb580%29%3B%0A%20%20%20%20%20%20%20%20%0A%20%20%20%20%0A%0A%20%20%20%20%20%20%20%20function%20geo_json_7b5d932bdeb542298a356eb3c5e73018_onEachFeature%28feature%2C%20layer%29%20%7B%0A%20%20%20%20%20%20%20%20%20%20%20%20layer.on%28%7B%0A%20%20%20%20%20%20%20%20%20%20%20%20%7D%29%3B%0A%20%20%20%20%20%20%20%20%7D%3B%0A%20%20%20%20%20%20%20%20var%20geo_json_7b5d932bdeb542298a356eb3c5e73018%20%3D%20L.geoJson%28null%2C%20%7B%0A%20%20%20%20%20%20%20%20%20%20%20%20%20%20%20%20onEachFeature%3A%20geo_json_7b5d932bdeb542298a356eb3c5e73018_onEachFeature%2C%0A%20%20%20%20%20%20%20%20%20%20%20%20%0A%20%20%20%20%20%20%20%20%7D%29%3B%0A%0A%20%20%20%20%20%20%20%20function%20geo_json_7b5d932bdeb542298a356eb3c5e73018_add%20%28data%29%20%7B%0A%20%20%20%20%20%20%20%20%20%20%20%20geo_json_7b5d932bdeb542298a356eb3c5e73018%0A%20%20%20%20%20%20%20%20%20%20%20%20%20%20%20%20.addData%28data%29%0A%20%20%20%20%20%20%20%20%20%20%20%20%20%20%20%20.addTo%28map_b86af200b5fa40999e61aa03222bb580%29%3B%0A%20%20%20%20%20%20%20%20%7D%0A%20%20%20%20%20%20%20%20%20%20%20%20geo_json_7b5d932bdeb542298a356eb3c5e73018_add%28%7B%22bbox%22%3A%20%5B-90.25411261528136%2C%2038.59816701582573%2C%20-90.22786542028847%2C%2038.64236565889926%5D%2C%20%22features%22%3A%20%5B%7B%22bbox%22%3A%20%5B-90.2284695776679%2C%2038.59816701582573%2C%20-90.22786542028847%2C%2038.599048377712464%5D%2C%20%22geometry%22%3A%20%7B%22coordinates%22%3A%20%5B%5B%5B-90.22786542028847%2C%2038.59899275792602%5D%2C%20%5B-90.22788078605797%2C%2038.59891813399751%5D%2C%20%5B-90.2278947543926%2C%2038.598850293239636%5D%2C%20%5B-90.22790872269714%2C%2038.59878245338006%5D%2C%20%5B-90.22792269097843%2C%2038.598714612617094%5D%2C%20%5B-90.22793665922967%2C%2038.59864677275252%5D%2C%20%5B-90.22795062745762%2C%2038.598578931984456%5D%2C%20%5B-90.22796459565554%2C%2038.598511092114755%5D%2C%20%5B-90.22797856383019%2C%2038.59844325134163%5D%2C%20%5B-90.22799253197476%2C%2038.59837541146687%5D%2C%20%5B-90.2280065000927%2C%2038.598307571589515%5D%2C%20%5B-90.22802046818735%2C%2038.598239730808785%5D%2C%20%5B-90.22803443625202%2C%2038.598171890926395%5D%2C%20%5B-90.22803543957448%2C%2038.59816701582573%5D%2C%20%5B-90.2284695776679%2C%2038.59822262811198%5D%2C%20%5B-90.22846856634149%2C%2038.598227502296965%5D%2C%20%5B-90.22845448961255%2C%2038.598295342880846%5D%2C%20%5B-90.22844606225156%2C%2038.59833596168852%5D%2C%20%5B-90.22844041400465%2C%2038.59836318346482%5D%2C%20%5B-90.22843196792813%2C%2038.59840389051501%5D%2C%20%5B-90.22842633836655%2C%2038.59843102494708%5D%2C%20%5B-90.22841226155363%2C%2038.59849886642414%5D%2C%20%5B-90.22839818586515%2C%2038.59856670700041%5D%2C%20%5B-90.22838411014983%2C%2038.598634547574065%5D%2C%20%5B-90.22837003325633%2C%2038.59870238904342%5D%2C%20%5B-90.22835595748724%2C%2038.598770229612%5D%2C%20%5B-90.22834188053999%2C%2038.598838071076216%5D%2C%20%5B-90.22832780471381%2C%2038.59890591254052%5D%2C%20%5B-90.2283137277162%2C%2038.59897375309875%5D%2C%20%5B-90.22829824413581%2C%2038.599048377712464%5D%2C%20%5B-90.22806446781516%2C%2038.59901833642294%5D%2C%20%5B-90.22786542028847%2C%2038.59899275792602%5D%5D%5D%2C%20%22type%22%3A%20%22Polygon%22%7D%2C%20%22id%22%3A%20%2213510%22%2C%20%22properties%22%3A%20%7B%22asdtotal%22%3A%201049300%2C%20%22handle%22%3A%2011756000305%2C%20%22nbrofbldgsres%22%3A%201%2C%20%22ressaleprice%22%3A%200.0%2C%20%22zoning%22%3A%20%22B%22%7D%2C%20%22type%22%3A%20%22Feature%22%7D%2C%20%7B%22bbox%22%3A%20%5B-90.23541690101635%2C%2038.62470699230545%2C%20-90.2340608430866%2C%2038.62551353997034%5D%2C%20%22geometry%22%3A%20%7B%22coordinates%22%3A%20%5B%5B%5B-90.2340608430866%2C%2038.62531457422575%5D%2C%20%5B-90.23416509764348%2C%2038.62500837620366%5D%2C%20%5B-90.23426771203007%2C%2038.62470699230545%5D%2C%20%5B-90.23437619003356%2C%2038.624730028202805%5D%2C%20%5B-90.2344609374819%2C%2038.62474802486907%5D%2C%20%5B-90.23454568612132%2C%2038.62476602147666%5D%2C%20%5B-90.2346304348034%2C%2038.62478401802295%5D%2C%20%5B-90.23471518237984%2C%2038.62480201450539%5D%2C%20%5B-90.23479993114732%2C%2038.624820010929085%5D%2C%20%5B-90.23488467995422%2C%2038.624838008192356%5D%2C%20%5B-90.23496942880706%2C%2038.62485600449345%5D%2C%20%5B-90.23505417655421%2C%2038.62487400073071%5D%2C%20%5B-90.23513892548911%2C%2038.62489199781012%5D%2C%20%5B-90.23522367447002%2C%2038.624909993927346%5D%2C%20%5B-90.23530842234524%2C%2038.62492798998071%5D%2C%20%5B-90.23541690101635%2C%2038.6249510258155%5D%2C%20%5B-90.235315362869%2C%2038.62525263836039%5D%2C%20%5B-90.23520678164465%2C%2038.62522958148061%5D%2C%20%5B-90.23512195426005%2C%2038.62521156895901%5D%2C%20%5B-90.23502009852034%2C%2038.62551353997034%5D%2C%20%5B-90.23493505816496%2C%2038.62549590160234%5D%2C%20%5B-90.23485001670313%2C%2038.62547826317007%5D%2C%20%5B-90.23476497643169%2C%2038.62546062467866%5D%2C%20%5B-90.23467993620224%2C%2038.62544298612551%5D%2C%20%5B-90.2345948960148%2C%2038.625425347510635%5D%2C%20%5B-90.23450985586932%2C%2038.625407708834054%5D%2C%20%5B-90.23442481576588%2C%2038.62539007009577%5D%2C%20%5B-90.23433977455933%2C%2038.62537243039229%5D%2C%20%5B-90.23425473453983%2C%2038.62535479153054%5D%2C%20%5B-90.2341696945623%2C%2038.62533715260708%5D%2C%20%5B-90.2340608430866%2C%2038.62531457422575%5D%5D%5D%2C%20%22type%22%3A%20%22Polygon%22%7D%2C%20%22id%22%3A%20%2214173%22%2C%20%22properties%22%3A%20%7B%22asdtotal%22%3A%201079410%2C%20%22handle%22%3A%2011829000020%2C%20%22nbrofbldgsres%22%3A%201%2C%20%22ressaleprice%22%3A%20250000.0%2C%20%22zoning%22%3A%20%22J%22%7D%2C%20%22type%22%3A%20%22Feature%22%7D%2C%20%7B%22bbox%22%3A%20%5B-90.25411261528136%2C%2038.641544701996914%2C%20-90.25268635773054%2C%2038.64236565889926%5D%2C%20%22geometry%22%3A%20%7B%22coordinates%22%3A%20%5B%5B%5B-90.25268635773054%2C%2038.64210924476085%5D%2C%20%5B-90.25287627467748%2C%2038.641544701996914%5D%2C%20%5B-90.25387241352186%2C%2038.64175222869876%5D%2C%20%5B-90.25400638057603%2C%2038.64178013702457%5D%2C%20%5B-90.25411261528136%2C%2038.64180221602628%5D%2C%20%5B-90.25403367707729%2C%2038.642036876954506%5D%2C%20%5B-90.25392307752976%2C%2038.64236565889926%5D%2C%20%5B-90.25268635773054%2C%2038.64210924476085%5D%5D%5D%2C%20%22type%22%3A%20%22Polygon%22%7D%2C%20%22id%22%3A%20%2236988%22%2C%20%22properties%22%3A%20%7B%22asdtotal%22%3A%201416100%2C%20%22handle%22%3A%2013908000330%2C%20%22nbrofbldgsres%22%3A%201%2C%20%22ressaleprice%22%3A%200.0%2C%20%22zoning%22%3A%20%22E%22%7D%2C%20%22type%22%3A%20%22Feature%22%7D%2C%20%7B%22bbox%22%3A%20%5B-90.23792214684796%2C%2038.63524282743997%2C%20-90.23703635651258%2C%2038.63597881006142%5D%2C%20%22geometry%22%3A%20%7B%22coordinates%22%3A%20%5B%5B%5B-90.23704531459748%2C%2038.635808482445846%5D%2C%20%5B-90.2370471062117%2C%2038.635803173935386%5D%2C%20%5B-90.23705248106255%2C%2038.63578724570116%5D%2C%20%5B-90.23723620437256%2C%2038.63524282743997%5D%2C%20%5B-90.23726088008374%2C%2038.63524797622253%5D%2C%20%5B-90.2373377007602%2C%2038.6352640053501%5D%2C%20%5B-90.23792214684796%2C%2038.63538595417469%5D%2C%20%5B-90.2377310414627%2C%2038.635952263853355%5D%2C%20%5B-90.23772611609259%2C%2038.63596686071262%5D%2C%20%5B-90.23772208360892%2C%2038.63597881006142%5D%2C%20%5B-90.23713782001109%2C%2038.63585630300469%5D%2C%20%5B-90.23703635651258%2C%2038.635835027700374%5D%2C%20%5B-90.23704352297973%2C%2038.63581379185717%5D%2C%20%5B-90.23704531459748%2C%2038.635808482445846%5D%5D%5D%2C%20%22type%22%3A%20%22Polygon%22%7D%2C%20%22id%22%3A%20%2237935%22%2C%20%22properties%22%3A%20%7B%22asdtotal%22%3A%203761500%2C%20%22handle%22%3A%2013928000165%2C%20%22nbrofbldgsres%22%3A%201%2C%20%22ressaleprice%22%3A%200.0%2C%20%22zoning%22%3A%20%22H%22%7D%2C%20%22type%22%3A%20%22Feature%22%7D%5D%2C%20%22type%22%3A%20%22FeatureCollection%22%7D%29%3B%0A%0A%20%20%20%20%20%20%20%20%0A%20%20%20%20%0A%20%20%20%20geo_json_7b5d932bdeb542298a356eb3c5e73018.bindTooltip%28%0A%20%20%20%20function%28layer%29%7B%0A%20%20%20%20let%20div%20%3D%20L.DomUtil.create%28%27div%27%29%3B%0A%20%20%20%20%0A%20%20%20%20let%20handleObject%20%3D%20feature%3D%3Etypeof%28feature%29%3D%3D%27object%27%20%3F%20JSON.stringify%28feature%29%20%3A%20feature%3B%0A%20%20%20%20let%20fields%20%3D%20%5B%22handle%22%2C%20%22asdtotal%22%5D%3B%0A%20%20%20%20let%20aliases%20%3D%20%5B%22Handle%22%2C%20%22Assessed%20Total%22%5D%3B%0A%20%20%20%20let%20table%20%3D%20%27%3Ctable%3E%27%20%2B%0A%20%20%20%20%20%20%20%20String%28%0A%20%20%20%20%20%20%20%20fields.map%28%0A%20%20%20%20%20%20%20%20%28v%2Ci%29%3D%3E%0A%20%20%20%20%20%20%20%20%60%3Ctr%3E%0A%20%20%20%20%20%20%20%20%20%20%20%20%3Cth%3E%24%7Baliases%5Bi%5D%7D%3C/th%3E%0A%20%20%20%20%20%20%20%20%20%20%20%20%0A%20%20%20%20%20%20%20%20%20%20%20%20%3Ctd%3E%24%7BhandleObject%28layer.feature.properties%5Bv%5D%29%7D%3C/td%3E%0A%20%20%20%20%20%20%20%20%3C/tr%3E%60%29.join%28%27%27%29%29%0A%20%20%20%20%2B%27%3C/table%3E%27%3B%0A%20%20%20%20div.innerHTML%3Dtable%3B%0A%20%20%20%20%0A%20%20%20%20return%20div%0A%20%20%20%20%7D%0A%20%20%20%20%2C%7B%22className%22%3A%20%22foliumtooltip%22%2C%20%22sticky%22%3A%20true%7D%29%3B%0A%20%20%20%20%20%20%20%20%20%20%20%20%20%20%20%20%20%20%20%20%20%0A%3C/script%3E onload=\"this.contentDocument.open();this.contentDocument.write(    decodeURIComponent(this.getAttribute('data-html')));this.contentDocument.close();\" allowfullscreen webkitallowfullscreen mozallowfullscreen></iframe></div></div>"
      ],
      "text/plain": [
       "<folium.folium.Map at 0x7fc58d237ac8>"
      ]
     },
     "execution_count": 76,
     "metadata": {},
     "output_type": "execute_result"
    }
   ],
   "source": [
    "# plot these high-value parcels on a map so we can see what they are\n",
    "m_sm = folium.Map([38.636, -90.238], tiles='openstreetmap', zoom_start=17)\n",
    "\n",
    "folium.GeoJson(\n",
    "    highval_parcels,\n",
    "    tooltip=folium.GeoJsonTooltip(\n",
    "        fields=['handle', 'asdtotal'],\n",
    "        aliases=['Handle', 'Assessed Total']\n",
    "    )\n",
    ").add_to(m_sm)\n",
    "\n",
    "m_sm"
   ]
  },
  {
   "cell_type": "markdown",
   "metadata": {},
   "source": [
    "The highest value parcel is Spring Hall on the Saint Louis University Campus"
   ]
  },
  {
   "cell_type": "code",
   "execution_count": null,
   "metadata": {},
   "outputs": [],
   "source": []
  },
  {
   "cell_type": "code",
   "execution_count": null,
   "metadata": {},
   "outputs": [],
   "source": []
  },
  {
   "cell_type": "code",
   "execution_count": 55,
   "metadata": {},
   "outputs": [
    {
     "name": "stdout",
     "output_type": "stream",
     "text": [
      "There are 561 parcels with more than one residential building (out of 98668 total parcels).\n"
     ]
    }
   ],
   "source": [
    "# how common are parcels with multiple residential buildings\n",
    "print('There are {} parcels with more than one residential building (out of {} total parcels).'.format(\n",
    "    gdf_parcels.loc[gdf_parcels['nbrofbldgsres'] > 1].shape[0],gdf_parcels.shape[0]))\n"
   ]
  },
  {
   "cell_type": "code",
   "execution_count": null,
   "metadata": {},
   "outputs": [],
   "source": []
  },
  {
   "cell_type": "code",
   "execution_count": null,
   "metadata": {},
   "outputs": [],
   "source": []
  },
  {
   "cell_type": "code",
   "execution_count": null,
   "metadata": {},
   "outputs": [],
   "source": []
  },
  {
   "cell_type": "code",
   "execution_count": null,
   "metadata": {},
   "outputs": [],
   "source": []
  },
  {
   "cell_type": "code",
   "execution_count": null,
   "metadata": {},
   "outputs": [],
   "source": []
  },
  {
   "cell_type": "code",
   "execution_count": null,
   "metadata": {},
   "outputs": [],
   "source": []
  },
  {
   "cell_type": "code",
   "execution_count": 105,
   "metadata": {},
   "outputs": [
    {
     "name": "stdout",
     "output_type": "stream",
     "text": [
      "Unrestricted parcel (23873.7) Z-score vs. All parcels = 0.0685\n",
      "norm.cdf(small mu = -2.47) as right-tail p-value for All Parcel distr. -->  0.47270658739936355\n"
     ]
    }
   ],
   "source": [
    "def zscore(x,mu,sigma):\n",
    "    '''Compute the Z-score'''\n",
    "    if (sigma == 0): # We don't have a \"distribution\", i.e. there is no variability!\n",
    "        raise ValueError('Distributions must have non-zero dispersion') \n",
    "\n",
    "    return ((x-mu)/sigma)  # This is the equation above\n",
    "                           # 'x' is the input data value\n",
    "                           # mu is the distribution mean\n",
    "                           # sigma is the distribution standard deviation\n",
    "\n",
    "# End of function\n",
    "\n",
    "\n",
    "all_mu = gdf_parcels.asdtotal.mean()\n",
    "all_sigma = gdf_parcels.asdtotal.std()\n",
    "all_count = len(gdf_parcels.asdtotal)\n",
    "\n",
    "\n",
    "print('Unrestricted parcel ({}) Z-score vs. All parcels = {}'.format(round(small_mu,1),\n",
    "        round(zscore(small_mu,all_mu,all_sigma),4)))\n",
    "\n",
    "\n",
    "# Converted to right-tail\n",
    "print('norm.cdf(small mu = -2.47) as right-tail p-value for All Parcel distr. --> ', \n",
    "          1 - stats.norm.cdf(small_mu,all_mu,all_sigma))"
   ]
  },
  {
   "cell_type": "code",
   "execution_count": 14,
   "metadata": {},
   "outputs": [],
   "source": [
    "# generate summary info from each dataset\n",
    "# df1 = pd.Series(gdf_parcels['asdtotal'].describe().apply(lambda x: format(x, 'f')), name = 'all_parcels')\n",
    "# df2 = pd.Series(gdf_res_remain['asdtotal'].describe().apply(lambda x: format(x, 'f')), name = 'unrestricted_parcels')\n",
    "df1 = gdf_parcels['asdtotal'].describe()\n",
    "df2 = gdf_res_remain['asdtotal'].describe()\n"
   ]
  },
  {
   "cell_type": "code",
   "execution_count": 15,
   "metadata": {},
   "outputs": [
    {
     "data": {
      "text/html": [
       "<style type=\"text/css\">\n",
       "#T_d36ce_ th {\n",
       "  max-width: 80px;\n",
       "  text-align: center;\n",
       "}\n",
       "</style>\n",
       "<table id=\"T_d36ce_\">\n",
       "  <thead>\n",
       "    <tr>\n",
       "      <th class=\"blank level0\" >&nbsp;</th>\n",
       "      <th class=\"col_heading level0 col0\" >All Parcels</th>\n",
       "      <th class=\"col_heading level0 col1\" >Unrestricted Parcels</th>\n",
       "      <th class=\"col_heading level0 col2\" >Delta</th>\n",
       "      <th class=\"col_heading level0 col3\" >Delta %</th>\n",
       "    </tr>\n",
       "  </thead>\n",
       "  <tbody>\n",
       "    <tr>\n",
       "      <th id=\"T_d36ce_level0_row0\" class=\"row_heading level0 row0\" >mean</th>\n",
       "      <td id=\"T_d36ce_row0_col0\" class=\"data row0 col0\" >$21,896</td>\n",
       "      <td id=\"T_d36ce_row0_col1\" class=\"data row0 col1\" >$23,874</td>\n",
       "      <td id=\"T_d36ce_row0_col2\" class=\"data row0 col2\" >$1,978</td>\n",
       "      <td id=\"T_d36ce_row0_col3\" class=\"data row0 col3\" >9.03%</td>\n",
       "    </tr>\n",
       "    <tr>\n",
       "      <th id=\"T_d36ce_level0_row1\" class=\"row_heading level0 row1\" >std</th>\n",
       "      <td id=\"T_d36ce_row1_col0\" class=\"data row1 col0\" >$28,886</td>\n",
       "      <td id=\"T_d36ce_row1_col1\" class=\"data row1 col1\" >$31,528</td>\n",
       "      <td id=\"T_d36ce_row1_col2\" class=\"data row1 col2\" >$2,643</td>\n",
       "      <td id=\"T_d36ce_row1_col3\" class=\"data row1 col3\" >9.15%</td>\n",
       "    </tr>\n",
       "    <tr>\n",
       "      <th id=\"T_d36ce_level0_row2\" class=\"row_heading level0 row2\" >min</th>\n",
       "      <td id=\"T_d36ce_row2_col0\" class=\"data row2 col0\" >$0</td>\n",
       "      <td id=\"T_d36ce_row2_col1\" class=\"data row2 col1\" >$0</td>\n",
       "      <td id=\"T_d36ce_row2_col2\" class=\"data row2 col2\" >$0</td>\n",
       "      <td id=\"T_d36ce_row2_col3\" class=\"data row2 col3\" >nan%</td>\n",
       "    </tr>\n",
       "    <tr>\n",
       "      <th id=\"T_d36ce_level0_row3\" class=\"row_heading level0 row3\" >25%</th>\n",
       "      <td id=\"T_d36ce_row3_col0\" class=\"data row3 col0\" >$4,510</td>\n",
       "      <td id=\"T_d36ce_row3_col1\" class=\"data row3 col1\" >$5,880</td>\n",
       "      <td id=\"T_d36ce_row3_col2\" class=\"data row3 col2\" >$1,370</td>\n",
       "      <td id=\"T_d36ce_row3_col3\" class=\"data row3 col3\" >30.38%</td>\n",
       "    </tr>\n",
       "    <tr>\n",
       "      <th id=\"T_d36ce_level0_row4\" class=\"row_heading level0 row4\" >50%</th>\n",
       "      <td id=\"T_d36ce_row4_col0\" class=\"data row4 col0\" >$16,970</td>\n",
       "      <td id=\"T_d36ce_row4_col1\" class=\"data row4 col1\" >$19,575</td>\n",
       "      <td id=\"T_d36ce_row4_col2\" class=\"data row4 col2\" >$2,605</td>\n",
       "      <td id=\"T_d36ce_row4_col3\" class=\"data row4 col3\" >15.35%</td>\n",
       "    </tr>\n",
       "    <tr>\n",
       "      <th id=\"T_d36ce_level0_row5\" class=\"row_heading level0 row5\" >75%</th>\n",
       "      <td id=\"T_d36ce_row5_col0\" class=\"data row5 col0\" >$30,860</td>\n",
       "      <td id=\"T_d36ce_row5_col1\" class=\"data row5 col1\" >$31,890</td>\n",
       "      <td id=\"T_d36ce_row5_col2\" class=\"data row5 col2\" >$1,030</td>\n",
       "      <td id=\"T_d36ce_row5_col3\" class=\"data row5 col3\" >3.34%</td>\n",
       "    </tr>\n",
       "    <tr>\n",
       "      <th id=\"T_d36ce_level0_row6\" class=\"row_heading level0 row6\" >max</th>\n",
       "      <td id=\"T_d36ce_row6_col0\" class=\"data row6 col0\" >$3,761,500</td>\n",
       "      <td id=\"T_d36ce_row6_col1\" class=\"data row6 col1\" >$3,761,500</td>\n",
       "      <td id=\"T_d36ce_row6_col2\" class=\"data row6 col2\" >$0</td>\n",
       "      <td id=\"T_d36ce_row6_col3\" class=\"data row6 col3\" >0.00%</td>\n",
       "    </tr>\n",
       "  </tbody>\n",
       "</table>\n"
      ],
      "text/plain": [
       "<pandas.io.formats.style.Styler at 0x7f7a8f8a8278>"
      ]
     },
     "execution_count": 15,
     "metadata": {},
     "output_type": "execute_result"
    }
   ],
   "source": [
    "# combine summaries into a single dataframe with appropriate column names\n",
    "asd_summary = pd.merge(df1, df2, right_index = True, left_index = True)\n",
    "asd_summary.columns = ['all_parcels','unrestricted_parcels']\n",
    "# asd_summary.dtypes\n",
    "\n",
    "# compute differncees\n",
    "asd_summary['delta'] = asd_summary['unrestricted_parcels'] - asd_summary['all_parcels']\n",
    "asd_summary['delta_per'] = asd_summary['delta'] / asd_summary['all_parcels']\n",
    "# asd_summary.round(2)\n",
    "\n",
    "# save counts as their own element\n",
    "asd_summary_count = asd_summary[:1]\n",
    "asd_summary_count = asd_summary_count.style.format({'delta_per':'{:.2%}'.format})\n",
    "\n",
    "# drop the non-currency row that we just stored separately\n",
    "asd_summary = asd_summary.drop(asd_summary.index[[0]])\n",
    "\n",
    "# format the numbers for a more intuitive presentation\n",
    "asd_summary.rename(columns = {'all_parcels':'All Parcels','unrestricted_parcels':'Unrestricted Parcels',\n",
    "                              'delta':'Delta','delta_per':'Delta %'}).style.format({\n",
    "    'All Parcels': \"${:,.0f}\".format, \n",
    "    'Unrestricted Parcels': \"${:,.0f}\".format, \n",
    "    'Delta': \"${:,.0f}\".format, \n",
    "    'Delta %': '{:.2%}'.format\n",
    "}).set_table_styles([dict(selector=\"th\",props=[('max-width', '80px'),('text-align', 'center')])])\n"
   ]
  },
  {
   "cell_type": "code",
   "execution_count": 16,
   "metadata": {},
   "outputs": [
    {
     "data": {
      "text/html": [
       "<style type=\"text/css\">\n",
       "</style>\n",
       "<table id=\"T_cfd65_\">\n",
       "  <thead>\n",
       "    <tr>\n",
       "      <th class=\"blank level0\" >&nbsp;</th>\n",
       "      <th class=\"col_heading level0 col0\" >all_parcels</th>\n",
       "      <th class=\"col_heading level0 col1\" >unrestricted_parcels</th>\n",
       "      <th class=\"col_heading level0 col2\" >delta</th>\n",
       "      <th class=\"col_heading level0 col3\" >delta_per</th>\n",
       "    </tr>\n",
       "  </thead>\n",
       "  <tbody>\n",
       "    <tr>\n",
       "      <th id=\"T_cfd65_level0_row0\" class=\"row_heading level0 row0\" >count</th>\n",
       "      <td id=\"T_cfd65_row0_col0\" class=\"data row0 col0\" >98668.000000</td>\n",
       "      <td id=\"T_cfd65_row0_col1\" class=\"data row0 col1\" >48542.000000</td>\n",
       "      <td id=\"T_cfd65_row0_col2\" class=\"data row0 col2\" >-50126.000000</td>\n",
       "      <td id=\"T_cfd65_row0_col3\" class=\"data row0 col3\" >-50.80%</td>\n",
       "    </tr>\n",
       "  </tbody>\n",
       "</table>\n"
      ],
      "text/plain": [
       "<pandas.io.formats.style.Styler at 0x7f7a8f8aeda0>"
      ]
     },
     "execution_count": 16,
     "metadata": {},
     "output_type": "execute_result"
    }
   ],
   "source": [
    "asd_summary_count"
   ]
  },
  {
   "cell_type": "code",
   "execution_count": 17,
   "metadata": {},
   "outputs": [
    {
     "data": {
      "text/html": [
       "<div>\n",
       "<style scoped>\n",
       "    .dataframe tbody tr th:only-of-type {\n",
       "        vertical-align: middle;\n",
       "    }\n",
       "\n",
       "    .dataframe tbody tr th {\n",
       "        vertical-align: top;\n",
       "    }\n",
       "\n",
       "    .dataframe thead th {\n",
       "        text-align: right;\n",
       "    }\n",
       "</style>\n",
       "<table border=\"1\" class=\"dataframe\">\n",
       "  <thead>\n",
       "    <tr style=\"text-align: right;\">\n",
       "      <th></th>\n",
       "      <th>mean</th>\n",
       "      <th>std</th>\n",
       "      <th>min</th>\n",
       "      <th>25%</th>\n",
       "      <th>50%</th>\n",
       "      <th>75%</th>\n",
       "      <th>max</th>\n",
       "    </tr>\n",
       "  </thead>\n",
       "  <tbody>\n",
       "    <tr>\n",
       "      <th>all_parcels</th>\n",
       "      <td>21895.933636</td>\n",
       "      <td>28885.866301</td>\n",
       "      <td>0.0</td>\n",
       "      <td>4510.000000</td>\n",
       "      <td>16970.000000</td>\n",
       "      <td>30860.000000</td>\n",
       "      <td>3761500.0</td>\n",
       "    </tr>\n",
       "    <tr>\n",
       "      <th>unrestricted_parcels</th>\n",
       "      <td>23873.688146</td>\n",
       "      <td>31528.376221</td>\n",
       "      <td>0.0</td>\n",
       "      <td>5880.000000</td>\n",
       "      <td>19575.000000</td>\n",
       "      <td>31890.000000</td>\n",
       "      <td>3761500.0</td>\n",
       "    </tr>\n",
       "    <tr>\n",
       "      <th>delta</th>\n",
       "      <td>1977.754510</td>\n",
       "      <td>2642.509920</td>\n",
       "      <td>0.0</td>\n",
       "      <td>1370.000000</td>\n",
       "      <td>2605.000000</td>\n",
       "      <td>1030.000000</td>\n",
       "      <td>0.0</td>\n",
       "    </tr>\n",
       "    <tr>\n",
       "      <th>delta_per</th>\n",
       "      <td>0.090325</td>\n",
       "      <td>0.091481</td>\n",
       "      <td>NaN</td>\n",
       "      <td>0.303769</td>\n",
       "      <td>0.153506</td>\n",
       "      <td>0.033377</td>\n",
       "      <td>0.0</td>\n",
       "    </tr>\n",
       "  </tbody>\n",
       "</table>\n",
       "</div>"
      ],
      "text/plain": [
       "                              mean           std  min          25%  \\\n",
       "all_parcels           21895.933636  28885.866301  0.0  4510.000000   \n",
       "unrestricted_parcels  23873.688146  31528.376221  0.0  5880.000000   \n",
       "delta                  1977.754510   2642.509920  0.0  1370.000000   \n",
       "delta_per                 0.090325      0.091481  NaN     0.303769   \n",
       "\n",
       "                               50%           75%        max  \n",
       "all_parcels           16970.000000  30860.000000  3761500.0  \n",
       "unrestricted_parcels  19575.000000  31890.000000  3761500.0  \n",
       "delta                  2605.000000   1030.000000        0.0  \n",
       "delta_per                 0.153506      0.033377        0.0  "
      ]
     },
     "execution_count": 17,
     "metadata": {},
     "output_type": "execute_result"
    }
   ],
   "source": [
    "asd_summary_for_plot = asd_summary.transpose()\n",
    "asd_summary_for_plot"
   ]
  },
  {
   "cell_type": "code",
   "execution_count": 26,
   "metadata": {},
   "outputs": [],
   "source": [
    "# import numpy as np\n",
    "# import pandas as pd\n",
    "# import matplotlib.pyplot as plt\n",
    "# from functools import reduce\n",
    "# import matplotlib as mpl"
   ]
  },
  {
   "cell_type": "code",
   "execution_count": 35,
   "metadata": {},
   "outputs": [],
   "source": [
    "# remove outliers for gdf_parcels\n",
    "lowerquantile = 0\n",
    "upperquantile = 1\n",
    "\n",
    "Q1_all = gdf_parcels['asdtotal'].quantile(lowerquantile)\n",
    "Q3_all = gdf_parcels['asdtotal'].quantile(upperquantile)\n",
    "IQR_all = Q3_all - Q1_all\n",
    "\n",
    "gdf_parcels_95 = gdf_parcels['asdtotal'][~((gdf_parcels['asdtotal'] > (Q3_all + 1.5 * IQR_all)))]\n",
    "\n",
    "\n",
    "# remove outliers for gdf_res_remain\n",
    "Q1_remain = gdf_res_remain['asdtotal'].quantile(lowerquantile)\n",
    "Q3_remain = gdf_res_remain['asdtotal'].quantile(upperquantile)\n",
    "IQR_remain = Q3_remain - Q1_remain\n",
    "\n",
    "gdf_res_remain_95 = gdf_res_remain['asdtotal'][~((gdf_res_remain['asdtotal'] > (Q3_remain + 1.5 * IQR_remain)))]"
   ]
  },
  {
   "cell_type": "code",
   "execution_count": 36,
   "metadata": {},
   "outputs": [
    {
     "data": {
      "text/plain": [
       "count    9.866800e+04\n",
       "mean     2.189593e+04\n",
       "std      2.888587e+04\n",
       "min      0.000000e+00\n",
       "25%      4.510000e+03\n",
       "50%      1.697000e+04\n",
       "75%      3.086000e+04\n",
       "max      3.761500e+06\n",
       "Name: asdtotal, dtype: float64"
      ]
     },
     "execution_count": 36,
     "metadata": {},
     "output_type": "execute_result"
    }
   ],
   "source": [
    "gdf_parcels_95.describe()"
   ]
  },
  {
   "cell_type": "code",
   "execution_count": 39,
   "metadata": {},
   "outputs": [
    {
     "data": {
      "image/png": "[encoded data removed]",
      "text/plain": [
       "<Figure size 216x504 with 1 Axes>"
      ]
     },
     "metadata": {},
     "output_type": "display_data"
    }
   ],
   "source": [
    "from matplotlib.ticker import FuncFormatter\n",
    "\n",
    "\n",
    "box_plot_data=[gdf_parcels_95,gdf_res_remain_95]\n",
    "# plt.boxplot(box_plot_data)\n",
    "\n",
    "fig, ax = plt.subplots(figsize=(3,7), facecolor='white')\n",
    "\n",
    "\n",
    "def thousands(x, pos):\n",
    "    'The two args are the value and tick position'\n",
    "    return '$%1.fk' % (x*1e-3)\n",
    "\n",
    "formatter = FuncFormatter(thousands)\n",
    "\n",
    "ax.yaxis.set_major_formatter(formatter)\n",
    "\n",
    "\n",
    "plt.boxplot(box_plot_data, patch_artist=True, labels=['All Parcels','Parcels Available\\nto Offenders'], \n",
    "                showfliers=False, widths = 0.75, boxprops=dict(facecolor='lightgrey'), medianprops=dict(linewidth=2))\n",
    "plt.gca().set(title='Residential Parcel Comparison', ylabel='Assessed Value')\n",
    "\n",
    "for spine in ax.spines:\n",
    "    ax.spines[spine].set_visible(False)\n",
    "\n",
    "plt.show()\n"
   ]
  },
  {
   "cell_type": "code",
   "execution_count": 40,
   "metadata": {},
   "outputs": [],
   "source": [
    "# calculate the difference in means\n",
    "# show this along with a count of parcels \n",
    "# e.g. \"55% fewer parcels (living locations) available to them, and what is there costs 17% more\"\n"
   ]
  },
  {
   "cell_type": "code",
   "execution_count": 41,
   "metadata": {},
   "outputs": [
    {
     "data": {
      "text/plain": [
       "16970.0"
      ]
     },
     "execution_count": 41,
     "metadata": {},
     "output_type": "execute_result"
    }
   ],
   "source": [
    "# gdf_parcels['asdtotal'].mean()\n",
    "gdf_parcels['asdtotal'].median()"
   ]
  },
  {
   "cell_type": "code",
   "execution_count": 42,
   "metadata": {},
   "outputs": [
    {
     "data": {
      "text/plain": [
       "19575.0"
      ]
     },
     "execution_count": 42,
     "metadata": {},
     "output_type": "execute_result"
    }
   ],
   "source": [
    "# gdf_res_remain['asdtotal'].mean()\n",
    "gdf_res_remain['asdtotal'].median()"
   ]
  },
  {
   "cell_type": "code",
   "execution_count": 43,
   "metadata": {},
   "outputs": [
    {
     "data": {
      "text/html": [
       "<div>\n",
       "<style scoped>\n",
       "    .dataframe tbody tr th:only-of-type {\n",
       "        vertical-align: middle;\n",
       "    }\n",
       "\n",
       "    .dataframe tbody tr th {\n",
       "        vertical-align: top;\n",
       "    }\n",
       "\n",
       "    .dataframe thead th {\n",
       "        text-align: right;\n",
       "    }\n",
       "</style>\n",
       "<table border=\"1\" class=\"dataframe\">\n",
       "  <thead>\n",
       "    <tr style=\"text-align: right;\">\n",
       "      <th></th>\n",
       "      <th>mean</th>\n",
       "      <th>50%</th>\n",
       "    </tr>\n",
       "  </thead>\n",
       "  <tbody>\n",
       "    <tr>\n",
       "      <th>all_parcels</th>\n",
       "      <td>21895.933636</td>\n",
       "      <td>16970.000000</td>\n",
       "    </tr>\n",
       "    <tr>\n",
       "      <th>unrestricted_parcels</th>\n",
       "      <td>23873.688146</td>\n",
       "      <td>19575.000000</td>\n",
       "    </tr>\n",
       "    <tr>\n",
       "      <th>delta</th>\n",
       "      <td>1977.754510</td>\n",
       "      <td>2605.000000</td>\n",
       "    </tr>\n",
       "    <tr>\n",
       "      <th>delta_per</th>\n",
       "      <td>0.090325</td>\n",
       "      <td>0.153506</td>\n",
       "    </tr>\n",
       "  </tbody>\n",
       "</table>\n",
       "</div>"
      ],
      "text/plain": [
       "                              mean           50%\n",
       "all_parcels           21895.933636  16970.000000\n",
       "unrestricted_parcels  23873.688146  19575.000000\n",
       "delta                  1977.754510   2605.000000\n",
       "delta_per                 0.090325      0.153506"
      ]
     },
     "execution_count": 43,
     "metadata": {},
     "output_type": "execute_result"
    }
   ],
   "source": [
    "asd_summary_for_plot[['mean','50%']]"
   ]
  },
  {
   "cell_type": "code",
   "execution_count": 44,
   "metadata": {
    "scrolled": true
   },
   "outputs": [
    {
     "data": {
      "image/png": "[encoded data removed]",
      "text/plain": [
       "<Figure size 720x504 with 1 Axes>"
      ]
     },
     "metadata": {
      "needs_background": "light"
     },
     "output_type": "display_data"
    }
   ],
   "source": [
    "import seaborn as sns\n",
    "\n",
    "# plot distplot\n",
    "fig, ax = plt.subplots(figsize=(10,7))\n",
    "# sns.distplot(data, ax = ax)\n",
    "sns.kdeplot(gdf_parcels['asdtotal'],  ax=ax, color='blue', label='all')\n",
    "sns.kdeplot(gdf_res_remain['asdtotal'], ax=ax, color='red', label='nonrestricted')\n",
    "\n",
    "    \n",
    "# change the limits of X-axis\n",
    "ax.set_xlim(0, 150000)\n",
    "plt.legend()\n",
    "plt.show()"
   ]
  },
  {
   "cell_type": "code",
   "execution_count": null,
   "metadata": {},
   "outputs": [],
   "source": []
  },
  {
   "cell_type": "code",
   "execution_count": null,
   "metadata": {},
   "outputs": [],
   "source": []
  },
  {
   "cell_type": "code",
   "execution_count": null,
   "metadata": {},
   "outputs": [],
   "source": []
  },
  {
   "cell_type": "code",
   "execution_count": null,
   "metadata": {},
   "outputs": [],
   "source": []
  }
 ],
 "metadata": {
  "kernelspec": {
   "display_name": "Python 3",
   "language": "python",
   "name": "python3"
  },
  "language_info": {
   "codemirror_mode": {
    "name": "ipython",
    "version": 3
   },
   "file_extension": ".py",
   "mimetype": "text/x-python",
   "name": "python",
   "nbconvert_exporter": "python",
   "pygments_lexer": "ipython3",
   "version": "3.7.3"
  }
 },
 "nbformat": 4,
 "nbformat_minor": 2
}
