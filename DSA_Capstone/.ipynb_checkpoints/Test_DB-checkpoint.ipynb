{
 "cells": [
  {
   "cell_type": "markdown",
   "metadata": {},
   "source": [
    "`cappsds_psmd39` as a PostGIS DB on ~~`psql.dsa.lan`~~ (`pgsql.dsa.lan`?)   \n",
    "The credentials will be your regular` MU creds"
   ]
  },
  {
   "cell_type": "markdown",
   "metadata": {},
   "source": [
    "### Connect to the database"
   ]
  },
  {
   "cell_type": "code",
   "execution_count": 3,
   "metadata": {},
   "outputs": [
    {
     "name": "stdout",
     "output_type": "stream",
     "text": [
      "········\n"
     ]
    }
   ],
   "source": [
    "import getpass\n",
    "mypasswd = getpass.getpass()\n"
   ]
  },
  {
   "cell_type": "code",
   "execution_count": 4,
   "metadata": {},
   "outputs": [],
   "source": [
    "import psycopg2\n",
    "import numpy\n",
    "from psycopg2.extensions import adapt, register_adapter, AsIs\n",
    "\n",
    "# set up connection\n",
    "conn = psycopg2.connect(database = 'cappsds_psmd39', \n",
    "                              user = 'psmd39', \n",
    "                              host = 'pgsql.dsa.lan',\n",
    "                              password = mypasswd)"
   ]
  },
  {
   "cell_type": "code",
   "execution_count": 5,
   "metadata": {},
   "outputs": [],
   "source": [
    "del mypasswd"
   ]
  },
  {
   "cell_type": "code",
   "execution_count": 6,
   "metadata": {},
   "outputs": [
    {
     "data": {
      "text/plain": [
       "['spatial_ref_sys',\n",
       " 'country_borders',\n",
       " 'gadm_admin_borders',\n",
       " 'geonames_feature']"
      ]
     },
     "execution_count": 6,
     "metadata": {},
     "output_type": "execute_result"
    }
   ],
   "source": [
    "# establish cursor and read the tables\n",
    "cursor = conn.cursor()\n",
    "\n",
    "cursor.execute(\"\"\"SELECT relname FROM pg_class WHERE relkind='r'\n",
    "                  AND relname !~ '^(pg_|sql_)';\"\"\") # \"rel\" is short for relation.\n",
    "\n",
    "tables = [i[0] for i in cursor.fetchall()] # A list() of tables.\n",
    "tables"
   ]
  },
  {
   "cell_type": "code",
   "execution_count": 7,
   "metadata": {},
   "outputs": [
    {
     "data": {
      "text/plain": [
       "[('public', 'spatial_ref_sys')]"
      ]
     },
     "execution_count": 7,
     "metadata": {},
     "output_type": "execute_result"
    }
   ],
   "source": [
    "# check out the schema\n",
    "cursor.execute(\"\"\"SELECT table_schema, table_name\n",
    "                      FROM information_schema.tables\n",
    "                      WHERE table_schema != 'pg_catalog'\n",
    "                      AND table_schema != 'information_schema'\n",
    "                      AND table_type='BASE TABLE'\n",
    "                      ORDER BY table_schema, table_name\"\"\")\n",
    "\n",
    "tables = cursor.fetchall()\n",
    "tables"
   ]
  },
  {
   "cell_type": "code",
   "execution_count": 8,
   "metadata": {},
   "outputs": [
    {
     "data": {
      "text/html": [
       "<div>\n",
       "<style scoped>\n",
       "    .dataframe tbody tr th:only-of-type {\n",
       "        vertical-align: middle;\n",
       "    }\n",
       "\n",
       "    .dataframe tbody tr th {\n",
       "        vertical-align: top;\n",
       "    }\n",
       "\n",
       "    .dataframe thead th {\n",
       "        text-align: right;\n",
       "    }\n",
       "</style>\n",
       "<table border=\"1\" class=\"dataframe\">\n",
       "  <thead>\n",
       "    <tr style=\"text-align: right;\">\n",
       "      <th></th>\n",
       "      <th>srid</th>\n",
       "      <th>auth_name</th>\n",
       "      <th>auth_srid</th>\n",
       "      <th>srtext</th>\n",
       "      <th>proj4text</th>\n",
       "    </tr>\n",
       "  </thead>\n",
       "  <tbody>\n",
       "    <tr>\n",
       "      <th>0</th>\n",
       "      <td>3819</td>\n",
       "      <td>EPSG</td>\n",
       "      <td>3819</td>\n",
       "      <td>GEOGCS[\"HD1909\",DATUM[\"Hungarian_Datum_1909\",S...</td>\n",
       "      <td>+proj=longlat +ellps=bessel +towgs84=595.48,12...</td>\n",
       "    </tr>\n",
       "    <tr>\n",
       "      <th>1</th>\n",
       "      <td>3821</td>\n",
       "      <td>EPSG</td>\n",
       "      <td>3821</td>\n",
       "      <td>GEOGCS[\"TWD67\",DATUM[\"Taiwan_Datum_1967\",SPHER...</td>\n",
       "      <td>+proj=longlat +ellps=aust_SA +no_defs</td>\n",
       "    </tr>\n",
       "    <tr>\n",
       "      <th>2</th>\n",
       "      <td>3824</td>\n",
       "      <td>EPSG</td>\n",
       "      <td>3824</td>\n",
       "      <td>GEOGCS[\"TWD97\",DATUM[\"Taiwan_Datum_1997\",SPHER...</td>\n",
       "      <td>+proj=longlat +ellps=GRS80 +towgs84=0,0,0,0,0,...</td>\n",
       "    </tr>\n",
       "    <tr>\n",
       "      <th>3</th>\n",
       "      <td>3889</td>\n",
       "      <td>EPSG</td>\n",
       "      <td>3889</td>\n",
       "      <td>GEOGCS[\"IGRS\",DATUM[\"Iraqi_Geospatial_Referenc...</td>\n",
       "      <td>+proj=longlat +ellps=GRS80 +towgs84=0,0,0,0,0,...</td>\n",
       "    </tr>\n",
       "    <tr>\n",
       "      <th>4</th>\n",
       "      <td>3906</td>\n",
       "      <td>EPSG</td>\n",
       "      <td>3906</td>\n",
       "      <td>GEOGCS[\"MGI 1901\",DATUM[\"MGI_1901\",SPHEROID[\"B...</td>\n",
       "      <td>+proj=longlat +ellps=bessel +towgs84=682,-203,...</td>\n",
       "    </tr>\n",
       "    <tr>\n",
       "      <th>5</th>\n",
       "      <td>4001</td>\n",
       "      <td>EPSG</td>\n",
       "      <td>4001</td>\n",
       "      <td>GEOGCS[\"Unknown datum based upon the Airy 1830...</td>\n",
       "      <td>+proj=longlat +ellps=airy +no_defs</td>\n",
       "    </tr>\n",
       "    <tr>\n",
       "      <th>6</th>\n",
       "      <td>4002</td>\n",
       "      <td>EPSG</td>\n",
       "      <td>4002</td>\n",
       "      <td>GEOGCS[\"Unknown datum based upon the Airy Modi...</td>\n",
       "      <td>+proj=longlat +ellps=mod_airy +no_defs</td>\n",
       "    </tr>\n",
       "    <tr>\n",
       "      <th>7</th>\n",
       "      <td>4003</td>\n",
       "      <td>EPSG</td>\n",
       "      <td>4003</td>\n",
       "      <td>GEOGCS[\"Unknown datum based upon the Australia...</td>\n",
       "      <td>+proj=longlat +ellps=aust_SA +no_defs</td>\n",
       "    </tr>\n",
       "    <tr>\n",
       "      <th>8</th>\n",
       "      <td>4004</td>\n",
       "      <td>EPSG</td>\n",
       "      <td>4004</td>\n",
       "      <td>GEOGCS[\"Unknown datum based upon the Bessel 18...</td>\n",
       "      <td>+proj=longlat +ellps=bessel +no_defs</td>\n",
       "    </tr>\n",
       "    <tr>\n",
       "      <th>9</th>\n",
       "      <td>4005</td>\n",
       "      <td>EPSG</td>\n",
       "      <td>4005</td>\n",
       "      <td>GEOGCS[\"Unknown datum based upon the Bessel Mo...</td>\n",
       "      <td>+proj=longlat +a=6377492.018 +b=6356173.508712...</td>\n",
       "    </tr>\n",
       "  </tbody>\n",
       "</table>\n",
       "</div>"
      ],
      "text/plain": [
       "   srid auth_name  auth_srid  \\\n",
       "0  3819      EPSG       3819   \n",
       "1  3821      EPSG       3821   \n",
       "2  3824      EPSG       3824   \n",
       "3  3889      EPSG       3889   \n",
       "4  3906      EPSG       3906   \n",
       "5  4001      EPSG       4001   \n",
       "6  4002      EPSG       4002   \n",
       "7  4003      EPSG       4003   \n",
       "8  4004      EPSG       4004   \n",
       "9  4005      EPSG       4005   \n",
       "\n",
       "                                              srtext  \\\n",
       "0  GEOGCS[\"HD1909\",DATUM[\"Hungarian_Datum_1909\",S...   \n",
       "1  GEOGCS[\"TWD67\",DATUM[\"Taiwan_Datum_1967\",SPHER...   \n",
       "2  GEOGCS[\"TWD97\",DATUM[\"Taiwan_Datum_1997\",SPHER...   \n",
       "3  GEOGCS[\"IGRS\",DATUM[\"Iraqi_Geospatial_Referenc...   \n",
       "4  GEOGCS[\"MGI 1901\",DATUM[\"MGI_1901\",SPHEROID[\"B...   \n",
       "5  GEOGCS[\"Unknown datum based upon the Airy 1830...   \n",
       "6  GEOGCS[\"Unknown datum based upon the Airy Modi...   \n",
       "7  GEOGCS[\"Unknown datum based upon the Australia...   \n",
       "8  GEOGCS[\"Unknown datum based upon the Bessel 18...   \n",
       "9  GEOGCS[\"Unknown datum based upon the Bessel Mo...   \n",
       "\n",
       "                                           proj4text  \n",
       "0  +proj=longlat +ellps=bessel +towgs84=595.48,12...  \n",
       "1             +proj=longlat +ellps=aust_SA +no_defs   \n",
       "2  +proj=longlat +ellps=GRS80 +towgs84=0,0,0,0,0,...  \n",
       "3  +proj=longlat +ellps=GRS80 +towgs84=0,0,0,0,0,...  \n",
       "4  +proj=longlat +ellps=bessel +towgs84=682,-203,...  \n",
       "5                +proj=longlat +ellps=airy +no_defs   \n",
       "6            +proj=longlat +ellps=mod_airy +no_defs   \n",
       "7             +proj=longlat +ellps=aust_SA +no_defs   \n",
       "8              +proj=longlat +ellps=bessel +no_defs   \n",
       "9  +proj=longlat +a=6377492.018 +b=6356173.508712...  "
      ]
     },
     "execution_count": 8,
     "metadata": {},
     "output_type": "execute_result"
    }
   ],
   "source": [
    "# query some rows from a table and read them into a pandas df \n",
    "import pandas as pd\n",
    "\n",
    "sql = \"select * from spatial_ref_sys LIMIT 10;\"\n",
    "df = pd.read_sql_query(sql, conn)\n",
    "df"
   ]
  },
  {
   "cell_type": "markdown",
   "metadata": {},
   "source": [
    "### Load some data into my own table"
   ]
  },
  {
   "cell_type": "code",
   "execution_count": null,
   "metadata": {},
   "outputs": [],
   "source": [
    "# read in the public schools GeoJSON file\n",
    "pub_schools = gpd.read_file('data/MO_Public_Schools.geojson')"
   ]
  },
  {
   "cell_type": "code",
   "execution_count": null,
   "metadata": {},
   "outputs": [],
   "source": [
    "# drop the columns we have no use for \n",
    "pub_schools.drop(['CtyDist','SchNum','SchID','Phone','FAX','BGrade','EGrade','Principal','PrinTitle','Teachers','Enrollment','Email','Loc_Code'], \n",
    "                 inplace=True, axis=1)\n"
   ]
  },
  {
   "cell_type": "code",
   "execution_count": null,
   "metadata": {
    "scrolled": true
   },
   "outputs": [],
   "source": [
    "# this dataset covers the entire state, so filter it down to just St. Louis\n",
    "# note that we may be able to expand to include the COUNTY of St. Louis - we can reassess this later\n",
    "# sorted(pub_schools.City.unique())\n",
    "stl_schools_pub = pub_schools.loc[pub_schools['City'] == 'St. Louis']\n",
    "\n",
    "# convert column names to lowercase for easier work later\n",
    "stl_schools_pub.columns=stl_schools_pub.columns.str.lower()\n",
    "\n",
    "stl_schools_pub.head()"
   ]
  },
  {
   "cell_type": "code",
   "execution_count": null,
   "metadata": {},
   "outputs": [],
   "source": [
    "stl_schools_pub.dtypes"
   ]
  },
  {
   "cell_type": "code",
   "execution_count": null,
   "metadata": {},
   "outputs": [],
   "source": [
    "gpd.__version__"
   ]
  },
  {
   "cell_type": "markdown",
   "metadata": {},
   "source": [
    "#### NOTE\n",
    "`to_postgis` is only availale after geopandas 0.8.1\n",
    "\n",
    "https://geopandas.org/en/stable/docs/reference/api/geopandas.GeoDataFrame.to_postgis.html  \n",
    "https://gis.stackexchange.com/questions/239198/adding-geopandas-dataframe-to-postgis-table"
   ]
  },
  {
   "cell_type": "code",
   "execution_count": null,
   "metadata": {},
   "outputs": [],
   "source": [
    "stl_schools_pub.to_postgis(\n",
    "    con=conn,\n",
    "    name=\"stlpubschools\"\n",
    ")"
   ]
  },
  {
   "cell_type": "code",
   "execution_count": null,
   "metadata": {},
   "outputs": [],
   "source": []
  }
 ],
 "metadata": {
  "kernelspec": {
   "display_name": "Python 3",
   "language": "python",
   "name": "python3"
  },
  "language_info": {
   "codemirror_mode": {
    "name": "ipython",
    "version": 3
   },
   "file_extension": ".py",
   "mimetype": "text/x-python",
   "name": "python",
   "nbconvert_exporter": "python",
   "pygments_lexer": "ipython3",
   "version": "3.7.3"
  }
 },
 "nbformat": 4,
 "nbformat_minor": 2
}
