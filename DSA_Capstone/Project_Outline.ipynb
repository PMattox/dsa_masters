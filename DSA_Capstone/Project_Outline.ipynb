{
 "cells": [
  {
   "cell_type": "markdown",
   "metadata": {},
   "source": [
    "# Mattox Capstone Project Outline\n",
    "#### An Examination of the Impacts of Sex Offender Residence Restrictions in St. Louis, MO"
   ]
  },
  {
   "cell_type": "markdown",
   "metadata": {},
   "source": [
    "### 1. Initial Data Ingest, Carpentry, and Database Loading\n",
    "Pull in all the datasets we will need, transform the data into a format that will facilitate our later analysis, and then store the results in a database for easy access later.\n",
    "\n",
    "Public school shapefile  \n",
    "Private school shapefile  \n",
    "Childcare facility spreadsheet  \n",
    "[Sex offender registry spreadsheet](https://europa.dsa.missouri.edu/user/psmd39/notebooks/dsa_masters/DSA_Capstone/MSOR.ipynb)  \n",
    "[Zoning shapefile + zoning codes](https://europa.dsa.missouri.edu/user/psmd39/notebooks/dsa_masters/DSA_Capstone/Zoning.ipynb) \n",
    "\n",
    "### 2. Combine Data Layers\n",
    "Load our processed geodata from our PostGIS database, then work to get new data layers that paint a picture of the impacts we're working to assess.\n",
    "\n",
    "[Geodata Fusion](https://europa.dsa.missouri.edu/user/psmd39/notebooks/dsa_masters/DSA_Capstone/Geodata%20Fusion.ipynb)  \n",
    "[Parcel Value](https://europa.dsa.missouri.edu/user/psmd39/notebooks/dsa_masters/DSA_Capstone/Parcel_Value.ipynb)\n",
    "\n",
    "### 3. Conduct Analysis on Processed Data\n",
    "Look into the results of combination and geodata fusion work to quantify the impacts of sex offender residence restrictions.\n",
    "\n",
    "[Analysis - Residential Area](https://europa.dsa.missouri.edu/user/psmd39/notebooks/dsa_masters/DSA_Capstone/Analysis%20-%20Residential%20Area.ipynb) \n"
   ]
  },
  {
   "cell_type": "markdown",
   "metadata": {},
   "source": [
    "---"
   ]
  },
  {
   "cell_type": "markdown",
   "metadata": {},
   "source": [
    "## To Do\n",
    "\n",
    "**Start working with the data**  \n",
    "✓ Reduce public school data to STL only  \n",
    "✓ Reduce private school data to STL only  \n",
    "✓ Initial carpentry for childcare facilities  \n",
    "---- Reduce to STL only  \n",
    "---- Convert address info to geocode-compatible format  \n",
    "---- Geocode addresses to get lat/lon  \n",
    "☐ Examine childcare facility entries that failed geocoding  \n",
    "---- Clean up text addresses for better compatability with geocoder    \n",
    "---? Would it be better to manually fix these ~two dozen items?  \n",
    "✓ Initial carpentry for sex offender registry  \n",
    "---- Reduce to STL only   \n",
    "---- Convert address info to geocode-compatible format  \n",
    "---- Geocode addresses to get lat/lon  \n",
    "☐ Examine sex offender registry entries that failed geocoding  \n",
    "---- Clean up text addresses for better compatability with geocoder    \n",
    "✓ Merge zoning shapefile data with codes  \n",
    "---- Classify as residential/non-residential  \n",
    "---- Maintain original (translated) categorization\n",
    "\n",
    "**Plot points on interactive map (folium)**  \n",
    "✓ Plot public schools    \n",
    "✓ Plot private schools  \n",
    "✓ Plot childcare facilities  \n",
    "✓ Plot sex offender locations\n",
    "\n",
    "**Expand point data to reflect restricted area (circular buffer)**  \n",
    "✓ Public schools - CRQ conversion/understanding  \n",
    "✓ Public schools - expand to circle  \n",
    "✓ Private schools - CRQ conversion/understanding  \n",
    "✓ Private schools - expand to circle  \n",
    "✓ Childcare facilities - CRQ conversion/understanding  \n",
    "✓ Childcare facilities - expand to circle  \n",
    "\n",
    "**Back up project to GitHub**  \n",
    "✓ Set up a GitHub account  \n",
    "✓ Figure out how to connect my Mizzou work to my GitHub repo  \n",
    "✓ Commit/push my code & data to GitHub\n",
    "\n",
    "**Load geodata into postgres/GIS database**  \n",
    "✓ DB test completed in standalone notebook (access, load, retrieve)  \n",
    "✓ Public school geodata loaded  \n",
    "✓ Private school geodata loaded  \n",
    "✓ Childcare facility geodata loaded  \n",
    "☐½ Sex offender geodata loaded  \n",
    "✓ Zoning data loaded\n",
    "\n",
    "**Fuse geodata**  \n",
    "✓ Fuse all restricted together to create a simplified view  \n",
    "✓ Load fused data into PostGIS  \n",
    "✓ Subtract restricted areas from residential  \n",
    "✓ Load end results into PostGIS  \n",
    "\n",
    "**Cost data**  \n",
    "✓ Find good source of price (rent and/or real estate purchase) data  \n",
    "✓ Combine value assesment data with parcel geometry  \n",
    "✓ Merge with zoning info  \n",
    "✓ Downselect to residential data only   \n",
    "---- Use residential zoning polygons as bounding boxes  \n",
    "✓ Investigate 0 value RESIDENTIAL parcels  \n",
    "☐ Use parcel data exclusively (no more zoning data)?   \n",
    "---- NumResBldgs as basis  \n",
    "------ Need to compare to zoning  \n",
    "------ Find the difference/overlayouter between parcels and residential zoning  \n",
    "\n",
    "**Analyze results of geo work**  \n",
    "✓ Quantify total residential area    \n",
    "✓ Quantify total restricted area   \n",
    "✓ Quantify residental area available to sex offenders (total res - total restricted)  \n",
    "☐ Quantify potentially non-compliant sex offenders (w/in restricted area; filter/group by offense/level)  \n",
    "☐ DO SOMETHING WITH COST INFO (TBD)\n",
    "\n",
    "**Opportunities for additional cleanup and bonus work**  \n",
    "☐ Database improvement: one table for all flat/dissolved geometry  \n",
    "---- Need to add columns for name, description  \n",
    "☐ Zoning data - apply some label to layer == 2  "
   ]
  },
  {
   "cell_type": "code",
   "execution_count": null,
   "metadata": {},
   "outputs": [],
   "source": []
  }
 ],
 "metadata": {
  "kernelspec": {
   "display_name": "Python 3",
   "language": "python",
   "name": "python3"
  },
  "language_info": {
   "codemirror_mode": {
    "name": "ipython",
    "version": 3
   },
   "file_extension": ".py",
   "mimetype": "text/x-python",
   "name": "python",
   "nbconvert_exporter": "python",
   "pygments_lexer": "ipython3",
   "version": "3.7.3"
  }
 },
 "nbformat": 4,
 "nbformat_minor": 2
}
