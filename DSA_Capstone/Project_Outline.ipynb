{
 "cells": [
  {
   "cell_type": "markdown",
   "metadata": {},
   "source": [
    "# Mattox Capstone Project Outline\n",
    "#### An Examination of the Impacts of Sex Offender Residence Restrictions in St. Louis, MO         \n",
    "\n"
   ]
  },
  {
   "cell_type": "markdown",
   "metadata": {},
   "source": [
    "This project aims to answer the following question:  \n",
    "\n",
    "> **What are the impacts of sex offender residence restrictions?**\n",
    "\n",
    "To do this, we must first break the question down into actionable elements, then conduct the data science lifecyle until we reach suitable answers. Our actionable elements will be: \n",
    "\n",
    ">**Q1:** How much livable residential space does this provide for sex offenders to legally reside in relation to the overall residential area of the same region?\n",
    "\n",
    ">**Q2:** Do the residential restrictions result in any cost of living (housing) impacts?\n",
    "\n",
    ">**Q3:** Are there any persons currently on the sex offender registry who may be in violation of the special consideration restrictions?\n",
    "\n",
    "We also need to scope the project so we understand the data to gather as well as how someone else might repeat (or adjust) our work. This project's scope will be:\n",
    "\n",
    "1. Limit to the City of St. Louis, MO  \n",
    "2. Utilize free, open source, and publicly-available data  \n",
    "    - Public school, private school and childcare facility locations  \n",
    "    - City zoning/parcel geometry  \n",
    "    - Sex offender registry   \n",
    "    - Property values/assessment results  \n",
    "3. Work in Python with a PostGIS database  "
   ]
  },
  {
   "cell_type": "markdown",
   "metadata": {},
   "source": [
    "----"
   ]
  },
  {
   "cell_type": "markdown",
   "metadata": {},
   "source": [
    "### 1. Initial Data Ingest, Carpentry, and Database Loading\n",
    "Pull in all the datasets we will need, transform the data into a format that will facilitate our later analysis, and then store the results in a database for easy access later.\n",
    "\n",
    "[Public School Shapefile](Public_Schools.ipynb)  \n",
    "[Private School Shapefile](Private_Schools.ipynb)  \n",
    "[Childcare Facility Spreadsheet](Childcare_Facilities.ipynb)  \n",
    "[Sex Offender Registry Spreadsheet](MSOR.ipynb)  \n",
    "&emsp;⤷ [Fixing Entries That Failed Geocoding](Failed_Geocoding_MSOR.ipynb)  \n",
    "[Parcel Value](Parcel_Value.ipynb)\n",
    "\n",
    "### 2. Combine Data Layers\n",
    "Load our processed geodata from our PostGIS database, then work to get new data layers that paint a picture of the impacts we're working to assess.\n",
    "\n",
    "[Geodata Fusion](Geodata%20Fusion.ipynb)  \n",
    "\n",
    "### 3. Conduct Analysis on Processed Data\n",
    "Look into the results of combination and geodata fusion work to quantify the impacts of sex offender residence restrictions.\n",
    "\n",
    "[Analysis - Residential Area](Analysis%20-%20Residential%20Area.ipynb)  \n",
    "[Analysis - Parcel Value](Analysis%20-%20Parcel%20Value.ipynb)  \n",
    "[Analysis - Sex Offender Potential Noncompliance](Analysis%20-%20SO%20Potential%20Noncompliance.ipynb)\n",
    "\n",
    "### 4. View Results\n",
    "[Map of St. Louis Sex Offender Locations and Status](stl_so.html)"
   ]
  },
  {
   "cell_type": "markdown",
   "metadata": {},
   "source": [
    "---"
   ]
  },
  {
   "cell_type": "markdown",
   "metadata": {},
   "source": [
    "## Database Table Summary Info\n",
    "\n",
    "Summary of the tables created and utilized by this project. PostGIS database `cappsds_psmd39` on `pgsql.dsa.lan` will contain the following tables upon successful execution all notebooks:  \n",
    "\n",
    "`country_borders`  \n",
    "&emsp; _default inclusion_     \n",
    " `gadm_admin_borders`  \n",
    " &emsp; _default inclusion_  \n",
    " `geonames_feature`  \n",
    " &emsp; _default inclusion_  \n",
    " `msorfailedgeocoding`  \n",
    " &emsp; Items from the Missouri Sex Offender Registry that failed geocoding.  \n",
    " `msorfailedgeocodingv2`  \n",
    " &emsp; Items from the Missouri Sex Offender Registry that failed geocoding even after the initial clean-up. This is a subset of `msorfailedgeocoding`.   \n",
    " `spatial_ref_sys`  \n",
    " &emsp; _default inclusion_   \n",
    " `stlchildcare`  \n",
    " &emsp; Childcare facilities in St. Louis with restricted buffer circles (1,000ft. radius) applied   \n",
    " `stlnonrestrictedresparcels`   \n",
    " &emsp; Polygons of residential parcels in St. Louis that sex offenders are able to reside in.   \n",
    " &emsp; That is, `stlresparcels` - `stlrestrictedflat`.  \n",
    " `stlpubschools`   \n",
    " &emsp; Public schools in St. Louis with restricted buffer circles (1,000ft. radius) applied   \n",
    " `stlpvtschools`  \n",
    " &emsp; Private schools in St. Louis with restricted buffer circles (1,000ft. radius) applied   \n",
    " `stlresparcels`  \n",
    " &emsp; Polygons of residential parcels (i.e. individual lots of property) in St. Louis. Also includes identifiers (handle, parcel ID, GIS parcel number) and multiple value columns (assessed total, billing total, land appraisal). Based on in the inclusion of at least one residential building within the parcel.  \n",
    " `stlrestrictedflat`  \n",
    " &emsp; Multipolygon of combined restricted areas.   \n",
    " &emsp; That is, `stlchildcare` + `stlpubschools` + `stlpvtschools`, which was then dissolved.  \n",
    " `stlrestrictedresparcels`  \n",
    " &emsp; The converse to `stlnonrestrictedresparcels`. Polygons of residential parcels in St. Louis that sex offenders are NOT able to reside in.   \n",
    " `stlsexoffenders`  \n",
    " &emsp; Point (lat/lon) locations of registered sex offenders in St. Louis.  "
   ]
  }
 ],
 "metadata": {
  "kernelspec": {
   "display_name": "Python 3",
   "language": "python",
   "name": "python3"
  },
  "language_info": {
   "codemirror_mode": {
    "name": "ipython",
    "version": 3
   },
   "file_extension": ".py",
   "mimetype": "text/x-python",
   "name": "python",
   "nbconvert_exporter": "python",
   "pygments_lexer": "ipython3",
   "version": "3.7.3"
  }
 },
 "nbformat": 4,
 "nbformat_minor": 2
}
