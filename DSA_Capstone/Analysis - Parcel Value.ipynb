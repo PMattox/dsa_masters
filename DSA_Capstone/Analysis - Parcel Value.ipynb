{
 "cells": [
  {
   "cell_type": "markdown",
   "metadata": {},
   "source": [
    "# Analysis - Parcel Value"
   ]
  },
  {
   "cell_type": "markdown",
   "metadata": {},
   "source": [
    "Here we will be looking further into the results of the [geodata fusion](Geodata%20Fusion.ipynb) work in order to quantify any differences in residential parcel value for two populations: the parcels *available to* sex offenders and the parcels *restricted from* sex offenders.\n",
    "\n",
    "In this notebook, we look to answer **Q2:** Do the residential restrictions result in any cost of living (housing) impacts?\n"
   ]
  },
  {
   "cell_type": "code",
   "execution_count": 1,
   "metadata": {},
   "outputs": [],
   "source": [
    "# IMPORTS\n",
    "import geopandas as gpd\n",
    "import pandas as pd\n",
    "\n",
    "import os\n",
    "import urllib.request\n",
    "import requests\n",
    "import shutil\n",
    "from pathlib import Path\n",
    "from zipfile import ZipFile\n",
    "\n",
    "import matplotlib.pyplot as plt\n",
    "from matplotlib import pyplot\n",
    "\n",
    "import folium\n",
    "\n",
    "from shapely.geometry import Point, Polygon\n",
    "\n",
    "from geopandas.tools import overlay"
   ]
  },
  {
   "cell_type": "code",
   "execution_count": 2,
   "metadata": {},
   "outputs": [],
   "source": [
    "# pip install GeoAlchemy2"
   ]
  },
  {
   "cell_type": "code",
   "execution_count": 3,
   "metadata": {},
   "outputs": [],
   "source": [
    "# a few more imports specfic to the database process\n",
    "# import geoalchemy2 # this is only needed if we're going to load data back into PostGIS\n",
    "import getpass\n",
    "\n",
    "import psycopg2\n",
    "import numpy\n",
    "from psycopg2.extensions import adapt, register_adapter, AsIs\n",
    "\n",
    "from sqlalchemy import create_engine\n"
   ]
  },
  {
   "cell_type": "markdown",
   "metadata": {},
   "source": [
    "### Establish database connection"
   ]
  },
  {
   "cell_type": "code",
   "execution_count": 4,
   "metadata": {},
   "outputs": [
    {
     "name": "stdout",
     "output_type": "stream",
     "text": [
      "········\n"
     ]
    }
   ],
   "source": [
    "# get user password for connecting to the db\n",
    "mypasswd = getpass.getpass()"
   ]
  },
  {
   "cell_type": "code",
   "execution_count": 5,
   "metadata": {},
   "outputs": [],
   "source": [
    "# set up db connection\n",
    "conn = psycopg2.connect(database = 'cappsds_psmd39', \n",
    "                              user = 'psmd39', \n",
    "                              host = 'pgsql.dsa.lan',\n",
    "                              password = mypasswd)\n"
   ]
  },
  {
   "cell_type": "code",
   "execution_count": 6,
   "metadata": {
    "scrolled": true
   },
   "outputs": [
    {
     "data": {
      "text/plain": [
       "['country_borders',\n",
       " 'gadm_admin_borders',\n",
       " 'geonames_feature',\n",
       " 'msorfailedgeocoding',\n",
       " 'msorfailedgeocodingv2',\n",
       " 'spatial_ref_sys',\n",
       " 'stlchildcare',\n",
       " 'stlnonrestrictedresidential',\n",
       " 'stlnonrestrictedresparcels',\n",
       " 'stlpubschools',\n",
       " 'stlpvtschools',\n",
       " 'stlresparcels',\n",
       " 'stlrestrictedflat',\n",
       " 'stlrestrictedresparcels',\n",
       " 'stlsexoffenders',\n",
       " 'stlzoning']"
      ]
     },
     "execution_count": 6,
     "metadata": {},
     "output_type": "execute_result"
    }
   ],
   "source": [
    "# establish cursor and read the existing tables\n",
    "cursor = conn.cursor()\n",
    "\n",
    "cursor.execute(\"\"\"SELECT relname FROM pg_class WHERE relkind='r'\n",
    "                  AND relname !~ '^(pg_|sql_)';\"\"\") # \"rel\" is short for relation.\n",
    "\n",
    "tables = [i[0] for i in cursor.fetchall()] # A list() of tables.\n",
    "tables.sort()\n",
    "tables\n"
   ]
  },
  {
   "cell_type": "markdown",
   "metadata": {},
   "source": [
    "#### Pull residental parcel data from PostGIS database"
   ]
  },
  {
   "cell_type": "code",
   "execution_count": 7,
   "metadata": {},
   "outputs": [
    {
     "data": {
      "text/html": [
       "<div>\n",
       "<style scoped>\n",
       "    .dataframe tbody tr th:only-of-type {\n",
       "        vertical-align: middle;\n",
       "    }\n",
       "\n",
       "    .dataframe tbody tr th {\n",
       "        vertical-align: top;\n",
       "    }\n",
       "\n",
       "    .dataframe thead th {\n",
       "        text-align: right;\n",
       "    }\n",
       "</style>\n",
       "<table border=\"1\" class=\"dataframe\">\n",
       "  <thead>\n",
       "    <tr style=\"text-align: right;\">\n",
       "      <th></th>\n",
       "      <th>handle</th>\n",
       "      <th>asdtotal</th>\n",
       "      <th>ressaleprice</th>\n",
       "      <th>nbrofbldgsres</th>\n",
       "      <th>zoning</th>\n",
       "      <th>geom</th>\n",
       "    </tr>\n",
       "  </thead>\n",
       "  <tbody>\n",
       "    <tr>\n",
       "      <th>0</th>\n",
       "      <td>10099008011</td>\n",
       "      <td>48000</td>\n",
       "      <td>0.0</td>\n",
       "      <td>1</td>\n",
       "      <td>L</td>\n",
       "      <td>POLYGON ((589069.054 1017608.454, 589052.273 1...</td>\n",
       "    </tr>\n",
       "    <tr>\n",
       "      <th>1</th>\n",
       "      <td>10099008011</td>\n",
       "      <td>249700</td>\n",
       "      <td>0.0</td>\n",
       "      <td>1</td>\n",
       "      <td>L</td>\n",
       "      <td>POLYGON ((589069.054 1017608.454, 589052.273 1...</td>\n",
       "    </tr>\n",
       "    <tr>\n",
       "      <th>2</th>\n",
       "      <td>10099008011</td>\n",
       "      <td>278400</td>\n",
       "      <td>0.0</td>\n",
       "      <td>1</td>\n",
       "      <td>L</td>\n",
       "      <td>POLYGON ((589069.054 1017608.454, 589052.273 1...</td>\n",
       "    </tr>\n",
       "    <tr>\n",
       "      <th>3</th>\n",
       "      <td>10099008011</td>\n",
       "      <td>161900</td>\n",
       "      <td>0.0</td>\n",
       "      <td>1</td>\n",
       "      <td>L</td>\n",
       "      <td>POLYGON ((589069.054 1017608.454, 589052.273 1...</td>\n",
       "    </tr>\n",
       "    <tr>\n",
       "      <th>4</th>\n",
       "      <td>10099008011</td>\n",
       "      <td>169800</td>\n",
       "      <td>0.0</td>\n",
       "      <td>1</td>\n",
       "      <td>L</td>\n",
       "      <td>POLYGON ((589069.054 1017608.454, 589052.273 1...</td>\n",
       "    </tr>\n",
       "  </tbody>\n",
       "</table>\n",
       "</div>"
      ],
      "text/plain": [
       "        handle  asdtotal  ressaleprice  nbrofbldgsres zoning  \\\n",
       "0  10099008011     48000           0.0              1      L   \n",
       "1  10099008011    249700           0.0              1      L   \n",
       "2  10099008011    278400           0.0              1      L   \n",
       "3  10099008011    161900           0.0              1      L   \n",
       "4  10099008011    169800           0.0              1      L   \n",
       "\n",
       "                                                geom  \n",
       "0  POLYGON ((589069.054 1017608.454, 589052.273 1...  \n",
       "1  POLYGON ((589069.054 1017608.454, 589052.273 1...  \n",
       "2  POLYGON ((589069.054 1017608.454, 589052.273 1...  \n",
       "3  POLYGON ((589069.054 1017608.454, 589052.273 1...  \n",
       "4  POLYGON ((589069.054 1017608.454, 589052.273 1...  "
      ]
     },
     "execution_count": 7,
     "metadata": {},
     "output_type": "execute_result"
    }
   ],
   "source": [
    "# create sql statement and pull from db into a geopandas dataframe\n",
    "# we only need residential data here, so specify those columns during the SELECT\n",
    "sql = \"SELECT handle, asdtotal, ressaleprice, nbrofbldgsres, zoning, geometry as geom FROM stlresparcels;\"\n",
    "gdf_parcels = gpd.read_postgis(sql, conn)\n",
    "gdf_parcels.head()"
   ]
  },
  {
   "cell_type": "code",
   "execution_count": 8,
   "metadata": {},
   "outputs": [
    {
     "data": {
      "text/plain": [
       "(98668, 6)"
      ]
     },
     "execution_count": 8,
     "metadata": {},
     "output_type": "execute_result"
    }
   ],
   "source": [
    "gdf_parcels.shape"
   ]
  },
  {
   "cell_type": "markdown",
   "metadata": {},
   "source": [
    "#### Pull nonrestricted area geometry from PostGIS database"
   ]
  },
  {
   "cell_type": "code",
   "execution_count": 9,
   "metadata": {
    "scrolled": false
   },
   "outputs": [
    {
     "data": {
      "text/html": [
       "<div>\n",
       "<style scoped>\n",
       "    .dataframe tbody tr th:only-of-type {\n",
       "        vertical-align: middle;\n",
       "    }\n",
       "\n",
       "    .dataframe tbody tr th {\n",
       "        vertical-align: top;\n",
       "    }\n",
       "\n",
       "    .dataframe thead th {\n",
       "        text-align: right;\n",
       "    }\n",
       "</style>\n",
       "<table border=\"1\" class=\"dataframe\">\n",
       "  <thead>\n",
       "    <tr style=\"text-align: right;\">\n",
       "      <th></th>\n",
       "      <th>handle</th>\n",
       "      <th>asdtotal</th>\n",
       "      <th>nbrofbldgsres</th>\n",
       "      <th>geom</th>\n",
       "      <th>savedindex</th>\n",
       "    </tr>\n",
       "  </thead>\n",
       "  <tbody>\n",
       "    <tr>\n",
       "      <th>0</th>\n",
       "      <td>10099008011</td>\n",
       "      <td>48000</td>\n",
       "      <td>1</td>\n",
       "      <td>POLYGON ((-90.18822 38.62792, -90.18828 38.627...</td>\n",
       "      <td>0</td>\n",
       "    </tr>\n",
       "    <tr>\n",
       "      <th>1</th>\n",
       "      <td>10099008011</td>\n",
       "      <td>249700</td>\n",
       "      <td>1</td>\n",
       "      <td>POLYGON ((-90.18822 38.62792, -90.18828 38.627...</td>\n",
       "      <td>1</td>\n",
       "    </tr>\n",
       "    <tr>\n",
       "      <th>2</th>\n",
       "      <td>10099008011</td>\n",
       "      <td>278400</td>\n",
       "      <td>1</td>\n",
       "      <td>POLYGON ((-90.18822 38.62792, -90.18828 38.627...</td>\n",
       "      <td>2</td>\n",
       "    </tr>\n",
       "    <tr>\n",
       "      <th>3</th>\n",
       "      <td>10099008011</td>\n",
       "      <td>161900</td>\n",
       "      <td>1</td>\n",
       "      <td>POLYGON ((-90.18822 38.62792, -90.18828 38.627...</td>\n",
       "      <td>3</td>\n",
       "    </tr>\n",
       "    <tr>\n",
       "      <th>4</th>\n",
       "      <td>10099008011</td>\n",
       "      <td>169800</td>\n",
       "      <td>1</td>\n",
       "      <td>POLYGON ((-90.18822 38.62792, -90.18828 38.627...</td>\n",
       "      <td>4</td>\n",
       "    </tr>\n",
       "  </tbody>\n",
       "</table>\n",
       "</div>"
      ],
      "text/plain": [
       "        handle  asdtotal  nbrofbldgsres  \\\n",
       "0  10099008011     48000              1   \n",
       "1  10099008011    249700              1   \n",
       "2  10099008011    278400              1   \n",
       "3  10099008011    161900              1   \n",
       "4  10099008011    169800              1   \n",
       "\n",
       "                                                geom  savedindex  \n",
       "0  POLYGON ((-90.18822 38.62792, -90.18828 38.627...           0  \n",
       "1  POLYGON ((-90.18822 38.62792, -90.18828 38.627...           1  \n",
       "2  POLYGON ((-90.18822 38.62792, -90.18828 38.627...           2  \n",
       "3  POLYGON ((-90.18822 38.62792, -90.18828 38.627...           3  \n",
       "4  POLYGON ((-90.18822 38.62792, -90.18828 38.627...           4  "
      ]
     },
     "execution_count": 9,
     "metadata": {},
     "output_type": "execute_result"
    }
   ],
   "source": [
    "# create sql statement and pull from db into a geopandas dataframe\n",
    "sql = \"select * from stlnonrestrictedresparcels;\"\n",
    "gdf_res_remain = gpd.read_postgis(sql, conn)\n",
    "gdf_res_remain.head()\n"
   ]
  },
  {
   "cell_type": "code",
   "execution_count": 10,
   "metadata": {},
   "outputs": [
    {
     "data": {
      "text/plain": [
       "(48542, 5)"
      ]
     },
     "execution_count": 10,
     "metadata": {},
     "output_type": "execute_result"
    }
   ],
   "source": [
    "gdf_res_remain.shape"
   ]
  },
  {
   "cell_type": "markdown",
   "metadata": {},
   "source": [
    "#### Pull \\*restricted\\* area geometry from PostGIS database"
   ]
  },
  {
   "cell_type": "code",
   "execution_count": 11,
   "metadata": {
    "scrolled": true
   },
   "outputs": [
    {
     "data": {
      "text/html": [
       "<div>\n",
       "<style scoped>\n",
       "    .dataframe tbody tr th:only-of-type {\n",
       "        vertical-align: middle;\n",
       "    }\n",
       "\n",
       "    .dataframe tbody tr th {\n",
       "        vertical-align: top;\n",
       "    }\n",
       "\n",
       "    .dataframe thead th {\n",
       "        text-align: right;\n",
       "    }\n",
       "</style>\n",
       "<table border=\"1\" class=\"dataframe\">\n",
       "  <thead>\n",
       "    <tr style=\"text-align: right;\">\n",
       "      <th></th>\n",
       "      <th>handle</th>\n",
       "      <th>asdtotal</th>\n",
       "      <th>nbrofbldgsres</th>\n",
       "      <th>geom</th>\n",
       "      <th>savedindex</th>\n",
       "    </tr>\n",
       "  </thead>\n",
       "  <tbody>\n",
       "    <tr>\n",
       "      <th>0</th>\n",
       "      <td>10173008031</td>\n",
       "      <td>51620</td>\n",
       "      <td>1</td>\n",
       "      <td>POLYGON ((-90.19245 38.63159, -90.19264 38.630...</td>\n",
       "      <td>121</td>\n",
       "    </tr>\n",
       "    <tr>\n",
       "      <th>1</th>\n",
       "      <td>10173008031</td>\n",
       "      <td>33590</td>\n",
       "      <td>1</td>\n",
       "      <td>POLYGON ((-90.19245 38.63159, -90.19264 38.630...</td>\n",
       "      <td>122</td>\n",
       "    </tr>\n",
       "    <tr>\n",
       "      <th>2</th>\n",
       "      <td>10173008031</td>\n",
       "      <td>30530</td>\n",
       "      <td>1</td>\n",
       "      <td>POLYGON ((-90.19245 38.63159, -90.19264 38.630...</td>\n",
       "      <td>123</td>\n",
       "    </tr>\n",
       "    <tr>\n",
       "      <th>3</th>\n",
       "      <td>10173008031</td>\n",
       "      <td>44690</td>\n",
       "      <td>1</td>\n",
       "      <td>POLYGON ((-90.19245 38.63159, -90.19264 38.630...</td>\n",
       "      <td>124</td>\n",
       "    </tr>\n",
       "    <tr>\n",
       "      <th>4</th>\n",
       "      <td>10173008031</td>\n",
       "      <td>36800</td>\n",
       "      <td>1</td>\n",
       "      <td>POLYGON ((-90.19245 38.63159, -90.19264 38.630...</td>\n",
       "      <td>125</td>\n",
       "    </tr>\n",
       "  </tbody>\n",
       "</table>\n",
       "</div>"
      ],
      "text/plain": [
       "        handle  asdtotal  nbrofbldgsres  \\\n",
       "0  10173008031     51620              1   \n",
       "1  10173008031     33590              1   \n",
       "2  10173008031     30530              1   \n",
       "3  10173008031     44690              1   \n",
       "4  10173008031     36800              1   \n",
       "\n",
       "                                                geom  savedindex  \n",
       "0  POLYGON ((-90.19245 38.63159, -90.19264 38.630...         121  \n",
       "1  POLYGON ((-90.19245 38.63159, -90.19264 38.630...         122  \n",
       "2  POLYGON ((-90.19245 38.63159, -90.19264 38.630...         123  \n",
       "3  POLYGON ((-90.19245 38.63159, -90.19264 38.630...         124  \n",
       "4  POLYGON ((-90.19245 38.63159, -90.19264 38.630...         125  "
      ]
     },
     "execution_count": 11,
     "metadata": {},
     "output_type": "execute_result"
    }
   ],
   "source": [
    "# create sql statement and pull from db into a geopandas dataframe\n",
    "sql = \"select * from stlrestrictedresparcels;\"\n",
    "gdf_res_restricted = gpd.read_postgis(sql, conn)\n",
    "gdf_res_restricted.head()\n"
   ]
  },
  {
   "cell_type": "code",
   "execution_count": 12,
   "metadata": {},
   "outputs": [
    {
     "data": {
      "text/plain": [
       "(50126, 5)"
      ]
     },
     "execution_count": 12,
     "metadata": {},
     "output_type": "execute_result"
    }
   ],
   "source": [
    "gdf_res_restricted.shape"
   ]
  },
  {
   "cell_type": "markdown",
   "metadata": {},
   "source": [
    "## Work up value-based summary info"
   ]
  },
  {
   "cell_type": "code",
   "execution_count": 13,
   "metadata": {},
   "outputs": [],
   "source": [
    "# generate summary info from each dataset\n",
    "asdtotal_all = gdf_parcels['asdtotal'].describe()\n",
    "asdtotal_remain = gdf_res_remain['asdtotal'].describe()\n",
    "asdtotal_restr = gdf_res_restricted['asdtotal'].describe()"
   ]
  },
  {
   "cell_type": "code",
   "execution_count": 14,
   "metadata": {},
   "outputs": [],
   "source": [
    "# combine this summary info into a single dataframe\n",
    "asd_summary = pd.merge(asdtotal_all, asdtotal_remain, right_index = True, left_index = True)\n",
    "asd_summary = pd.merge(asd_summary, asdtotal_restr, right_index = True, left_index = True)\n",
    "\n",
    "# set column names\n",
    "asd_summary.columns = ['All Parcels','Available to Offenders','Restricted from Offenders']\n",
    "\n",
    "# store 'count' row in a separate df since so we can apply currency formatting to all other rows\n",
    "asd_summary_count = asd_summary[:1]\n",
    "asd_summary = asd_summary.drop(asd_summary.index[[0]])"
   ]
  },
  {
   "cell_type": "code",
   "execution_count": 15,
   "metadata": {},
   "outputs": [],
   "source": [
    "# set formatting for currency and integer data separately\n",
    "for i,n in asd_summary.iteritems():\n",
    "    asd_summary.loc[:, i] = asd_summary.loc[:, i].map('${:,.0f}'.format)\n",
    "    asd_summary_count.loc[:, i] = asd_summary_count.loc[:, i].astype(int).map('{:,.0f}'.format)"
   ]
  },
  {
   "cell_type": "code",
   "execution_count": 16,
   "metadata": {},
   "outputs": [
    {
     "data": {
      "text/html": [
       "<style type=\"text/css\">\n",
       "#T_f981b_row0_col0, #T_f981b_row1_col0, #T_f981b_row2_col0, #T_f981b_row3_col0, #T_f981b_row4_col0, #T_f981b_row5_col0, #T_f981b_row6_col0, #T_f981b_row7_col0 {\n",
       "  font-weight: bold;\n",
       "}\n",
       "#T_f981b_row0_col1, #T_f981b_row1_col1, #T_f981b_row2_col1, #T_f981b_row3_col1, #T_f981b_row4_col1, #T_f981b_row5_col1, #T_f981b_row6_col1, #T_f981b_row7_col1 {\n",
       "  color: blue;\n",
       "}\n",
       "#T_f981b_row0_col2, #T_f981b_row1_col2, #T_f981b_row2_col2, #T_f981b_row3_col2, #T_f981b_row4_col2, #T_f981b_row5_col2, #T_f981b_row6_col2, #T_f981b_row7_col2 {\n",
       "  color: red;\n",
       "}\n",
       "</style>\n",
       "<table id=\"T_f981b_\">\n",
       "  <thead>\n",
       "    <tr>\n",
       "      <th class=\"blank level0\" >&nbsp;</th>\n",
       "      <th class=\"col_heading level0 col0\" >All Parcels</th>\n",
       "      <th class=\"col_heading level0 col1\" >Available to Offenders</th>\n",
       "      <th class=\"col_heading level0 col2\" >Restricted from Offenders</th>\n",
       "    </tr>\n",
       "  </thead>\n",
       "  <tbody>\n",
       "    <tr>\n",
       "      <th id=\"T_f981b_level0_row0\" class=\"row_heading level0 row0\" >count</th>\n",
       "      <td id=\"T_f981b_row0_col0\" class=\"data row0 col0\" >98,668</td>\n",
       "      <td id=\"T_f981b_row0_col1\" class=\"data row0 col1\" >48,542</td>\n",
       "      <td id=\"T_f981b_row0_col2\" class=\"data row0 col2\" >50,126</td>\n",
       "    </tr>\n",
       "    <tr>\n",
       "      <th id=\"T_f981b_level0_row1\" class=\"row_heading level0 row1\" >mean</th>\n",
       "      <td id=\"T_f981b_row1_col0\" class=\"data row1 col0\" >$21,896</td>\n",
       "      <td id=\"T_f981b_row1_col1\" class=\"data row1 col1\" >$23,874</td>\n",
       "      <td id=\"T_f981b_row1_col2\" class=\"data row1 col2\" >$19,981</td>\n",
       "    </tr>\n",
       "    <tr>\n",
       "      <th id=\"T_f981b_level0_row2\" class=\"row_heading level0 row2\" >std</th>\n",
       "      <td id=\"T_f981b_row2_col0\" class=\"data row2 col0\" >$28,886</td>\n",
       "      <td id=\"T_f981b_row2_col1\" class=\"data row2 col1\" >$31,528</td>\n",
       "      <td id=\"T_f981b_row2_col2\" class=\"data row2 col2\" >$25,930</td>\n",
       "    </tr>\n",
       "    <tr>\n",
       "      <th id=\"T_f981b_level0_row3\" class=\"row_heading level0 row3\" >min</th>\n",
       "      <td id=\"T_f981b_row3_col0\" class=\"data row3 col0\" >$0</td>\n",
       "      <td id=\"T_f981b_row3_col1\" class=\"data row3 col1\" >$0</td>\n",
       "      <td id=\"T_f981b_row3_col2\" class=\"data row3 col2\" >$0</td>\n",
       "    </tr>\n",
       "    <tr>\n",
       "      <th id=\"T_f981b_level0_row4\" class=\"row_heading level0 row4\" >25%</th>\n",
       "      <td id=\"T_f981b_row4_col0\" class=\"data row4 col0\" >$4,510</td>\n",
       "      <td id=\"T_f981b_row4_col1\" class=\"data row4 col1\" >$5,880</td>\n",
       "      <td id=\"T_f981b_row4_col2\" class=\"data row4 col2\" >$3,690</td>\n",
       "    </tr>\n",
       "    <tr>\n",
       "      <th id=\"T_f981b_level0_row5\" class=\"row_heading level0 row5\" >50%</th>\n",
       "      <td id=\"T_f981b_row5_col0\" class=\"data row5 col0\" >$16,970</td>\n",
       "      <td id=\"T_f981b_row5_col1\" class=\"data row5 col1\" >$19,575</td>\n",
       "      <td id=\"T_f981b_row5_col2\" class=\"data row5 col2\" >$13,490</td>\n",
       "    </tr>\n",
       "    <tr>\n",
       "      <th id=\"T_f981b_level0_row6\" class=\"row_heading level0 row6\" >75%</th>\n",
       "      <td id=\"T_f981b_row6_col0\" class=\"data row6 col0\" >$30,860</td>\n",
       "      <td id=\"T_f981b_row6_col1\" class=\"data row6 col1\" >$31,890</td>\n",
       "      <td id=\"T_f981b_row6_col2\" class=\"data row6 col2\" >$29,620</td>\n",
       "    </tr>\n",
       "    <tr>\n",
       "      <th id=\"T_f981b_level0_row7\" class=\"row_heading level0 row7\" >max</th>\n",
       "      <td id=\"T_f981b_row7_col0\" class=\"data row7 col0\" >$3,761,500</td>\n",
       "      <td id=\"T_f981b_row7_col1\" class=\"data row7 col1\" >$3,761,500</td>\n",
       "      <td id=\"T_f981b_row7_col2\" class=\"data row7 col2\" >$1,416,100</td>\n",
       "    </tr>\n",
       "  </tbody>\n",
       "</table>\n"
      ],
      "text/plain": [
       "<pandas.io.formats.style.Styler at 0x7f290f60ea20>"
      ]
     },
     "execution_count": 16,
     "metadata": {},
     "output_type": "execute_result"
    }
   ],
   "source": [
    "# put currency and integer rows back together into a single display\n",
    "# we need to convert to STRINGS to do this, else we would lost the formatting we just worked up (one column = one type)\n",
    "df_concat = pd.concat([asd_summary_count.astype(object), asd_summary.astype(object)])\n",
    "\n",
    "# generate a nice display for the data\n",
    "df_concat.style.set_properties(\n",
    "    subset=['All Parcels'], **{'font-weight': 'bold'}\n",
    ").set_properties(\n",
    "    subset=['Available to Offenders'], **{'color': 'blue'}).set_properties(\n",
    "    subset=['Restricted from Offenders'], **{'color': 'red'})"
   ]
  },
  {
   "cell_type": "markdown",
   "metadata": {},
   "source": [
    "### Generate a box plot"
   ]
  },
  {
   "cell_type": "code",
   "execution_count": 17,
   "metadata": {},
   "outputs": [
    {
     "data": {
      "image/png": "[encoded data removed]",
      "text/plain": [
       "<Figure size 216x504 with 1 Axes>"
      ]
     },
     "metadata": {},
     "output_type": "display_data"
    }
   ],
   "source": [
    "from matplotlib.ticker import FuncFormatter\n",
    "\n",
    "# specify data to use - combination of 'Available to Offenders' and 'Restricted from Offenders' summaries\n",
    "box_plot_data=[gdf_res_remain['asdtotal'],gdf_res_restricted['asdtotal']]\n",
    "\n",
    "# set up plot\n",
    "fig, ax = plt.subplots(figsize=(3,7), facecolor='white')\n",
    "\n",
    "# define a quick function to set up formatting for axis labels\n",
    "def thousands(x, pos):\n",
    "    'The two args are the value and tick position'\n",
    "    return '$%1.fk' % (x*1e-3)\n",
    "\n",
    "formatter = FuncFormatter(thousands)\n",
    "\n",
    "ax.yaxis.set_major_formatter(formatter)\n",
    "\n",
    "# perform the actual plot\n",
    "plt.boxplot(box_plot_data, patch_artist=True, \n",
    "                labels=['Available to\\nOffenders','Restricted from\\nOffenders'],             \n",
    "                showfliers=False, widths = 0.75, boxprops=dict(facecolor='lightgrey'), medianprops=dict(linewidth=2))\n",
    "plt.gca().set(title='Residential Parcel Comparison', ylabel='Assessed Value')\n",
    "\n",
    "# remove graph borders\n",
    "for spine in ax.spines:\n",
    "    ax.spines[spine].set_visible(False)\n",
    "\n",
    "# set custom label colors to match other items in the presentation\n",
    "colors=['blue','red']\n",
    "for color,tick in zip(colors,ax.xaxis.get_major_ticks()):\n",
    "    tick.label1.set_color(color) #set the color property\n",
    "\n",
    "plt.show()\n"
   ]
  },
  {
   "cell_type": "code",
   "execution_count": 18,
   "metadata": {},
   "outputs": [
    {
     "data": {
      "text/plain": [
       "98668"
      ]
     },
     "execution_count": 18,
     "metadata": {},
     "output_type": "execute_result"
    }
   ],
   "source": [
    "# how many parcels are we working with?\n",
    "gdf_parcels.shape[0]"
   ]
  },
  {
   "cell_type": "markdown",
   "metadata": {},
   "source": [
    "### Examine some of the outliers"
   ]
  },
  {
   "cell_type": "code",
   "execution_count": 19,
   "metadata": {
    "scrolled": false
   },
   "outputs": [
    {
     "data": {
      "text/plain": [
       "[3761500,\n",
       " 1416100,\n",
       " 1079410,\n",
       " 1049300,\n",
       " 955680,\n",
       " 921140,\n",
       " 907190,\n",
       " 889260,\n",
       " 798010,\n",
       " 710450]"
      ]
     },
     "execution_count": 19,
     "metadata": {},
     "output_type": "execute_result"
    }
   ],
   "source": [
    "# examine the parcels with the highest values\n",
    "# we're looking to see if there are any big jumps or extreme values\n",
    "sorted(gdf_parcels.asdtotal, reverse=True)[:10]"
   ]
  },
  {
   "cell_type": "code",
   "execution_count": 29,
   "metadata": {},
   "outputs": [
    {
     "data": {
      "text/html": [
       "<div>\n",
       "<style scoped>\n",
       "    .dataframe tbody tr th:only-of-type {\n",
       "        vertical-align: middle;\n",
       "    }\n",
       "\n",
       "    .dataframe tbody tr th {\n",
       "        vertical-align: top;\n",
       "    }\n",
       "\n",
       "    .dataframe thead th {\n",
       "        text-align: right;\n",
       "    }\n",
       "</style>\n",
       "<table border=\"1\" class=\"dataframe\">\n",
       "  <thead>\n",
       "    <tr style=\"text-align: right;\">\n",
       "      <th></th>\n",
       "      <th>handle</th>\n",
       "      <th>asdtotal</th>\n",
       "      <th>ressaleprice</th>\n",
       "      <th>nbrofbldgsres</th>\n",
       "      <th>zoning</th>\n",
       "      <th>geom</th>\n",
       "    </tr>\n",
       "  </thead>\n",
       "  <tbody>\n",
       "    <tr>\n",
       "      <th>13510</th>\n",
       "      <td>11756000305</td>\n",
       "      <td>1049300</td>\n",
       "      <td>0.0</td>\n",
       "      <td>1</td>\n",
       "      <td>B</td>\n",
       "      <td>POLYGON ((577802.373 1007023.061, 577798.062 1...</td>\n",
       "    </tr>\n",
       "    <tr>\n",
       "      <th>14173</th>\n",
       "      <td>11829000020</td>\n",
       "      <td>1079410</td>\n",
       "      <td>250000.0</td>\n",
       "      <td>1</td>\n",
       "      <td>J</td>\n",
       "      <td>POLYGON ((576004.055 1016603.581, 575974.595 1...</td>\n",
       "    </tr>\n",
       "    <tr>\n",
       "      <th>36988</th>\n",
       "      <td>13908000330</td>\n",
       "      <td>1416100</td>\n",
       "      <td>0.0</td>\n",
       "      <td>1</td>\n",
       "      <td>E</td>\n",
       "      <td>POLYGON ((570666.645 1022704.899, 570612.956 1...</td>\n",
       "    </tr>\n",
       "    <tr>\n",
       "      <th>37935</th>\n",
       "      <td>13928000165</td>\n",
       "      <td>3761500</td>\n",
       "      <td>0.0</td>\n",
       "      <td>1</td>\n",
       "      <td>H</td>\n",
       "      <td>POLYGON ((575140.503 1020422.740, 575139.997 1...</td>\n",
       "    </tr>\n",
       "  </tbody>\n",
       "</table>\n",
       "</div>"
      ],
      "text/plain": [
       "            handle  asdtotal  ressaleprice  nbrofbldgsres zoning  \\\n",
       "13510  11756000305   1049300           0.0              1      B   \n",
       "14173  11829000020   1079410      250000.0              1      J   \n",
       "36988  13908000330   1416100           0.0              1      E   \n",
       "37935  13928000165   3761500           0.0              1      H   \n",
       "\n",
       "                                                    geom  \n",
       "13510  POLYGON ((577802.373 1007023.061, 577798.062 1...  \n",
       "14173  POLYGON ((576004.055 1016603.581, 575974.595 1...  \n",
       "36988  POLYGON ((570666.645 1022704.899, 570612.956 1...  \n",
       "37935  POLYGON ((575140.503 1020422.740, 575139.997 1...  "
      ]
     },
     "execution_count": 29,
     "metadata": {},
     "output_type": "execute_result"
    }
   ],
   "source": [
    "# pull a few of the parcels with REALLY high values so we can visualize\n",
    "highval_parcels = gdf_parcels.loc[gdf_parcels['asdtotal'] > 1000000]\n",
    "highval_parcels"
   ]
  },
  {
   "cell_type": "code",
   "execution_count": 30,
   "metadata": {},
   "outputs": [
    {
     "data": {
      "text/html": [
       "<div style=\"width:100%;\"><div style=\"position:relative;width:100%;height:0;padding-bottom:60%;\"><span style=\"color:#565656\">Make this Notebook Trusted to load map: File -> Trust Notebook</span><iframe src=\"about:blank\" style=\"position:absolute;width:100%;height:100%;left:0;top:0;border:none !important;\" data-html=%3C%21DOCTYPE%20html%3E%0A%3Chead%3E%20%20%20%20%0A%20%20%20%20%3Cmeta%20http-equiv%3D%22content-type%22%20content%3D%22text/html%3B%20charset%3DUTF-8%22%20/%3E%0A%20%20%20%20%0A%20%20%20%20%20%20%20%20%3Cscript%3E%0A%20%20%20%20%20%20%20%20%20%20%20%20L_NO_TOUCH%20%3D%20false%3B%0A%20%20%20%20%20%20%20%20%20%20%20%20L_DISABLE_3D%20%3D%20false%3B%0A%20%20%20%20%20%20%20%20%3C/script%3E%0A%20%20%20%20%0A%20%20%20%20%3Cstyle%3Ehtml%2C%20body%20%7Bwidth%3A%20100%25%3Bheight%3A%20100%25%3Bmargin%3A%200%3Bpadding%3A%200%3B%7D%3C/style%3E%0A%20%20%20%20%3Cstyle%3E%23map%20%7Bposition%3Aabsolute%3Btop%3A0%3Bbottom%3A0%3Bright%3A0%3Bleft%3A0%3B%7D%3C/style%3E%0A%20%20%20%20%3Cscript%20src%3D%22https%3A//cdn.jsdelivr.net/npm/leaflet%401.6.0/dist/leaflet.js%22%3E%3C/script%3E%0A%20%20%20%20%3Cscript%20src%3D%22https%3A//code.jquery.com/jquery-1.12.4.min.js%22%3E%3C/script%3E%0A%20%20%20%20%3Cscript%20src%3D%22https%3A//maxcdn.bootstrapcdn.com/bootstrap/3.2.0/js/bootstrap.min.js%22%3E%3C/script%3E%0A%20%20%20%20%3Cscript%20src%3D%22https%3A//cdnjs.cloudflare.com/ajax/libs/Leaflet.awesome-markers/2.0.2/leaflet.awesome-markers.js%22%3E%3C/script%3E%0A%20%20%20%20%3Clink%20rel%3D%22stylesheet%22%20href%3D%22https%3A//cdn.jsdelivr.net/npm/leaflet%401.6.0/dist/leaflet.css%22/%3E%0A%20%20%20%20%3Clink%20rel%3D%22stylesheet%22%20href%3D%22https%3A//maxcdn.bootstrapcdn.com/bootstrap/3.2.0/css/bootstrap.min.css%22/%3E%0A%20%20%20%20%3Clink%20rel%3D%22stylesheet%22%20href%3D%22https%3A//maxcdn.bootstrapcdn.com/bootstrap/3.2.0/css/bootstrap-theme.min.css%22/%3E%0A%20%20%20%20%3Clink%20rel%3D%22stylesheet%22%20href%3D%22https%3A//maxcdn.bootstrapcdn.com/font-awesome/4.6.3/css/font-awesome.min.css%22/%3E%0A%20%20%20%20%3Clink%20rel%3D%22stylesheet%22%20href%3D%22https%3A//cdnjs.cloudflare.com/ajax/libs/Leaflet.awesome-markers/2.0.2/leaflet.awesome-markers.css%22/%3E%0A%20%20%20%20%3Clink%20rel%3D%22stylesheet%22%20href%3D%22https%3A//cdn.jsdelivr.net/gh/python-visualization/folium/folium/templates/leaflet.awesome.rotate.min.css%22/%3E%0A%20%20%20%20%0A%20%20%20%20%20%20%20%20%20%20%20%20%3Cmeta%20name%3D%22viewport%22%20content%3D%22width%3Ddevice-width%2C%0A%20%20%20%20%20%20%20%20%20%20%20%20%20%20%20%20initial-scale%3D1.0%2C%20maximum-scale%3D1.0%2C%20user-scalable%3Dno%22%20/%3E%0A%20%20%20%20%20%20%20%20%20%20%20%20%3Cstyle%3E%0A%20%20%20%20%20%20%20%20%20%20%20%20%20%20%20%20%23map_b9ab02d2bc56435cad71a9ba61ace3ba%20%7B%0A%20%20%20%20%20%20%20%20%20%20%20%20%20%20%20%20%20%20%20%20position%3A%20relative%3B%0A%20%20%20%20%20%20%20%20%20%20%20%20%20%20%20%20%20%20%20%20width%3A%20100.0%25%3B%0A%20%20%20%20%20%20%20%20%20%20%20%20%20%20%20%20%20%20%20%20height%3A%20100.0%25%3B%0A%20%20%20%20%20%20%20%20%20%20%20%20%20%20%20%20%20%20%20%20left%3A%200.0%25%3B%0A%20%20%20%20%20%20%20%20%20%20%20%20%20%20%20%20%20%20%20%20top%3A%200.0%25%3B%0A%20%20%20%20%20%20%20%20%20%20%20%20%20%20%20%20%7D%0A%20%20%20%20%20%20%20%20%20%20%20%20%3C/style%3E%0A%20%20%20%20%20%20%20%20%0A%20%20%20%20%0A%20%20%20%20%20%20%20%20%20%20%20%20%20%20%20%20%20%20%20%20%3Cstyle%3E%0A%20%20%20%20%20%20%20%20%20%20%20%20%20%20%20%20%20%20%20%20%20%20%20%20.foliumtooltip%20%7B%0A%20%20%20%20%20%20%20%20%20%20%20%20%20%20%20%20%20%20%20%20%20%20%20%20%20%20%20%20%0A%20%20%20%20%20%20%20%20%20%20%20%20%20%20%20%20%20%20%20%20%20%20%20%20%7D%0A%20%20%20%20%20%20%20%20%20%20%20%20%20%20%20%20%20%20%20%20%20%20%20.foliumtooltip%20table%7B%0A%20%20%20%20%20%20%20%20%20%20%20%20%20%20%20%20%20%20%20%20%20%20%20%20%20%20%20%20margin%3A%20auto%3B%0A%20%20%20%20%20%20%20%20%20%20%20%20%20%20%20%20%20%20%20%20%20%20%20%20%7D%0A%20%20%20%20%20%20%20%20%20%20%20%20%20%20%20%20%20%20%20%20%20%20%20%20.foliumtooltip%20tr%7B%0A%20%20%20%20%20%20%20%20%20%20%20%20%20%20%20%20%20%20%20%20%20%20%20%20%20%20%20%20text-align%3A%20left%3B%0A%20%20%20%20%20%20%20%20%20%20%20%20%20%20%20%20%20%20%20%20%20%20%20%20%7D%0A%20%20%20%20%20%20%20%20%20%20%20%20%20%20%20%20%20%20%20%20%20%20%20%20.foliumtooltip%20th%7B%0A%20%20%20%20%20%20%20%20%20%20%20%20%20%20%20%20%20%20%20%20%20%20%20%20%20%20%20%20padding%3A%202px%3B%20padding-right%3A%208px%3B%0A%20%20%20%20%20%20%20%20%20%20%20%20%20%20%20%20%20%20%20%20%20%20%20%20%7D%0A%20%20%20%20%20%20%20%20%20%20%20%20%20%20%20%20%20%20%20%20%3C/style%3E%0A%20%20%20%20%20%20%20%20%20%20%20%20%0A%3C/head%3E%0A%3Cbody%3E%20%20%20%20%0A%20%20%20%20%0A%20%20%20%20%20%20%20%20%20%20%20%20%3Cdiv%20class%3D%22folium-map%22%20id%3D%22map_b9ab02d2bc56435cad71a9ba61ace3ba%22%20%3E%3C/div%3E%0A%20%20%20%20%20%20%20%20%0A%3C/body%3E%0A%3Cscript%3E%20%20%20%20%0A%20%20%20%20%0A%20%20%20%20%20%20%20%20%20%20%20%20var%20map_b9ab02d2bc56435cad71a9ba61ace3ba%20%3D%20L.map%28%0A%20%20%20%20%20%20%20%20%20%20%20%20%20%20%20%20%22map_b9ab02d2bc56435cad71a9ba61ace3ba%22%2C%0A%20%20%20%20%20%20%20%20%20%20%20%20%20%20%20%20%7B%0A%20%20%20%20%20%20%20%20%20%20%20%20%20%20%20%20%20%20%20%20center%3A%20%5B38.636%2C%20-90.238%5D%2C%0A%20%20%20%20%20%20%20%20%20%20%20%20%20%20%20%20%20%20%20%20crs%3A%20L.CRS.EPSG3857%2C%0A%20%20%20%20%20%20%20%20%20%20%20%20%20%20%20%20%20%20%20%20zoom%3A%2017%2C%0A%20%20%20%20%20%20%20%20%20%20%20%20%20%20%20%20%20%20%20%20zoomControl%3A%20true%2C%0A%20%20%20%20%20%20%20%20%20%20%20%20%20%20%20%20%20%20%20%20preferCanvas%3A%20false%2C%0A%20%20%20%20%20%20%20%20%20%20%20%20%20%20%20%20%7D%0A%20%20%20%20%20%20%20%20%20%20%20%20%29%3B%0A%0A%20%20%20%20%20%20%20%20%20%20%20%20%0A%0A%20%20%20%20%20%20%20%20%0A%20%20%20%20%0A%20%20%20%20%20%20%20%20%20%20%20%20var%20tile_layer_0aee03e6dfbd41288528b4e5d4cb61fa%20%3D%20L.tileLayer%28%0A%20%20%20%20%20%20%20%20%20%20%20%20%20%20%20%20%22https%3A//%7Bs%7D.tile.openstreetmap.org/%7Bz%7D/%7Bx%7D/%7By%7D.png%22%2C%0A%20%20%20%20%20%20%20%20%20%20%20%20%20%20%20%20%7B%22attribution%22%3A%20%22Data%20by%20%5Cu0026copy%3B%20%5Cu003ca%20href%3D%5C%22http%3A//openstreetmap.org%5C%22%5Cu003eOpenStreetMap%5Cu003c/a%5Cu003e%2C%20under%20%5Cu003ca%20href%3D%5C%22http%3A//www.openstreetmap.org/copyright%5C%22%5Cu003eODbL%5Cu003c/a%5Cu003e.%22%2C%20%22detectRetina%22%3A%20false%2C%20%22maxNativeZoom%22%3A%2018%2C%20%22maxZoom%22%3A%2018%2C%20%22minZoom%22%3A%200%2C%20%22noWrap%22%3A%20false%2C%20%22opacity%22%3A%201%2C%20%22subdomains%22%3A%20%22abc%22%2C%20%22tms%22%3A%20false%7D%0A%20%20%20%20%20%20%20%20%20%20%20%20%29.addTo%28map_b9ab02d2bc56435cad71a9ba61ace3ba%29%3B%0A%20%20%20%20%20%20%20%20%0A%20%20%20%20%0A%0A%20%20%20%20%20%20%20%20function%20geo_json_634e9571635b42ea93b50bcca17d5e78_onEachFeature%28feature%2C%20layer%29%20%7B%0A%20%20%20%20%20%20%20%20%20%20%20%20layer.on%28%7B%0A%20%20%20%20%20%20%20%20%20%20%20%20%7D%29%3B%0A%20%20%20%20%20%20%20%20%7D%3B%0A%20%20%20%20%20%20%20%20var%20geo_json_634e9571635b42ea93b50bcca17d5e78%20%3D%20L.geoJson%28null%2C%20%7B%0A%20%20%20%20%20%20%20%20%20%20%20%20%20%20%20%20onEachFeature%3A%20geo_json_634e9571635b42ea93b50bcca17d5e78_onEachFeature%2C%0A%20%20%20%20%20%20%20%20%20%20%20%20%0A%20%20%20%20%20%20%20%20%7D%29%3B%0A%0A%20%20%20%20%20%20%20%20function%20geo_json_634e9571635b42ea93b50bcca17d5e78_add%20%28data%29%20%7B%0A%20%20%20%20%20%20%20%20%20%20%20%20geo_json_634e9571635b42ea93b50bcca17d5e78%0A%20%20%20%20%20%20%20%20%20%20%20%20%20%20%20%20.addData%28data%29%0A%20%20%20%20%20%20%20%20%20%20%20%20%20%20%20%20.addTo%28map_b9ab02d2bc56435cad71a9ba61ace3ba%29%3B%0A%20%20%20%20%20%20%20%20%7D%0A%20%20%20%20%20%20%20%20%20%20%20%20geo_json_634e9571635b42ea93b50bcca17d5e78_add%28%7B%22bbox%22%3A%20%5B-90.25411261528136%2C%2038.59816701582573%2C%20-90.22786542028847%2C%2038.64236565889926%5D%2C%20%22features%22%3A%20%5B%7B%22bbox%22%3A%20%5B-90.2284695776679%2C%2038.59816701582573%2C%20-90.22786542028847%2C%2038.599048377712464%5D%2C%20%22geometry%22%3A%20%7B%22coordinates%22%3A%20%5B%5B%5B-90.22786542028847%2C%2038.59899275792602%5D%2C%20%5B-90.22788078605797%2C%2038.59891813399751%5D%2C%20%5B-90.2278947543926%2C%2038.598850293239636%5D%2C%20%5B-90.22790872269714%2C%2038.59878245338006%5D%2C%20%5B-90.22792269097843%2C%2038.598714612617094%5D%2C%20%5B-90.22793665922967%2C%2038.59864677275252%5D%2C%20%5B-90.22795062745762%2C%2038.598578931984456%5D%2C%20%5B-90.22796459565554%2C%2038.598511092114755%5D%2C%20%5B-90.22797856383019%2C%2038.59844325134163%5D%2C%20%5B-90.22799253197476%2C%2038.59837541146687%5D%2C%20%5B-90.2280065000927%2C%2038.598307571589515%5D%2C%20%5B-90.22802046818735%2C%2038.598239730808785%5D%2C%20%5B-90.22803443625202%2C%2038.598171890926395%5D%2C%20%5B-90.22803543957448%2C%2038.59816701582573%5D%2C%20%5B-90.2284695776679%2C%2038.59822262811198%5D%2C%20%5B-90.22846856634149%2C%2038.598227502296965%5D%2C%20%5B-90.22845448961255%2C%2038.598295342880846%5D%2C%20%5B-90.22844606225156%2C%2038.59833596168852%5D%2C%20%5B-90.22844041400465%2C%2038.59836318346482%5D%2C%20%5B-90.22843196792813%2C%2038.59840389051501%5D%2C%20%5B-90.22842633836655%2C%2038.59843102494708%5D%2C%20%5B-90.22841226155363%2C%2038.59849886642414%5D%2C%20%5B-90.22839818586515%2C%2038.59856670700041%5D%2C%20%5B-90.22838411014983%2C%2038.598634547574065%5D%2C%20%5B-90.22837003325633%2C%2038.59870238904342%5D%2C%20%5B-90.22835595748724%2C%2038.598770229612%5D%2C%20%5B-90.22834188053999%2C%2038.598838071076216%5D%2C%20%5B-90.22832780471381%2C%2038.59890591254052%5D%2C%20%5B-90.2283137277162%2C%2038.59897375309875%5D%2C%20%5B-90.22829824413581%2C%2038.599048377712464%5D%2C%20%5B-90.22806446781516%2C%2038.59901833642294%5D%2C%20%5B-90.22786542028847%2C%2038.59899275792602%5D%5D%5D%2C%20%22type%22%3A%20%22Polygon%22%7D%2C%20%22id%22%3A%20%2213510%22%2C%20%22properties%22%3A%20%7B%22asdtotal%22%3A%201049300%2C%20%22handle%22%3A%2011756000305%2C%20%22nbrofbldgsres%22%3A%201%2C%20%22ressaleprice%22%3A%200.0%2C%20%22zoning%22%3A%20%22B%22%7D%2C%20%22type%22%3A%20%22Feature%22%7D%2C%20%7B%22bbox%22%3A%20%5B-90.23541690101635%2C%2038.62470699230545%2C%20-90.2340608430866%2C%2038.62551353997034%5D%2C%20%22geometry%22%3A%20%7B%22coordinates%22%3A%20%5B%5B%5B-90.2340608430866%2C%2038.62531457422575%5D%2C%20%5B-90.23416509764348%2C%2038.62500837620366%5D%2C%20%5B-90.23426771203007%2C%2038.62470699230545%5D%2C%20%5B-90.23437619003356%2C%2038.624730028202805%5D%2C%20%5B-90.2344609374819%2C%2038.62474802486907%5D%2C%20%5B-90.23454568612132%2C%2038.62476602147666%5D%2C%20%5B-90.2346304348034%2C%2038.62478401802295%5D%2C%20%5B-90.23471518237984%2C%2038.62480201450539%5D%2C%20%5B-90.23479993114732%2C%2038.624820010929085%5D%2C%20%5B-90.23488467995422%2C%2038.624838008192356%5D%2C%20%5B-90.23496942880706%2C%2038.62485600449345%5D%2C%20%5B-90.23505417655421%2C%2038.62487400073071%5D%2C%20%5B-90.23513892548911%2C%2038.62489199781012%5D%2C%20%5B-90.23522367447002%2C%2038.624909993927346%5D%2C%20%5B-90.23530842234524%2C%2038.62492798998071%5D%2C%20%5B-90.23541690101635%2C%2038.6249510258155%5D%2C%20%5B-90.235315362869%2C%2038.62525263836039%5D%2C%20%5B-90.23520678164465%2C%2038.62522958148061%5D%2C%20%5B-90.23512195426005%2C%2038.62521156895901%5D%2C%20%5B-90.23502009852034%2C%2038.62551353997034%5D%2C%20%5B-90.23493505816496%2C%2038.62549590160234%5D%2C%20%5B-90.23485001670313%2C%2038.62547826317007%5D%2C%20%5B-90.23476497643169%2C%2038.62546062467866%5D%2C%20%5B-90.23467993620224%2C%2038.62544298612551%5D%2C%20%5B-90.2345948960148%2C%2038.625425347510635%5D%2C%20%5B-90.23450985586932%2C%2038.625407708834054%5D%2C%20%5B-90.23442481576588%2C%2038.62539007009577%5D%2C%20%5B-90.23433977455933%2C%2038.62537243039229%5D%2C%20%5B-90.23425473453983%2C%2038.62535479153054%5D%2C%20%5B-90.2341696945623%2C%2038.62533715260708%5D%2C%20%5B-90.2340608430866%2C%2038.62531457422575%5D%5D%5D%2C%20%22type%22%3A%20%22Polygon%22%7D%2C%20%22id%22%3A%20%2214173%22%2C%20%22properties%22%3A%20%7B%22asdtotal%22%3A%201079410%2C%20%22handle%22%3A%2011829000020%2C%20%22nbrofbldgsres%22%3A%201%2C%20%22ressaleprice%22%3A%20250000.0%2C%20%22zoning%22%3A%20%22J%22%7D%2C%20%22type%22%3A%20%22Feature%22%7D%2C%20%7B%22bbox%22%3A%20%5B-90.25411261528136%2C%2038.641544701996914%2C%20-90.25268635773054%2C%2038.64236565889926%5D%2C%20%22geometry%22%3A%20%7B%22coordinates%22%3A%20%5B%5B%5B-90.25268635773054%2C%2038.64210924476085%5D%2C%20%5B-90.25287627467748%2C%2038.641544701996914%5D%2C%20%5B-90.25387241352186%2C%2038.64175222869876%5D%2C%20%5B-90.25400638057603%2C%2038.64178013702457%5D%2C%20%5B-90.25411261528136%2C%2038.64180221602628%5D%2C%20%5B-90.25403367707729%2C%2038.642036876954506%5D%2C%20%5B-90.25392307752976%2C%2038.64236565889926%5D%2C%20%5B-90.25268635773054%2C%2038.64210924476085%5D%5D%5D%2C%20%22type%22%3A%20%22Polygon%22%7D%2C%20%22id%22%3A%20%2236988%22%2C%20%22properties%22%3A%20%7B%22asdtotal%22%3A%201416100%2C%20%22handle%22%3A%2013908000330%2C%20%22nbrofbldgsres%22%3A%201%2C%20%22ressaleprice%22%3A%200.0%2C%20%22zoning%22%3A%20%22E%22%7D%2C%20%22type%22%3A%20%22Feature%22%7D%2C%20%7B%22bbox%22%3A%20%5B-90.23792214684796%2C%2038.63524282743997%2C%20-90.23703635651258%2C%2038.63597881006142%5D%2C%20%22geometry%22%3A%20%7B%22coordinates%22%3A%20%5B%5B%5B-90.23704531459748%2C%2038.635808482445846%5D%2C%20%5B-90.2370471062117%2C%2038.635803173935386%5D%2C%20%5B-90.23705248106255%2C%2038.63578724570116%5D%2C%20%5B-90.23723620437256%2C%2038.63524282743997%5D%2C%20%5B-90.23726088008374%2C%2038.63524797622253%5D%2C%20%5B-90.2373377007602%2C%2038.6352640053501%5D%2C%20%5B-90.23792214684796%2C%2038.63538595417469%5D%2C%20%5B-90.2377310414627%2C%2038.635952263853355%5D%2C%20%5B-90.23772611609259%2C%2038.63596686071262%5D%2C%20%5B-90.23772208360892%2C%2038.63597881006142%5D%2C%20%5B-90.23713782001109%2C%2038.63585630300469%5D%2C%20%5B-90.23703635651258%2C%2038.635835027700374%5D%2C%20%5B-90.23704352297973%2C%2038.63581379185717%5D%2C%20%5B-90.23704531459748%2C%2038.635808482445846%5D%5D%5D%2C%20%22type%22%3A%20%22Polygon%22%7D%2C%20%22id%22%3A%20%2237935%22%2C%20%22properties%22%3A%20%7B%22asdtotal%22%3A%203761500%2C%20%22handle%22%3A%2013928000165%2C%20%22nbrofbldgsres%22%3A%201%2C%20%22ressaleprice%22%3A%200.0%2C%20%22zoning%22%3A%20%22H%22%7D%2C%20%22type%22%3A%20%22Feature%22%7D%5D%2C%20%22type%22%3A%20%22FeatureCollection%22%7D%29%3B%0A%0A%20%20%20%20%20%20%20%20%0A%20%20%20%20%0A%20%20%20%20geo_json_634e9571635b42ea93b50bcca17d5e78.bindTooltip%28%0A%20%20%20%20function%28layer%29%7B%0A%20%20%20%20let%20div%20%3D%20L.DomUtil.create%28%27div%27%29%3B%0A%20%20%20%20%0A%20%20%20%20let%20handleObject%20%3D%20feature%3D%3Etypeof%28feature%29%3D%3D%27object%27%20%3F%20JSON.stringify%28feature%29%20%3A%20feature%3B%0A%20%20%20%20let%20fields%20%3D%20%5B%22handle%22%2C%20%22asdtotal%22%5D%3B%0A%20%20%20%20let%20aliases%20%3D%20%5B%22Handle%22%2C%20%22Assessed%20Total%22%5D%3B%0A%20%20%20%20let%20table%20%3D%20%27%3Ctable%3E%27%20%2B%0A%20%20%20%20%20%20%20%20String%28%0A%20%20%20%20%20%20%20%20fields.map%28%0A%20%20%20%20%20%20%20%20%28v%2Ci%29%3D%3E%0A%20%20%20%20%20%20%20%20%60%3Ctr%3E%0A%20%20%20%20%20%20%20%20%20%20%20%20%3Cth%3E%24%7Baliases%5Bi%5D%7D%3C/th%3E%0A%20%20%20%20%20%20%20%20%20%20%20%20%0A%20%20%20%20%20%20%20%20%20%20%20%20%3Ctd%3E%24%7BhandleObject%28layer.feature.properties%5Bv%5D%29%7D%3C/td%3E%0A%20%20%20%20%20%20%20%20%3C/tr%3E%60%29.join%28%27%27%29%29%0A%20%20%20%20%2B%27%3C/table%3E%27%3B%0A%20%20%20%20div.innerHTML%3Dtable%3B%0A%20%20%20%20%0A%20%20%20%20return%20div%0A%20%20%20%20%7D%0A%20%20%20%20%2C%7B%22className%22%3A%20%22foliumtooltip%22%2C%20%22sticky%22%3A%20true%7D%29%3B%0A%20%20%20%20%20%20%20%20%20%20%20%20%20%20%20%20%20%20%20%20%20%0A%3C/script%3E onload=\"this.contentDocument.open();this.contentDocument.write(    decodeURIComponent(this.getAttribute('data-html')));this.contentDocument.close();\" allowfullscreen webkitallowfullscreen mozallowfullscreen></iframe></div></div>"
      ],
      "text/plain": [
       "<folium.folium.Map at 0x7f290ded7cc0>"
      ]
     },
     "execution_count": 30,
     "metadata": {},
     "output_type": "execute_result"
    }
   ],
   "source": [
    "# plot these high-value parcels on a map so we can see what they are\n",
    "m_sm = folium.Map([38.636, -90.238], tiles='openstreetmap', zoom_start=17)\n",
    "\n",
    "folium.GeoJson(\n",
    "    highval_parcels,\n",
    "    tooltip=folium.GeoJsonTooltip(\n",
    "        fields=['handle', 'asdtotal'],\n",
    "        aliases=['Handle', 'Assessed Total']\n",
    "    )\n",
    ").add_to(m_sm)\n",
    "\n",
    "m_sm"
   ]
  },
  {
   "cell_type": "markdown",
   "metadata": {},
   "source": [
    "The highest value parcel is Spring Hall on the Saint Louis University Campus"
   ]
  },
  {
   "cell_type": "code",
   "execution_count": 55,
   "metadata": {},
   "outputs": [
    {
     "name": "stdout",
     "output_type": "stream",
     "text": [
      "There are 561 parcels with more than one residential building (out of 98668 total parcels).\n"
     ]
    }
   ],
   "source": [
    "# how common are parcels with multiple residential buildings?\n",
    "print('There are {} parcels with more than one residential building (out of {} total parcels).'.format(\n",
    "    gdf_parcels.loc[gdf_parcels['nbrofbldgsres'] > 1].shape[0],gdf_parcels.shape[0]))\n"
   ]
  },
  {
   "cell_type": "markdown",
   "metadata": {},
   "source": [
    "### Hypothesis testing\n",
    "\n",
    "H0 : Average value of parcels available to offenders <= average value of parcels restricted from offenders\n",
    "\n",
    "H1 : Average value of parcels available to offenders > average value of parcels restricted from offenders\n"
   ]
  },
  {
   "cell_type": "code",
   "execution_count": 20,
   "metadata": {},
   "outputs": [],
   "source": [
    "import numpy as np\n",
    "import scipy.stats as stats\n"
   ]
  },
  {
   "cell_type": "markdown",
   "metadata": {},
   "source": [
    "#### Probability density"
   ]
  },
  {
   "cell_type": "code",
   "execution_count": 21,
   "metadata": {},
   "outputs": [
    {
     "data": {
      "image/png": "[encoded data removed]",
      "text/plain": [
       "<Figure size 504x360 with 1 Axes>"
      ]
     },
     "metadata": {},
     "output_type": "display_data"
    }
   ],
   "source": [
    "# Hypothesis testing analysis and results\n",
    "# ---------------------------------------\n",
    "\n",
    "# First, plot the distributions of each partition vs. the whole data set \n",
    "# so we can get an idea of what we're working with.\n",
    "# Then, generate z-scores and p-values.\n",
    "# Use an alpha (𝛼) threshold of 0.05, i.e. a 95% confidence interval\n",
    "\n",
    "fig, ax = plt.subplots(figsize=(7,5), facecolor='white')\n",
    "\n",
    "ax.xaxis.set_major_formatter(formatter)\n",
    "\n",
    "# cut the plotting range at so we can actually see the plots (else a few outliers - see cells above - pull it way to the right)\n",
    "# set the x-axis limit based on the 99th percentile value of the overall parcel dataset\n",
    "x = np.arange(0,gdf_parcels['asdtotal'].quantile(0.99),1)\n",
    "\n",
    "# stats for full data set (all parcels)\n",
    "mu = gdf_parcels.asdtotal.mean()\n",
    "sigma = gdf_parcels.asdtotal.std()\n",
    "\n",
    "# Plot a normal distribution: \"Probability Density Function\"\n",
    "y = stats.norm.pdf(x, mu, sigma)\n",
    "plt.plot(x,y,'k-',label='All Parcels')\n",
    "\n",
    "# inputs and plot for nonrestricted parcel distribution\n",
    "small_mu = gdf_res_remain.asdtotal.mean()\n",
    "small_sigma = gdf_res_remain.asdtotal.std()\n",
    "small_count = len(gdf_res_remain.asdtotal)\n",
    "y = stats.norm.pdf(x, small_mu, small_sigma)\n",
    "plt.plot(x,y*small_count/len(gdf_parcels.asdtotal),'b--', label='Parcels Available to Offenders')\n",
    "\n",
    "# inputs and plot for restricted parcel distribution\n",
    "large_mu = gdf_res_restricted.asdtotal.mean()\n",
    "large_sigma = gdf_res_restricted.asdtotal.std()\n",
    "large_count = len(gdf_res_restricted.asdtotal)\n",
    "y = stats.norm.pdf(x, large_mu, large_sigma)\n",
    "plt.plot(x,y*large_count/len(gdf_parcels.asdtotal),'r--', label='Parcels Restricted from Offenders')\n",
    "\n",
    "# set up legend & axis labels\n",
    "plt.legend(loc='upper right', facecolor='lightgrey', framealpha=0.4)\n",
    "plt.xlabel('Assessed Value')\n",
    "plt.ylabel(\"Probability Density\")\n",
    "\n",
    "# hide box around the plot\n",
    "for spine in ax.spines:\n",
    "    ax.spines[spine].set_visible(False)\n",
    "\n",
    "plt.show()\n"
   ]
  },
  {
   "cell_type": "markdown",
   "metadata": {},
   "source": [
    "#### Confidence intervals"
   ]
  },
  {
   "cell_type": "code",
   "execution_count": 22,
   "metadata": {},
   "outputs": [
    {
     "name": "stdout",
     "output_type": "stream",
     "text": [
      "Mean price for parcels available to offenders is $23,874 with a 95% CI of [23593.22, 24154.16]\n",
      "Mean price for parcels restricted from offenders is $19,981 with a 95% CI of [19753.68, 20207.67]\n",
      "Mean price for all homes is $21,896 with a 95% CI of [21715.7, 22076.17]\n",
      "SEM of full dataset = 91.96\n"
     ]
    }
   ],
   "source": [
    "# calculate CI values for nonrestricted parcels\n",
    "sample_var = np.var(gdf_res_remain.asdtotal, ddof=0)\n",
    "SEM = np.sqrt(sample_var) / np.sqrt(len(gdf_res_remain.asdtotal))\n",
    "ci_res_remain = stats.norm.interval(.95, loc = small_mu, scale= SEM)\n",
    "\n",
    "print('Mean price for parcels available to offenders is ${:,.0f} with a 95% CI of [{}, {}]'\n",
    "      .format(round(small_mu,2), round(ci_res_remain[0],2), round(ci_res_remain[1],2)))\n",
    "\n",
    "\n",
    "# calculate CI values for restricted parcels\n",
    "sample_var = np.var(gdf_res_restricted.asdtotal, ddof=0)\n",
    "SEM = np.sqrt(sample_var) / np.sqrt(len(gdf_res_restricted.asdtotal))\n",
    "ci_res_restricted = stats.norm.interval(.95, loc = large_mu, scale= SEM)\n",
    "\n",
    "print('Mean price for parcels restricted from offenders is ${:,.0f} with a 95% CI of [{}, {}]'\n",
    "      .format(round(large_mu,2), round(ci_res_restricted[0],2), round(ci_res_restricted[1],2)))\n",
    "\n",
    "\n",
    "# calculate CI values for entire dataset\n",
    "sample_var = np.var(gdf_parcels.asdtotal, ddof=0)\n",
    "SEM = np.sqrt(sample_var) / np.sqrt(len(gdf_parcels.asdtotal))\n",
    "ci_all = stats.norm.interval(.95, loc = mu, scale= SEM)\n",
    "\n",
    "print('Mean price for all homes is ${:,.0f} with a 95% CI of [{}, {}]'\n",
    "      .format(round(mu,2),round(ci_all[0],2), round(ci_all[1],2)))\n",
    "print('SEM of full dataset =',round(SEM,2))"
   ]
  },
  {
   "cell_type": "code",
   "execution_count": 24,
   "metadata": {},
   "outputs": [
    {
     "data": {
      "text/html": [
       "<style type=\"text/css\">\n",
       "#T_d1a2e_row0_col0, #T_d1a2e_row1_col0, #T_d1a2e_row2_col0, #T_d1a2e_row3_col0, #T_d1a2e_row4_col0, #T_d1a2e_row5_col0, #T_d1a2e_row6_col0, #T_d1a2e_row7_col0, #T_d1a2e_row8_col0 {\n",
       "  font-weight: bold;\n",
       "}\n",
       "#T_d1a2e_row0_col1, #T_d1a2e_row1_col1, #T_d1a2e_row2_col1, #T_d1a2e_row3_col1, #T_d1a2e_row4_col1, #T_d1a2e_row5_col1, #T_d1a2e_row6_col1, #T_d1a2e_row7_col1, #T_d1a2e_row8_col1 {\n",
       "  color: blue;\n",
       "}\n",
       "#T_d1a2e_row0_col2, #T_d1a2e_row1_col2, #T_d1a2e_row2_col2, #T_d1a2e_row3_col2, #T_d1a2e_row4_col2, #T_d1a2e_row5_col2, #T_d1a2e_row6_col2, #T_d1a2e_row7_col2, #T_d1a2e_row8_col2 {\n",
       "  color: red;\n",
       "}\n",
       "</style>\n",
       "<table id=\"T_d1a2e_\">\n",
       "  <thead>\n",
       "    <tr>\n",
       "      <th class=\"blank level0\" >&nbsp;</th>\n",
       "      <th class=\"col_heading level0 col0\" >All Parcels</th>\n",
       "      <th class=\"col_heading level0 col1\" >Available to Offenders</th>\n",
       "      <th class=\"col_heading level0 col2\" >Restricted from Offenders</th>\n",
       "    </tr>\n",
       "  </thead>\n",
       "  <tbody>\n",
       "    <tr>\n",
       "      <th id=\"T_d1a2e_level0_row0\" class=\"row_heading level0 row0\" >count</th>\n",
       "      <td id=\"T_d1a2e_row0_col0\" class=\"data row0 col0\" >98,668</td>\n",
       "      <td id=\"T_d1a2e_row0_col1\" class=\"data row0 col1\" >48,542</td>\n",
       "      <td id=\"T_d1a2e_row0_col2\" class=\"data row0 col2\" >50,126</td>\n",
       "    </tr>\n",
       "    <tr>\n",
       "      <th id=\"T_d1a2e_level0_row1\" class=\"row_heading level0 row1\" >mean</th>\n",
       "      <td id=\"T_d1a2e_row1_col0\" class=\"data row1 col0\" >$21,896</td>\n",
       "      <td id=\"T_d1a2e_row1_col1\" class=\"data row1 col1\" >$23,874</td>\n",
       "      <td id=\"T_d1a2e_row1_col2\" class=\"data row1 col2\" >$19,981</td>\n",
       "    </tr>\n",
       "    <tr>\n",
       "      <th id=\"T_d1a2e_level0_row2\" class=\"row_heading level0 row2\" >ci_95</th>\n",
       "      <td id=\"T_d1a2e_row2_col0\" class=\"data row2 col0\" >(21715, 22076)</td>\n",
       "      <td id=\"T_d1a2e_row2_col1\" class=\"data row2 col1\" >(23593, 24154)</td>\n",
       "      <td id=\"T_d1a2e_row2_col2\" class=\"data row2 col2\" >(19753, 20207)</td>\n",
       "    </tr>\n",
       "    <tr>\n",
       "      <th id=\"T_d1a2e_level0_row3\" class=\"row_heading level0 row3\" >std</th>\n",
       "      <td id=\"T_d1a2e_row3_col0\" class=\"data row3 col0\" >$28,886</td>\n",
       "      <td id=\"T_d1a2e_row3_col1\" class=\"data row3 col1\" >$31,528</td>\n",
       "      <td id=\"T_d1a2e_row3_col2\" class=\"data row3 col2\" >$25,930</td>\n",
       "    </tr>\n",
       "    <tr>\n",
       "      <th id=\"T_d1a2e_level0_row4\" class=\"row_heading level0 row4\" >min</th>\n",
       "      <td id=\"T_d1a2e_row4_col0\" class=\"data row4 col0\" >$0</td>\n",
       "      <td id=\"T_d1a2e_row4_col1\" class=\"data row4 col1\" >$0</td>\n",
       "      <td id=\"T_d1a2e_row4_col2\" class=\"data row4 col2\" >$0</td>\n",
       "    </tr>\n",
       "    <tr>\n",
       "      <th id=\"T_d1a2e_level0_row5\" class=\"row_heading level0 row5\" >25%</th>\n",
       "      <td id=\"T_d1a2e_row5_col0\" class=\"data row5 col0\" >$4,510</td>\n",
       "      <td id=\"T_d1a2e_row5_col1\" class=\"data row5 col1\" >$5,880</td>\n",
       "      <td id=\"T_d1a2e_row5_col2\" class=\"data row5 col2\" >$3,690</td>\n",
       "    </tr>\n",
       "    <tr>\n",
       "      <th id=\"T_d1a2e_level0_row6\" class=\"row_heading level0 row6\" >50%</th>\n",
       "      <td id=\"T_d1a2e_row6_col0\" class=\"data row6 col0\" >$16,970</td>\n",
       "      <td id=\"T_d1a2e_row6_col1\" class=\"data row6 col1\" >$19,575</td>\n",
       "      <td id=\"T_d1a2e_row6_col2\" class=\"data row6 col2\" >$13,490</td>\n",
       "    </tr>\n",
       "    <tr>\n",
       "      <th id=\"T_d1a2e_level0_row7\" class=\"row_heading level0 row7\" >75%</th>\n",
       "      <td id=\"T_d1a2e_row7_col0\" class=\"data row7 col0\" >$30,860</td>\n",
       "      <td id=\"T_d1a2e_row7_col1\" class=\"data row7 col1\" >$31,890</td>\n",
       "      <td id=\"T_d1a2e_row7_col2\" class=\"data row7 col2\" >$29,620</td>\n",
       "    </tr>\n",
       "    <tr>\n",
       "      <th id=\"T_d1a2e_level0_row8\" class=\"row_heading level0 row8\" >max</th>\n",
       "      <td id=\"T_d1a2e_row8_col0\" class=\"data row8 col0\" >$3,761,500</td>\n",
       "      <td id=\"T_d1a2e_row8_col1\" class=\"data row8 col1\" >$3,761,500</td>\n",
       "      <td id=\"T_d1a2e_row8_col2\" class=\"data row8 col2\" >$1,416,100</td>\n",
       "    </tr>\n",
       "  </tbody>\n",
       "</table>\n"
      ],
      "text/plain": [
       "<pandas.io.formats.style.Styler at 0x7f290f9b5b00>"
      ]
     },
     "execution_count": 24,
     "metadata": {},
     "output_type": "execute_result"
    }
   ],
   "source": [
    "# insert confidence interval data into the summary dataframe from above\n",
    "\n",
    "# set dictionary of confidence interval data so that we can create a df from it\n",
    "ci_data = {'data':['ci_95'],\n",
    "           'All Parcels':[tuple(map(int, ci_all))], # convert values in tuple to INTs, then insert into df\n",
    "           'Available to Offenders':[tuple(map(int, ci_res_remain))],\n",
    "           'Restricted from Offenders':[tuple(map(int, ci_res_restricted))]}\n",
    "\n",
    "# set up a new, single-line df for the confidence interval data\n",
    "ci_df = pd.DataFrame(ci_data).set_index('data')\n",
    "\n",
    "# add the new line to the existing df\n",
    "df_concat2 = df_concat.append(ci_df)\n",
    "\n",
    "# reorder the rows so we can present the CI right after the mean\n",
    "df_concat2 = df_concat2.reindex(['count','mean','ci_95']).append(df_concat2.iloc[2:len(df_concat2)-1])\n",
    "\n",
    "# display the table\n",
    "df_concat2.style.set_properties(\n",
    "    subset=['All Parcels'], **{'font-weight': 'bold'}\n",
    ").set_properties(\n",
    "    subset=['Available to Offenders'], **{'color': 'blue'}).set_properties(\n",
    "    subset=['Restricted from Offenders'], **{'color': 'red'})"
   ]
  },
  {
   "cell_type": "markdown",
   "metadata": {},
   "source": [
    "### T-test"
   ]
  },
  {
   "cell_type": "code",
   "execution_count": 27,
   "metadata": {},
   "outputs": [
    {
     "name": "stdout",
     "output_type": "stream",
     "text": [
      "Variance of gdf_res_remain.asdtotal: 994018029.199686\n",
      "Variance of gdf_res_restricted.asdtotal: 672339953.6554478\n",
      "Ratio of variances: 1.4784455747353782\n"
     ]
    }
   ],
   "source": [
    "from statistics import pvariance \n",
    "\n",
    "# calculate sample variance\n",
    "gdf_res_remain_var = pvariance(gdf_res_remain.asdtotal)\n",
    "gdf_res_restricted_var = pvariance(gdf_res_restricted.asdtotal)\n",
    "\n",
    "print(\"Variance of gdf_res_remain.asdtotal:\",gdf_res_remain_var)\n",
    "print(\"Variance of gdf_res_restricted.asdtotal:\",gdf_res_restricted_var)\n",
    "\n",
    "# ratio\n",
    "print(\"Ratio of variances:\",gdf_res_remain_var/gdf_res_restricted_var)\n"
   ]
  },
  {
   "cell_type": "code",
   "execution_count": 28,
   "metadata": {},
   "outputs": [
    {
     "name": "stdout",
     "output_type": "stream",
     "text": [
      "Available to offenders vs. Restricted from offenders t-statistic = 21.21, with a p-value of 1.2283552916922269e-99\n",
      "\n"
     ]
    }
   ],
   "source": [
    "# conduct the t-test\n",
    "# we have a roughly equal sample variance (see above), so we can set equal_var=True\n",
    "# setting `equal_var=False` performs a Welch’s t-test, which does not assume equal population variance\n",
    "available_to_restr = stats.ttest_ind(gdf_res_remain.asdtotal,gdf_res_restricted.asdtotal, equal_var=True) \n",
    "\n",
    "print('Available to offenders vs. Restricted from offenders t-statistic = {}, with a p-value of {}'.format(\n",
    "        round(available_to_restr[0],2),available_to_restr[1]))\n",
    "print()"
   ]
  },
  {
   "cell_type": "markdown",
   "metadata": {},
   "source": [
    "Based on the above work, we should reject the null hypothesis. These results confirm that there is indeed a notable difference in parcel values between our two groups, specificially that the nonrestricted parcels trend to higher values. The residential restrictions do result in a cost of living (housing) impacts for sex offenders. "
   ]
  },
  {
   "cell_type": "code",
   "execution_count": 31,
   "metadata": {},
   "outputs": [],
   "source": [
    "conn.close()"
   ]
  },
  {
   "cell_type": "markdown",
   "metadata": {},
   "source": [
    "# Summary\n",
    "\n",
    "We have successfully answered the second question for this project, with both statistical analysis and graphics to support our result. We can move on to the third and final ask. "
   ]
  }
 ],
 "metadata": {
  "kernelspec": {
   "display_name": "Python 3",
   "language": "python",
   "name": "python3"
  },
  "language_info": {
   "codemirror_mode": {
    "name": "ipython",
    "version": 3
   },
   "file_extension": ".py",
   "mimetype": "text/x-python",
   "name": "python",
   "nbconvert_exporter": "python",
   "pygments_lexer": "ipython3",
   "version": "3.7.3"
  }
 },
 "nbformat": 4,
 "nbformat_minor": 2
}
