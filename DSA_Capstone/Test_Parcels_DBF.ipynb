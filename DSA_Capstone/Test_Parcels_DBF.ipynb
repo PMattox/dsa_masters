{
 "cells": [
  {
   "cell_type": "code",
   "execution_count": 3,
   "metadata": {},
   "outputs": [],
   "source": [
    "import geopandas as gpd\n"
   ]
  },
  {
   "cell_type": "code",
   "execution_count": 4,
   "metadata": {},
   "outputs": [],
   "source": [
    "file = 'test/par.dbf'\n"
   ]
  },
  {
   "cell_type": "code",
   "execution_count": 5,
   "metadata": {},
   "outputs": [],
   "source": [
    "dbf_df = gpd.read_file(file)\n"
   ]
  },
  {
   "cell_type": "code",
   "execution_count": 7,
   "metadata": {},
   "outputs": [
    {
     "name": "stdout",
     "output_type": "stream",
     "text": [
      "<class 'geopandas.geodataframe.GeoDataFrame'>\n",
      "RangeIndex: 127425 entries, 0 to 127424\n",
      "Data columns (total 87 columns):\n",
      "HANDLE        127425 non-null object\n",
      "UPDATED       127425 non-null object\n",
      "SITEADDR      127425 non-null object\n",
      "OWNERNAME     127372 non-null object\n",
      "OWNERNAME2    13161 non-null object\n",
      "OWNERADDR     125674 non-null object\n",
      "OWNERCITY     125640 non-null object\n",
      "OWNERSTATE    123714 non-null object\n",
      "OWNERCNTRY    44225 non-null object\n",
      "OWNERZIP      125653 non-null object\n",
      "OWNERGROUP    13693 non-null object\n",
      "NUMUNITS      127425 non-null int64\n",
      "ZONING1       126743 non-null object\n",
      "ZONING2       448 non-null object\n",
      "ZONING3       15 non-null object\n",
      "VACANTLAND    127425 non-null object\n",
      "ASMTLAND      127425 non-null int64\n",
      "ASMTIMPROV    127425 non-null int64\n",
      "ASMTTOTAL     127425 non-null int64\n",
      "LANDUSE1      127425 non-null int64\n",
      "LANDUSE2      127425 non-null int64\n",
      "LANDUSE3      127425 non-null int64\n",
      "LANDUSE4      127425 non-null int64\n",
      "ASRUSE1       127425 non-null int64\n",
      "ASRUSE2       127425 non-null int64\n",
      "ASRUSE3       127425 non-null int64\n",
      "ASRUSE4       127425 non-null int64\n",
      "ASRCLASS1     127425 non-null int64\n",
      "ASRCLASS2     127425 non-null int64\n",
      "ASRCLASS3     127425 non-null int64\n",
      "ASRCLASS4     127425 non-null int64\n",
      "LEGAL1        126667 non-null object\n",
      "LEGAL2        126720 non-null object\n",
      "LEGAL3        126459 non-null object\n",
      "LEGAL4        124732 non-null object\n",
      "LEGAL5        38695 non-null object\n",
      "NUMBLDGS      127425 non-null int64\n",
      "LANDAREA      127425 non-null int64\n",
      "FRONTAGE      127425 non-null float64\n",
      "DAILYDATE     120201 non-null object\n",
      "DAILYNUM      127425 non-null object\n",
      "BOOKNUM       74609 non-null object\n",
      "BOOKPAGE      127425 non-null object\n",
      "BDG1YEAR      127425 non-null int64\n",
      "BDG1AREA      127425 non-null int64\n",
      "BDG1EXWALL    127425 non-null int64\n",
      "BDG1STRYCD    127425 non-null int64\n",
      "BDG1OCCCD     127425 non-null int64\n",
      "CITYBLOCK     127425 non-null float64\n",
      "PARCEL        127425 non-null float64\n",
      "PARITY        127425 non-null object\n",
      "ADDRNUM       127425 non-null int64\n",
      "ADDRSUF       1203 non-null object\n",
      "STREETPRE     11566 non-null object\n",
      "STREETNAME    127425 non-null object\n",
      "STREETSUF     125982 non-null object\n",
      "STRSUFDIR     16 non-null object\n",
      "UNITNUM       30 non-null object\n",
      "CDADIST       127425 non-null int64\n",
      "CDASUBDIST    127425 non-null int64\n",
      "WARD          127425 non-null int64\n",
      "PRECINCT02    127425 non-null int64\n",
      "PRECINCT04    127425 non-null int64\n",
      "NBRHD         127425 non-null int64\n",
      "ASRNBRHD      127425 non-null int64\n",
      "CENSBLOCK     127425 non-null object\n",
      "POLICEDIST    127425 non-null int64\n",
      "ZIP           127425 non-null int64\n",
      "IMPACTAREA    127425 non-null int64\n",
      "HSCONSERV     127425 non-null int64\n",
      "OWNEROCC      56773 non-null object\n",
      "VACBLDGYR     127425 non-null int64\n",
      "PARCEL10      127425 non-null int64\n",
      "CENTRACT10    127425 non-null float64\n",
      "CENBLOCK10    127425 non-null int64\n",
      "WARD10        127425 non-null int64\n",
      "PRECINCT10    127425 non-null int64\n",
      "INSPAREA10    127425 non-null int64\n",
      "LEAFAREA      127425 non-null int64\n",
      "BLOCKPART     127425 non-null float64\n",
      "ASRPARCEL     127425 non-null object\n",
      "CENTRACT20    127425 non-null float64\n",
      "CENBLOCK20    127425 non-null int64\n",
      "WARD20        127425 non-null int64\n",
      "PRECINCT20    127425 non-null int64\n",
      "INSPAREA20    127425 non-null int64\n",
      "geometry      0 non-null geometry\n",
      "dtypes: float64(6), geometry(1), int64(46), object(34)\n",
      "memory usage: 84.6+ MB\n"
     ]
    }
   ],
   "source": [
    "dbf_df.info()"
   ]
  },
  {
   "cell_type": "code",
   "execution_count": 13,
   "metadata": {
    "scrolled": true
   },
   "outputs": [
    {
     "name": "stdout",
     "output_type": "stream",
     "text": [
      "HANDLE         10041000080\n",
      "UPDATED         2022-01-28\n",
      "SITEADDR      700 S 2ND ST\n",
      "OWNERNAME              LRA\n",
      "OWNERNAME2            None\n",
      "                  ...     \n",
      "CENBLOCK20            1067\n",
      "WARD20                   8\n",
      "PRECINCT20               0\n",
      "INSPAREA20               0\n",
      "geometry              None\n",
      "Name: 100, Length: 87, dtype: object\n"
     ]
    }
   ],
   "source": [
    "print(dbf_df.iloc[100])"
   ]
  },
  {
   "cell_type": "code",
   "execution_count": 34,
   "metadata": {},
   "outputs": [
    {
     "data": {
      "text/plain": [
       "<GeometryArray>\n",
       "[]\n",
       "Length: 0, dtype: geometry"
      ]
     },
     "execution_count": 34,
     "metadata": {},
     "output_type": "execute_result"
    }
   ],
   "source": [
    "u1 = dbf_df['geometry'].unique()\n",
    "u1"
   ]
  },
  {
   "cell_type": "markdown",
   "metadata": {},
   "source": [
    "### This file does not contain any geometry info!"
   ]
  },
  {
   "cell_type": "code",
   "execution_count": null,
   "metadata": {},
   "outputs": [],
   "source": []
  }
 ],
 "metadata": {
  "kernelspec": {
   "display_name": "Python 3",
   "language": "python",
   "name": "python3"
  },
  "language_info": {
   "codemirror_mode": {
    "name": "ipython",
    "version": 3
   },
   "file_extension": ".py",
   "mimetype": "text/x-python",
   "name": "python",
   "nbconvert_exporter": "python",
   "pygments_lexer": "ipython3",
   "version": "3.7.3"
  }
 },
 "nbformat": 4,
 "nbformat_minor": 2
}
